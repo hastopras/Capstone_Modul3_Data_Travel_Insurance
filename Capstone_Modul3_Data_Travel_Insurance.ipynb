{
 "cells": [
  {
   "cell_type": "markdown",
   "metadata": {},
   "source": [
    "# **Travel Insurance**"
   ]
  },
  {
   "cell_type": "markdown",
   "metadata": {},
   "source": [
    "## **1. Business Problem Understanding**"
   ]
  },
  {
   "cell_type": "markdown",
   "metadata": {},
   "source": [
    "___"
   ]
  },
  {
   "cell_type": "markdown",
   "metadata": {},
   "source": [
    "**Context**\n",
    "\n",
    "Asuransi perjalanan adalah jenis asuransi yang memberikan perlindungan selama kita melakukan perjalanan baik di dalam negeri maupun di luar negeri. Beberapa negara bahkan mewajibkan pelancong untuk memiliki asuransi perjalanan, misalnya negara-negara di Eropa dan Amerika. Besarnya premi tergantung pada pertanggungan yang diinginkan, lama perjalanan, dan tujuan perjalanan. Sebuah perusahaan yang bergerak di bidang asuransi perjalanan ingin mengetahui pemegang polis yang akan mengajukan klaim asuransi untuk pertanggungan. Data pemegang polis pada perusahaan asuransi adalah data historis yang terdiri dari destinasi, produk asuransi, dan sebagainya."
   ]
  },
  {
   "cell_type": "markdown",
   "metadata": {},
   "source": [
    "**Problem Statement**\n",
    "\n",
    "Permasalahan yang terjadi yaitu orang-orang setelah melakukan perjalanan mengajukan klaim asuransi dan orang-orang setelah melakukan perjalanan tidak mengajukan klaim asuransi dalam hal ini perusahaan agen merekrut freelance data science untuk memprediksi orang-orang mengajukan klaim dan orang-orang tidak mengajukan klaim setelah perjalanan. sasaran yang dituju untuk freelance yaitu Divisi Marketing pada perusahaan asuransi.\n",
    "\n",
    "**Goals**\n",
    "\n",
    "- Memprediksi orang-orang yang tidak mengajukan klaim ke asuransi setelah perjalanan, apakah melakukan perjalanan tetapi lupa untuk klaim ke asuransi\n",
    "\n",
    "**Analytic Approach**\n",
    "\n",
    "setelah melakukan prediksi yaitu orang-orang yang tidak mengajukan klaim ke asuransi setelah perjalanan, maka perusahaan asuransi mengetahui dampak kerugian dalam sekali perjalanan yang tidak klaim\n",
    "\n",
    "**Metric Evaluation**\n",
    "\n",
    "Berdasarkan permasalahan yang terjadi freelance membuat target prediksi sebagai berikut: \n",
    "\n",
    "Target:\n",
    "\n",
    "- 0 : Tidak Klaim Asuransi Perjalanan\n",
    "- 1 : Klaim Asuransi Perjalanan\n",
    "\n",
    "freelance memprediksi 2 kondisi terjadi sebagai berikut:\n",
    "\n",
    "- Kondisi 1 (False Positive) : Aktual orang tidak klaim asuransi perjalanan prediksi klaim asuransi perjalanan\n",
    "- Kondisi 2 (False Negative)  : Aktual orang klaim asuransi perjalanan prediksi tidak klaim asuransi perjalanan\n",
    "\n",
    "Gambaran umum untuk mengurangi kerugian asuransi perjalanan dengan asumsi sebagai berikut:\n",
    "\n",
    "- ketentuan harga penjualan asuransi bergantung pada harga perjalanan disini saya menggunakan harga total perjalanan $3000 dengan asumsi net sales 5% dari jumlah harga total perjalanan yaitu $300 tahun 2023 [[Sumber](https://www.forbes.com/advisor/travel-insurance/average-travel-insurance-cost/)]\n",
    "\n",
    "Saya berasumsi 2 kondisi diatas False Negative naik dari False Positive turun, maka saya akan membuat model yang dapat mengurangi jumlah false negative adalah memakai metode Recall Score \n"
   ]
  },
  {
   "cell_type": "markdown",
   "metadata": {},
   "source": [
    "## **2. Data Understanding**"
   ]
  },
  {
   "cell_type": "markdown",
   "metadata": {},
   "source": [
    "____"
   ]
  },
  {
   "cell_type": "markdown",
   "metadata": {},
   "source": [
    "saya menguraikan data understanding teridiri dari Load Dataset, info data, missing value, duplikat data, Keunikan Data"
   ]
  },
  {
   "cell_type": "markdown",
   "metadata": {},
   "source": [
    "### **2.1 Load Dataset**"
   ]
  },
  {
   "cell_type": "markdown",
   "metadata": {},
   "source": [
    "Mengupload dan memprediksi dataset sudah ada yaitu 'Travel_Insurance.csv' "
   ]
  },
  {
   "cell_type": "code",
   "execution_count": 743,
   "metadata": {},
   "outputs": [],
   "source": [
    "# Library\n",
    "import pandas as pd\n",
    "import numpy as np\n",
    "import seaborn as sns \n",
    "import matplotlib.pyplot as plt\n",
    "\n",
    "# statistics\n",
    "from scipy.stats import normaltest\n",
    "\n",
    "import warnings\n",
    "warnings.filterwarnings('ignore')"
   ]
  },
  {
   "cell_type": "code",
   "execution_count": 744,
   "metadata": {},
   "outputs": [
    {
     "data": {
      "text/html": [
       "<div>\n",
       "<style scoped>\n",
       "    .dataframe tbody tr th:only-of-type {\n",
       "        vertical-align: middle;\n",
       "    }\n",
       "\n",
       "    .dataframe tbody tr th {\n",
       "        vertical-align: top;\n",
       "    }\n",
       "\n",
       "    .dataframe thead th {\n",
       "        text-align: right;\n",
       "    }\n",
       "</style>\n",
       "<table border=\"1\" class=\"dataframe\">\n",
       "  <thead>\n",
       "    <tr style=\"text-align: right;\">\n",
       "      <th></th>\n",
       "      <th>Agency</th>\n",
       "      <th>Agency Type</th>\n",
       "      <th>Distribution Channel</th>\n",
       "      <th>Product Name</th>\n",
       "      <th>Gender</th>\n",
       "      <th>Duration</th>\n",
       "      <th>Destination</th>\n",
       "      <th>Net Sales</th>\n",
       "      <th>Commision (in value)</th>\n",
       "      <th>Age</th>\n",
       "      <th>Claim</th>\n",
       "    </tr>\n",
       "  </thead>\n",
       "  <tbody>\n",
       "    <tr>\n",
       "      <th>0</th>\n",
       "      <td>C2B</td>\n",
       "      <td>Airlines</td>\n",
       "      <td>Online</td>\n",
       "      <td>Annual Silver Plan</td>\n",
       "      <td>F</td>\n",
       "      <td>365</td>\n",
       "      <td>SINGAPORE</td>\n",
       "      <td>216.0</td>\n",
       "      <td>54.0</td>\n",
       "      <td>57</td>\n",
       "      <td>No</td>\n",
       "    </tr>\n",
       "    <tr>\n",
       "      <th>1</th>\n",
       "      <td>EPX</td>\n",
       "      <td>Travel Agency</td>\n",
       "      <td>Online</td>\n",
       "      <td>Cancellation Plan</td>\n",
       "      <td>NaN</td>\n",
       "      <td>4</td>\n",
       "      <td>MALAYSIA</td>\n",
       "      <td>10.0</td>\n",
       "      <td>0.0</td>\n",
       "      <td>33</td>\n",
       "      <td>No</td>\n",
       "    </tr>\n",
       "    <tr>\n",
       "      <th>2</th>\n",
       "      <td>JZI</td>\n",
       "      <td>Airlines</td>\n",
       "      <td>Online</td>\n",
       "      <td>Basic Plan</td>\n",
       "      <td>M</td>\n",
       "      <td>19</td>\n",
       "      <td>INDIA</td>\n",
       "      <td>22.0</td>\n",
       "      <td>7.7</td>\n",
       "      <td>26</td>\n",
       "      <td>No</td>\n",
       "    </tr>\n",
       "    <tr>\n",
       "      <th>3</th>\n",
       "      <td>EPX</td>\n",
       "      <td>Travel Agency</td>\n",
       "      <td>Online</td>\n",
       "      <td>2 way Comprehensive Plan</td>\n",
       "      <td>NaN</td>\n",
       "      <td>20</td>\n",
       "      <td>UNITED STATES</td>\n",
       "      <td>112.0</td>\n",
       "      <td>0.0</td>\n",
       "      <td>59</td>\n",
       "      <td>No</td>\n",
       "    </tr>\n",
       "    <tr>\n",
       "      <th>4</th>\n",
       "      <td>C2B</td>\n",
       "      <td>Airlines</td>\n",
       "      <td>Online</td>\n",
       "      <td>Bronze Plan</td>\n",
       "      <td>M</td>\n",
       "      <td>8</td>\n",
       "      <td>SINGAPORE</td>\n",
       "      <td>16.0</td>\n",
       "      <td>4.0</td>\n",
       "      <td>28</td>\n",
       "      <td>No</td>\n",
       "    </tr>\n",
       "  </tbody>\n",
       "</table>\n",
       "</div>"
      ],
      "text/plain": [
       "  Agency    Agency Type Distribution Channel              Product Name Gender  \\\n",
       "0    C2B       Airlines               Online        Annual Silver Plan      F   \n",
       "1    EPX  Travel Agency               Online         Cancellation Plan    NaN   \n",
       "2    JZI       Airlines               Online                Basic Plan      M   \n",
       "3    EPX  Travel Agency               Online  2 way Comprehensive Plan    NaN   \n",
       "4    C2B       Airlines               Online               Bronze Plan      M   \n",
       "\n",
       "   Duration    Destination  Net Sales  Commision (in value)  Age Claim  \n",
       "0       365      SINGAPORE      216.0                  54.0   57    No  \n",
       "1         4       MALAYSIA       10.0                   0.0   33    No  \n",
       "2        19          INDIA       22.0                   7.7   26    No  \n",
       "3        20  UNITED STATES      112.0                   0.0   59    No  \n",
       "4         8      SINGAPORE       16.0                   4.0   28    No  "
      ]
     },
     "execution_count": 744,
     "metadata": {},
     "output_type": "execute_result"
    }
   ],
   "source": [
    "df = pd.read_csv(\"data_travel_insurance.csv\")\n",
    "df.head()"
   ]
  },
  {
   "cell_type": "markdown",
   "metadata": {},
   "source": [
    "**Keterangan Kolom:**\n",
    "\n",
    "- Agensi: Nama agensi.\n",
    "- Jenis Agensi: Jenis agen asuransi perjalanan.\n",
    "- Saluran Distribusi: Saluran agen asuransi perjalanan.\n",
    "- Nama Produk: Nama produk asuransi perjalanan.\n",
    "- Jenis kelamin: Jenis kelamin tertanggung.\n",
    "- Durasi: Durasi perjalanan.\n",
    "- Tujuan: Tujuan perjalanan.\n",
    "- Penjualan Bersih: Jumlah penjualan polis asuransi perjalanan.\n",
    "- Komisi (dalam nilai): Komisi yang diterima untuk agen asuransi perjalanan.\n",
    "- Usia: Usia tertanggung.\n",
    "- Klaim: Status klaim.\n"
   ]
  },
  {
   "cell_type": "markdown",
   "metadata": {},
   "source": [
    "### **2.2 Info Data**"
   ]
  },
  {
   "cell_type": "markdown",
   "metadata": {},
   "source": [
    "info data disini menjabarkan baris data, kolom nama, tipe data, dan nama-nama kolom"
   ]
  },
  {
   "cell_type": "code",
   "execution_count": 745,
   "metadata": {},
   "outputs": [
    {
     "name": "stdout",
     "output_type": "stream",
     "text": [
      "<class 'pandas.core.frame.DataFrame'>\n",
      "RangeIndex: 44328 entries, 0 to 44327\n",
      "Data columns (total 11 columns):\n",
      " #   Column                Non-Null Count  Dtype  \n",
      "---  ------                --------------  -----  \n",
      " 0   Agency                44328 non-null  object \n",
      " 1   Agency Type           44328 non-null  object \n",
      " 2   Distribution Channel  44328 non-null  object \n",
      " 3   Product Name          44328 non-null  object \n",
      " 4   Gender                12681 non-null  object \n",
      " 5   Duration              44328 non-null  int64  \n",
      " 6   Destination           44328 non-null  object \n",
      " 7   Net Sales             44328 non-null  float64\n",
      " 8   Commision (in value)  44328 non-null  float64\n",
      " 9   Age                   44328 non-null  int64  \n",
      " 10  Claim                 44328 non-null  object \n",
      "dtypes: float64(2), int64(2), object(7)\n",
      "memory usage: 3.7+ MB\n"
     ]
    }
   ],
   "source": [
    "df.info()"
   ]
  },
  {
   "cell_type": "markdown",
   "metadata": {},
   "source": [
    "**Interpretasi:**\n",
    "\n",
    "- Dataset diatas terdiri dari 44328 baris dan 10 kolom\n",
    "- Tipe data terdiri dari objek, interger, dan float"
   ]
  },
  {
   "cell_type": "markdown",
   "metadata": {},
   "source": [
    "### **2.3 Data Kosong**"
   ]
  },
  {
   "cell_type": "code",
   "execution_count": 746,
   "metadata": {},
   "outputs": [
    {
     "data": {
      "text/plain": [
       "Agency                      0\n",
       "Agency Type                 0\n",
       "Distribution Channel        0\n",
       "Product Name                0\n",
       "Gender                  31647\n",
       "Duration                    0\n",
       "Destination                 0\n",
       "Net Sales                   0\n",
       "Commision (in value)        0\n",
       "Age                         0\n",
       "Claim                       0\n",
       "dtype: int64"
      ]
     },
     "execution_count": 746,
     "metadata": {},
     "output_type": "execute_result"
    }
   ],
   "source": [
    "df.isna().sum()"
   ]
  },
  {
   "cell_type": "markdown",
   "metadata": {},
   "source": [
    "**Interpretasi:**\n",
    "\n",
    "- Kolom gender missing value sebesar 31647 data kosong"
   ]
  },
  {
   "cell_type": "markdown",
   "metadata": {},
   "source": [
    "### **2.4 Data Duplikat**"
   ]
  },
  {
   "cell_type": "code",
   "execution_count": 747,
   "metadata": {},
   "outputs": [
    {
     "data": {
      "text/plain": [
       "4667"
      ]
     },
     "execution_count": 747,
     "metadata": {},
     "output_type": "execute_result"
    }
   ],
   "source": [
    "df.duplicated().sum()"
   ]
  },
  {
   "cell_type": "markdown",
   "metadata": {},
   "source": [
    "**Interpretasi:**\n",
    "\n",
    "- Data duplikat sebesar 4667 baris"
   ]
  },
  {
   "cell_type": "markdown",
   "metadata": {},
   "source": [
    "### **2.5 Data Statistik Numerikal dan Kategorikal**"
   ]
  },
  {
   "cell_type": "code",
   "execution_count": 748,
   "metadata": {},
   "outputs": [
    {
     "data": {
      "text/html": [
       "<div>\n",
       "<style scoped>\n",
       "    .dataframe tbody tr th:only-of-type {\n",
       "        vertical-align: middle;\n",
       "    }\n",
       "\n",
       "    .dataframe tbody tr th {\n",
       "        vertical-align: top;\n",
       "    }\n",
       "\n",
       "    .dataframe thead th {\n",
       "        text-align: right;\n",
       "    }\n",
       "</style>\n",
       "<table border=\"1\" class=\"dataframe\">\n",
       "  <thead>\n",
       "    <tr style=\"text-align: right;\">\n",
       "      <th></th>\n",
       "      <th>Duration</th>\n",
       "      <th>Net Sales</th>\n",
       "      <th>Commision (in value)</th>\n",
       "      <th>Age</th>\n",
       "    </tr>\n",
       "  </thead>\n",
       "  <tbody>\n",
       "    <tr>\n",
       "      <th>count</th>\n",
       "      <td>44328.000000</td>\n",
       "      <td>44328.000000</td>\n",
       "      <td>44328.000000</td>\n",
       "      <td>44328.000000</td>\n",
       "    </tr>\n",
       "    <tr>\n",
       "      <th>mean</th>\n",
       "      <td>49.424292</td>\n",
       "      <td>40.550948</td>\n",
       "      <td>9.707692</td>\n",
       "      <td>39.925600</td>\n",
       "    </tr>\n",
       "    <tr>\n",
       "      <th>std</th>\n",
       "      <td>109.153961</td>\n",
       "      <td>48.661970</td>\n",
       "      <td>19.625637</td>\n",
       "      <td>13.954926</td>\n",
       "    </tr>\n",
       "    <tr>\n",
       "      <th>min</th>\n",
       "      <td>-1.000000</td>\n",
       "      <td>-357.500000</td>\n",
       "      <td>0.000000</td>\n",
       "      <td>0.000000</td>\n",
       "    </tr>\n",
       "    <tr>\n",
       "      <th>25%</th>\n",
       "      <td>9.000000</td>\n",
       "      <td>18.000000</td>\n",
       "      <td>0.000000</td>\n",
       "      <td>35.000000</td>\n",
       "    </tr>\n",
       "    <tr>\n",
       "      <th>50%</th>\n",
       "      <td>22.000000</td>\n",
       "      <td>26.500000</td>\n",
       "      <td>0.000000</td>\n",
       "      <td>36.000000</td>\n",
       "    </tr>\n",
       "    <tr>\n",
       "      <th>75%</th>\n",
       "      <td>53.000000</td>\n",
       "      <td>48.000000</td>\n",
       "      <td>11.550000</td>\n",
       "      <td>43.000000</td>\n",
       "    </tr>\n",
       "    <tr>\n",
       "      <th>max</th>\n",
       "      <td>4881.000000</td>\n",
       "      <td>810.000000</td>\n",
       "      <td>283.500000</td>\n",
       "      <td>118.000000</td>\n",
       "    </tr>\n",
       "  </tbody>\n",
       "</table>\n",
       "</div>"
      ],
      "text/plain": [
       "           Duration     Net Sales  Commision (in value)           Age\n",
       "count  44328.000000  44328.000000          44328.000000  44328.000000\n",
       "mean      49.424292     40.550948              9.707692     39.925600\n",
       "std      109.153961     48.661970             19.625637     13.954926\n",
       "min       -1.000000   -357.500000              0.000000      0.000000\n",
       "25%        9.000000     18.000000              0.000000     35.000000\n",
       "50%       22.000000     26.500000              0.000000     36.000000\n",
       "75%       53.000000     48.000000             11.550000     43.000000\n",
       "max     4881.000000    810.000000            283.500000    118.000000"
      ]
     },
     "execution_count": 748,
     "metadata": {},
     "output_type": "execute_result"
    }
   ],
   "source": [
    "df.describe()"
   ]
  },
  {
   "cell_type": "markdown",
   "metadata": {},
   "source": [
    "**Interpretasi**\n",
    "\n",
    "- Statistik numerikal Count sebesar 44328 semua kolom\n",
    "- Statistik numerikal kolom Duration nilai mean dan std range 49 sampai 110\n",
    "- Statistik numerikal kolom Duration nilai min sampai max range -1 sampai dengan 4881.00\n",
    "- Statistik numerikal kolom Net Sales nilai mean dan std range 40 sampai 49\n",
    "- Statistik numerikal kolom Net sales nilai min sampai max range -357.5 sampai dengan 810\n",
    "- Statistik numerikal kolom Commision (in value) nilai mean dan std range 9 sampai 20\n",
    "- Statistik numerikal kolom Commision (in value) nilai min sampai max range 0 sampai 284\n",
    "- Statistik numerikal kolom Age nilai mean sebesar 39.92\n",
    "- Statistik numerikal kolom Age nilai std sebesar 13.954\n",
    "- Statistik numerikal kolom Age nilai min sampai dengan max range 0 sampai 119"
   ]
  },
  {
   "cell_type": "code",
   "execution_count": 749,
   "metadata": {},
   "outputs": [
    {
     "data": {
      "text/html": [
       "<div>\n",
       "<style scoped>\n",
       "    .dataframe tbody tr th:only-of-type {\n",
       "        vertical-align: middle;\n",
       "    }\n",
       "\n",
       "    .dataframe tbody tr th {\n",
       "        vertical-align: top;\n",
       "    }\n",
       "\n",
       "    .dataframe thead th {\n",
       "        text-align: right;\n",
       "    }\n",
       "</style>\n",
       "<table border=\"1\" class=\"dataframe\">\n",
       "  <thead>\n",
       "    <tr style=\"text-align: right;\">\n",
       "      <th></th>\n",
       "      <th>Agency</th>\n",
       "      <th>Agency Type</th>\n",
       "      <th>Distribution Channel</th>\n",
       "      <th>Product Name</th>\n",
       "      <th>Destination</th>\n",
       "      <th>Claim</th>\n",
       "    </tr>\n",
       "  </thead>\n",
       "  <tbody>\n",
       "    <tr>\n",
       "      <th>count</th>\n",
       "      <td>44328</td>\n",
       "      <td>44328</td>\n",
       "      <td>44328</td>\n",
       "      <td>44328</td>\n",
       "      <td>44328</td>\n",
       "      <td>44328</td>\n",
       "    </tr>\n",
       "    <tr>\n",
       "      <th>unique</th>\n",
       "      <td>16</td>\n",
       "      <td>2</td>\n",
       "      <td>2</td>\n",
       "      <td>26</td>\n",
       "      <td>138</td>\n",
       "      <td>2</td>\n",
       "    </tr>\n",
       "    <tr>\n",
       "      <th>top</th>\n",
       "      <td>EPX</td>\n",
       "      <td>Travel Agency</td>\n",
       "      <td>Online</td>\n",
       "      <td>Cancellation Plan</td>\n",
       "      <td>SINGAPORE</td>\n",
       "      <td>No</td>\n",
       "    </tr>\n",
       "    <tr>\n",
       "      <th>freq</th>\n",
       "      <td>24656</td>\n",
       "      <td>32113</td>\n",
       "      <td>43572</td>\n",
       "      <td>12979</td>\n",
       "      <td>9267</td>\n",
       "      <td>43651</td>\n",
       "    </tr>\n",
       "  </tbody>\n",
       "</table>\n",
       "</div>"
      ],
      "text/plain": [
       "       Agency    Agency Type Distribution Channel       Product Name  \\\n",
       "count   44328          44328                44328              44328   \n",
       "unique     16              2                    2                 26   \n",
       "top       EPX  Travel Agency               Online  Cancellation Plan   \n",
       "freq    24656          32113                43572              12979   \n",
       "\n",
       "       Destination  Claim  \n",
       "count        44328  44328  \n",
       "unique         138      2  \n",
       "top      SINGAPORE     No  \n",
       "freq          9267  43651  "
      ]
     },
     "execution_count": 749,
     "metadata": {},
     "output_type": "execute_result"
    }
   ],
   "source": [
    "df.describe(include=object).drop(columns='Gender')"
   ]
  },
  {
   "cell_type": "markdown",
   "metadata": {},
   "source": [
    "**Interpretasi**\n",
    "\n",
    "- Statistik kategorikal Count sebesar 44328 semua kolom\n",
    "- Statistik kategorikal kolom Agency nilai unique 16\n",
    "- Statistik kategorikal kolom Agency kata yang sering digunakan EPX\n",
    "- Statistik kategorikal kolom Agency jumlah frekuensi kata yang sering ada sebesar 24656\n",
    "- Statistik kategorikal kolom Agency Type nilai unique 2\n",
    "- Statistik kategorikal kolom Agency Type kata yang sering digunakan Travel Agency\n",
    "- Statistik kategorikal kolom Agency Type jumlah frekuensi kata yang sering ada sebesar 32113\n",
    "- Statistik kategorikal kolom Product Name nilai unique 26\n",
    "- Statistik kategorikal kolom Product Name kata yang sering digunakan Online\n",
    "- Statistik kategorikal kolom Product Name jumlah frekuensi kata yang sering ada sebesar 43572\n",
    "- Statistik kategorikal kolom Destination nilai unique 138\n",
    "- Statistik kategorikal kolom Destination kata yang sering digunakan SINGAPORE\n",
    "- Statistik kategorikal kolom Destination jumlah frekuensi kata yang sering ada sebesar 9267\n",
    "- Statistik kategorikal kolom Claim nilai unique 2\n",
    "- Statistik kategorikal kolom Claim kata yang sering digunakan No\n",
    "- Statistik kategorikal kolom Claim jumlah frekuensi kata yang sering ada sebesar 43651"
   ]
  },
  {
   "cell_type": "markdown",
   "metadata": {},
   "source": [
    "### **2.6 Keunikan Data**"
   ]
  },
  {
   "cell_type": "code",
   "execution_count": 750,
   "metadata": {},
   "outputs": [
    {
     "data": {
      "text/html": [
       "<div>\n",
       "<style scoped>\n",
       "    .dataframe tbody tr th:only-of-type {\n",
       "        vertical-align: middle;\n",
       "    }\n",
       "\n",
       "    .dataframe tbody tr th {\n",
       "        vertical-align: top;\n",
       "    }\n",
       "\n",
       "    .dataframe thead th {\n",
       "        text-align: right;\n",
       "    }\n",
       "</style>\n",
       "<table border=\"1\" class=\"dataframe\">\n",
       "  <thead>\n",
       "    <tr style=\"text-align: right;\">\n",
       "      <th></th>\n",
       "      <th>Column Name</th>\n",
       "      <th>Number of Unique</th>\n",
       "      <th>Unique Sample</th>\n",
       "    </tr>\n",
       "  </thead>\n",
       "  <tbody>\n",
       "    <tr>\n",
       "      <th>0</th>\n",
       "      <td>Agency</td>\n",
       "      <td>16</td>\n",
       "      <td>[C2B, EPX, JZI, CWT, LWC, ART, CSR, SSI, RAB, KML, TST, TTW, JWT, ADM, CCR, CBH]</td>\n",
       "    </tr>\n",
       "    <tr>\n",
       "      <th>1</th>\n",
       "      <td>Agency Type</td>\n",
       "      <td>2</td>\n",
       "      <td>[Airlines, Travel Agency]</td>\n",
       "    </tr>\n",
       "    <tr>\n",
       "      <th>2</th>\n",
       "      <td>Distribution Channel</td>\n",
       "      <td>2</td>\n",
       "      <td>[Online, Offline]</td>\n",
       "    </tr>\n",
       "    <tr>\n",
       "      <th>3</th>\n",
       "      <td>Product Name</td>\n",
       "      <td>26</td>\n",
       "      <td>[Annual Silver Plan, Cancellation Plan, Basic Plan, 2 way Comprehensive Plan, Bronze Plan, 1 way Comprehensive Plan, Rental Vehicle Excess Insurance, Single Trip Travel Protect Gold, Silver Plan, Value Plan, 24 Protect, Annual Travel Protect Gold, Comprehensive Plan, Ticket Protector, Travel Cruise Protect, Single Trip Travel Protect Silver, Individual Comprehensive Plan, Gold Plan, Annual Gold Plan, Child Comprehensive Plan, Premier Plan, Annual Travel Protect Silver, Single Trip Travel Protect Platinum, Annual Travel Protect Platinum, Spouse or Parents Comprehensive Plan, Travel Cruise Protect Family]</td>\n",
       "    </tr>\n",
       "    <tr>\n",
       "      <th>4</th>\n",
       "      <td>Gender</td>\n",
       "      <td>2</td>\n",
       "      <td>[F, nan, M]</td>\n",
       "    </tr>\n",
       "    <tr>\n",
       "      <th>5</th>\n",
       "      <td>Duration</td>\n",
       "      <td>437</td>\n",
       "      <td>[365, 4, 19, 20, 8, 2, 25, 90, 24, 43, 103, 376, 6, 16, 27, 34, 3, 14, 12, 31, 5, 7, 56, 29, 30, 58, 9, 38, 42, 11, 13, 40, 79, 370, 366, 26, 83, 55, 18, 100, 1, 35, 36, 75, 23, 73, 32, 232, 37, 10, 4736, 15, 17, 99, 173, 74, 82, 66, 156, 39, 95, 98, 111, 430, 53, 77, 87, 70, 151, 45, 54, 114, 118, 62, 28, 112, 326, 22, 59, 44, 21, 97, 63, 60, 51, 180, 160, 368, 65, 93, 71, 57, 0, 76, 69, 110, 146, 116, 129, 84, ...]</td>\n",
       "    </tr>\n",
       "    <tr>\n",
       "      <th>6</th>\n",
       "      <td>Destination</td>\n",
       "      <td>138</td>\n",
       "      <td>[SINGAPORE, MALAYSIA, INDIA, UNITED STATES, KOREA, REPUBLIC OF, THAILAND, GERMANY, JAPAN, INDONESIA, VIET NAM, AUSTRALIA, FINLAND, UNITED KINGDOM, SRI LANKA, SPAIN, HONG KONG, MACAO, CHINA, UNITED ARAB EMIRATES, IRAN, ISLAMIC REPUBLIC OF, TAIWAN, PROVINCE OF CHINA, POLAND, CANADA, OMAN, PHILIPPINES, GREECE, BELGIUM, TURKEY, BRUNEI DARUSSALAM, DENMARK, SWITZERLAND, NETHERLANDS, SWEDEN, MYANMAR, KENYA, CZECH REPUBLIC, FRANCE, RUSSIAN FEDERATION, PAKISTAN, ARGENTINA, TANZANIA, UNITED REPUBLIC OF, SERBIA, ITALY, CROATIA, NEW ZEALAND, PERU, MONGOLIA, CAMBODIA, QATAR, NORWAY, LUXEMBOURG, MALTA, LAO PEOPLE'S DEMOCRATIC REPUBLIC, ISRAEL, SAUDI ARABIA, AUSTRIA, PORTUGAL, NEPAL, UKRAINE, ESTONIA, ICELAND, BRAZIL, MEXICO, CAYMAN ISLANDS, PANAMA, BANGLADESH, TURKMENISTAN, BAHRAIN, KAZAKHSTAN, TUNISIA, IRELAND, ETHIOPIA, NORTHERN MARIANA ISLANDS, MALDIVES, SOUTH AFRICA, VENEZUELA, COSTA RICA, JORDAN, MALI, CYPRUS, MAURITIUS, LEBANON, KUWAIT, AZERBAIJAN, HUNGARY, BHUTAN, BELARUS, MOROCCO, ECUADOR, UZBEKISTAN, CHILE, FIJI, PAPUA NEW GUINEA, ANGOLA, FRENCH POLYNESIA, NIGERIA, MACEDONIA, THE FORMER YUGOSLAV REPUBLIC OF, NAMIBIA, GEORGIA, COLOMBIA, ...]</td>\n",
       "    </tr>\n",
       "    <tr>\n",
       "      <th>7</th>\n",
       "      <td>Net Sales</td>\n",
       "      <td>1006</td>\n",
       "      <td>[216.0, 10.0, 22.0, 112.0, 16.0, 50.0, 78.0, 80.0, 40.0, 26.0, 252.85, 47.0, 25.0, 23.0, 20.0, 30.0, 42.0, 56.0, 19.8, 14.0, 29.7, 36.0, 31.0, 58.0, 9.9, 15.0, 21.0, 29.0, 32.0, 125.0, 48.0, 0.0, 21.04, 33.0, 204.6, 34.0, 30.55, 35.0, 49.5, 18.0, 98.0, 77.0, 69.3, 64.0, 0.32, 227.7, 48.5, -216.75, 24.0, 161.0, 99.0, 59.4, 45.0, 37.0, 44.0, 19.0, 75.0, 39.0, 17.55, -59.4, 51.0, -29.7, 80.25, 63.0, 12.0, 72.0, 53.0, 38.0, 17.0, 54.0, 69.0, 115.0, 76.3, 19.5, 29.5, 62.0, 11.0, 3.73, 79.0, 138.6, 22.5, 59.0, 5.59, 33.5, 53.25, 62.25, 93.0, -12.0, 1.03, 27.0, 56.5, 39.6, 28.0, 41.0, 97.0, 128.0, 43.0, 66.0, 26.5, 0.19, ...]</td>\n",
       "    </tr>\n",
       "    <tr>\n",
       "      <th>8</th>\n",
       "      <td>Commision (in value)</td>\n",
       "      <td>915</td>\n",
       "      <td>[54.0, 0.0, 7.7, 4.0, 9.1, 63.21, 10.5, 11.88, 17.82, 23.4, 7.5, 5.94, 43.75, 23.76, 7.36, 132.99, 9.57, 7.64, 12.25, 29.7, 6.3, 5.63, 41.58, 5.25, 0.09, 6.0, 136.62, 31.53, 54.19, 11.55, 10.15, 40.25, 59.4, 35.64, 15.75, 12.95, 28.5, 9.75, 4.39, 20.06, 18.0, 4.25, 19.07, 4.88, 7.38, 15.5, 1.05, 83.16, 14.7, 15.4, 1.57, 8.38, 13.31, 15.56, 0.29, 8.0, 36.73, 13.65, 20.3, 5.0, 10.0, 6.63, 0.05, 24.15, 29.05, 8.88, 14.0, 3.38, 15.88, 0.45, 10.89, 47.52, 0.37, 27.25, 18.13, 15.6, 70.2, 12.4, 72.94, 8.63, 4.63, 6.75, 11.25, 0.96, 53.46, 77.22, 1.13, 4.94, 1.73, 10.38, 58.45, 23.5, 6.94, 6.13, 41.42, 17.5, 13.16, 0.14, 3.23, 15.93, ...]</td>\n",
       "    </tr>\n",
       "    <tr>\n",
       "      <th>9</th>\n",
       "      <td>Age</td>\n",
       "      <td>89</td>\n",
       "      <td>[57, 33, 26, 59, 28, 36, 22, 39, 27, 48, 43, 51, 65, 47, 35, 54, 23, 46, 58, 42, 31, 29, 37, 68, 8, 32, 61, 49, 56, 25, 50, 34, 38, 44, 118, 45, 53, 20, 30, 41, 69, 52, 40, 70, 76, 74, 66, 63, 55, 21, 60, 75, 24, 62, 73, 64, 71, 5, 14, 72, 84, 81, 16, 19, 67, 83, 13, 79, 18, 9, 80, 17, 82, 78, 15, 77, 87, 88, 11, 12, 86, 7, 10, 2, 3, 1, 4, 85, 0]</td>\n",
       "    </tr>\n",
       "    <tr>\n",
       "      <th>10</th>\n",
       "      <td>Claim</td>\n",
       "      <td>2</td>\n",
       "      <td>[No, Yes]</td>\n",
       "    </tr>\n",
       "  </tbody>\n",
       "</table>\n",
       "</div>"
      ],
      "text/plain": [
       "             Column Name  Number of Unique  \\\n",
       "0                 Agency                16   \n",
       "1            Agency Type                 2   \n",
       "2   Distribution Channel                 2   \n",
       "3           Product Name                26   \n",
       "4                 Gender                 2   \n",
       "5               Duration               437   \n",
       "6            Destination               138   \n",
       "7              Net Sales              1006   \n",
       "8   Commision (in value)               915   \n",
       "9                    Age                89   \n",
       "10                 Claim                 2   \n",
       "\n",
       "                                                                                                                                                                                                                                                                                                                                                                                                                                                                                                                                                                                                                                                                                                                                                                                                                                                                                                                                                                                                                                                                                                                                                                                        Unique Sample  \n",
       "0                                                                                                                                                                                                                                                                                                                                                                                                                                                                                                                                                                                                                                                                                                                                                                                                                                                                                                                                                                                                                                                                                                                    [C2B, EPX, JZI, CWT, LWC, ART, CSR, SSI, RAB, KML, TST, TTW, JWT, ADM, CCR, CBH]  \n",
       "1                                                                                                                                                                                                                                                                                                                                                                                                                                                                                                                                                                                                                                                                                                                                                                                                                                                                                                                                                                                                                                                                                                                                                                           [Airlines, Travel Agency]  \n",
       "2                                                                                                                                                                                                                                                                                                                                                                                                                                                                                                                                                                                                                                                                                                                                                                                                                                                                                                                                                                                                                                                                                                                                                                                   [Online, Offline]  \n",
       "3                                                                                                                                                                                                                                                                                                                                                                                                                                                                                                                                                                  [Annual Silver Plan, Cancellation Plan, Basic Plan, 2 way Comprehensive Plan, Bronze Plan, 1 way Comprehensive Plan, Rental Vehicle Excess Insurance, Single Trip Travel Protect Gold, Silver Plan, Value Plan, 24 Protect, Annual Travel Protect Gold, Comprehensive Plan, Ticket Protector, Travel Cruise Protect, Single Trip Travel Protect Silver, Individual Comprehensive Plan, Gold Plan, Annual Gold Plan, Child Comprehensive Plan, Premier Plan, Annual Travel Protect Silver, Single Trip Travel Protect Platinum, Annual Travel Protect Platinum, Spouse or Parents Comprehensive Plan, Travel Cruise Protect Family]  \n",
       "4                                                                                                                                                                                                                                                                                                                                                                                                                                                                                                                                                                                                                                                                                                                                                                                                                                                                                                                                                                                                                                                                                                                                                                                         [F, nan, M]  \n",
       "5                                                                                                                                                                                                                                                                                                                                                                                                                                                                                                                                                                                                                                                                                                                                                                [365, 4, 19, 20, 8, 2, 25, 90, 24, 43, 103, 376, 6, 16, 27, 34, 3, 14, 12, 31, 5, 7, 56, 29, 30, 58, 9, 38, 42, 11, 13, 40, 79, 370, 366, 26, 83, 55, 18, 100, 1, 35, 36, 75, 23, 73, 32, 232, 37, 10, 4736, 15, 17, 99, 173, 74, 82, 66, 156, 39, 95, 98, 111, 430, 53, 77, 87, 70, 151, 45, 54, 114, 118, 62, 28, 112, 326, 22, 59, 44, 21, 97, 63, 60, 51, 180, 160, 368, 65, 93, 71, 57, 0, 76, 69, 110, 146, 116, 129, 84, ...]  \n",
       "6   [SINGAPORE, MALAYSIA, INDIA, UNITED STATES, KOREA, REPUBLIC OF, THAILAND, GERMANY, JAPAN, INDONESIA, VIET NAM, AUSTRALIA, FINLAND, UNITED KINGDOM, SRI LANKA, SPAIN, HONG KONG, MACAO, CHINA, UNITED ARAB EMIRATES, IRAN, ISLAMIC REPUBLIC OF, TAIWAN, PROVINCE OF CHINA, POLAND, CANADA, OMAN, PHILIPPINES, GREECE, BELGIUM, TURKEY, BRUNEI DARUSSALAM, DENMARK, SWITZERLAND, NETHERLANDS, SWEDEN, MYANMAR, KENYA, CZECH REPUBLIC, FRANCE, RUSSIAN FEDERATION, PAKISTAN, ARGENTINA, TANZANIA, UNITED REPUBLIC OF, SERBIA, ITALY, CROATIA, NEW ZEALAND, PERU, MONGOLIA, CAMBODIA, QATAR, NORWAY, LUXEMBOURG, MALTA, LAO PEOPLE'S DEMOCRATIC REPUBLIC, ISRAEL, SAUDI ARABIA, AUSTRIA, PORTUGAL, NEPAL, UKRAINE, ESTONIA, ICELAND, BRAZIL, MEXICO, CAYMAN ISLANDS, PANAMA, BANGLADESH, TURKMENISTAN, BAHRAIN, KAZAKHSTAN, TUNISIA, IRELAND, ETHIOPIA, NORTHERN MARIANA ISLANDS, MALDIVES, SOUTH AFRICA, VENEZUELA, COSTA RICA, JORDAN, MALI, CYPRUS, MAURITIUS, LEBANON, KUWAIT, AZERBAIJAN, HUNGARY, BHUTAN, BELARUS, MOROCCO, ECUADOR, UZBEKISTAN, CHILE, FIJI, PAPUA NEW GUINEA, ANGOLA, FRENCH POLYNESIA, NIGERIA, MACEDONIA, THE FORMER YUGOSLAV REPUBLIC OF, NAMIBIA, GEORGIA, COLOMBIA, ...]  \n",
       "7                                                                                                                                                                                                                                                                                                                                                                                                                                                                                                                                                  [216.0, 10.0, 22.0, 112.0, 16.0, 50.0, 78.0, 80.0, 40.0, 26.0, 252.85, 47.0, 25.0, 23.0, 20.0, 30.0, 42.0, 56.0, 19.8, 14.0, 29.7, 36.0, 31.0, 58.0, 9.9, 15.0, 21.0, 29.0, 32.0, 125.0, 48.0, 0.0, 21.04, 33.0, 204.6, 34.0, 30.55, 35.0, 49.5, 18.0, 98.0, 77.0, 69.3, 64.0, 0.32, 227.7, 48.5, -216.75, 24.0, 161.0, 99.0, 59.4, 45.0, 37.0, 44.0, 19.0, 75.0, 39.0, 17.55, -59.4, 51.0, -29.7, 80.25, 63.0, 12.0, 72.0, 53.0, 38.0, 17.0, 54.0, 69.0, 115.0, 76.3, 19.5, 29.5, 62.0, 11.0, 3.73, 79.0, 138.6, 22.5, 59.0, 5.59, 33.5, 53.25, 62.25, 93.0, -12.0, 1.03, 27.0, 56.5, 39.6, 28.0, 41.0, 97.0, 128.0, 43.0, 66.0, 26.5, 0.19, ...]  \n",
       "8                                                                                                                                                                                                                                                                                                                                                                                                                                                                                                                                      [54.0, 0.0, 7.7, 4.0, 9.1, 63.21, 10.5, 11.88, 17.82, 23.4, 7.5, 5.94, 43.75, 23.76, 7.36, 132.99, 9.57, 7.64, 12.25, 29.7, 6.3, 5.63, 41.58, 5.25, 0.09, 6.0, 136.62, 31.53, 54.19, 11.55, 10.15, 40.25, 59.4, 35.64, 15.75, 12.95, 28.5, 9.75, 4.39, 20.06, 18.0, 4.25, 19.07, 4.88, 7.38, 15.5, 1.05, 83.16, 14.7, 15.4, 1.57, 8.38, 13.31, 15.56, 0.29, 8.0, 36.73, 13.65, 20.3, 5.0, 10.0, 6.63, 0.05, 24.15, 29.05, 8.88, 14.0, 3.38, 15.88, 0.45, 10.89, 47.52, 0.37, 27.25, 18.13, 15.6, 70.2, 12.4, 72.94, 8.63, 4.63, 6.75, 11.25, 0.96, 53.46, 77.22, 1.13, 4.94, 1.73, 10.38, 58.45, 23.5, 6.94, 6.13, 41.42, 17.5, 13.16, 0.14, 3.23, 15.93, ...]  \n",
       "9                                                                                                                                                                                                                                                                                                                                                                                                                                                                                                                                                                                                                                                                                                                                                                                                                                        [57, 33, 26, 59, 28, 36, 22, 39, 27, 48, 43, 51, 65, 47, 35, 54, 23, 46, 58, 42, 31, 29, 37, 68, 8, 32, 61, 49, 56, 25, 50, 34, 38, 44, 118, 45, 53, 20, 30, 41, 69, 52, 40, 70, 76, 74, 66, 63, 55, 21, 60, 75, 24, 62, 73, 64, 71, 5, 14, 72, 84, 81, 16, 19, 67, 83, 13, 79, 18, 9, 80, 17, 82, 78, 15, 77, 87, 88, 11, 12, 86, 7, 10, 2, 3, 1, 4, 85, 0]  \n",
       "10                                                                                                                                                                                                                                                                                                                                                                                                                                                                                                                                                                                                                                                                                                                                                                                                                                                                                                                                                                                                                                                                                                                                                                                          [No, Yes]  "
      ]
     },
     "execution_count": 750,
     "metadata": {},
     "output_type": "execute_result"
    }
   ],
   "source": [
    "listItem = []\n",
    "for col in df.columns :\n",
    " \n",
    "    listItem.append( [col, df[col].nunique(), df[col].unique()   ])\n",
    "\n",
    "unique_values = pd.DataFrame(columns=['Column Name', 'Number of Unique', 'Unique Sample'],\n",
    "                     data=listItem)\n",
    "unique_values"
   ]
  },
  {
   "cell_type": "markdown",
   "metadata": {},
   "source": [
    "**Interpretasi:**\n",
    "\n",
    "- Dataset diatas terdiri dari 44328 baris dan 10 kolom\n",
    "- Tipe data terdiri dari objek, interger, dan float\n",
    "- Missing Value pada kolom Gender\n",
    "- Data duplikat sebesar 4667 baris"
   ]
  },
  {
   "cell_type": "markdown",
   "metadata": {},
   "source": [
    "## **3. EDA**"
   ]
  },
  {
   "cell_type": "markdown",
   "metadata": {},
   "source": [
    "___"
   ]
  },
  {
   "cell_type": "markdown",
   "metadata": {},
   "source": [
    "Saya menganalisa Explorasi Data Analisa dari dataset berdasarkan fitur numerikal dan fitur kategorikal"
   ]
  },
  {
   "cell_type": "markdown",
   "metadata": {},
   "source": [
    "### **3.1 Fitur Numerikal**"
   ]
  },
  {
   "cell_type": "code",
   "execution_count": 751,
   "metadata": {},
   "outputs": [],
   "source": [
    "numerical_features = df.describe().columns"
   ]
  },
  {
   "cell_type": "code",
   "execution_count": 752,
   "metadata": {},
   "outputs": [
    {
     "data": {
      "image/png": "[encoded data removed]",
      "text/plain": [
       "<Figure size 750x500 with 2 Axes>"
      ]
     },
     "metadata": {},
     "output_type": "display_data"
    },
    {
     "data": {
      "image/png": "[encoded data removed]",
      "text/plain": [
       "<Figure size 750x500 with 2 Axes>"
      ]
     },
     "metadata": {},
     "output_type": "display_data"
    },
    {
     "data": {
      "image/png": "[encoded data removed]",
      "text/plain": [
       "<Figure size 750x500 with 2 Axes>"
      ]
     },
     "metadata": {},
     "output_type": "display_data"
    },
    {
     "data": {
      "image/png": "[encoded data removed]",
      "text/plain": [
       "<Figure size 750x500 with 2 Axes>"
      ]
     },
     "metadata": {},
     "output_type": "display_data"
    }
   ],
   "source": [
    "for kolom in numerical_features:\n",
    "\n",
    "    fig, (ax1, ax2) = plt.subplots(2, sharex = True, figsize = (7.5,5), \n",
    "                                    gridspec_kw={\"height_ratios\": (.15, .85),\n",
    "                                                \"hspace\": 0.05})\n",
    "\n",
    "    stat, pvalue = normaltest(df[kolom].dropna())\n",
    "\n",
    "    if pvalue > 0.05 :\n",
    "        distribusi = f'pvalue = {pvalue:.5f}, data terdistribusi normal'\n",
    "    else :\n",
    "        distribusi = f'pvalue = {pvalue:.5f}, data TIDAK terdistribusi normal'\n",
    "\n",
    "    ax1.set_title(f\"Distribution of {kolom}\\n{distribusi}\", color = \"black\")\n",
    "    sns.boxplot(x = df[kolom], ax = ax1)\n",
    "    ax1.set(xlabel = \"\")\n",
    "\n",
    "    sns.histplot(data = df[kolom], ax = ax2, stat = \"probability\", kde=True, bins=50)\n",
    "\n",
    "    plt.show()"
   ]
  },
  {
   "cell_type": "markdown",
   "metadata": {},
   "source": [
    "**Interpretasi:**\n",
    "\n",
    "- fitur numerikal terdiri dari age, commision(invalue), net sales dan duration \n",
    "- Berdasarkan grafik diatas data fitur numerikal, distribusi data tidak normal nilai pvalue <0.05 \n",
    "- Grafik diatas menggunakan boxplot dan histogram"
   ]
  },
  {
   "cell_type": "markdown",
   "metadata": {},
   "source": [
    "### **3.2 Fitur Kategorikal**"
   ]
  },
  {
   "cell_type": "code",
   "execution_count": 753,
   "metadata": {},
   "outputs": [],
   "source": [
    "categorical_features = df.drop(columns='Claim').describe(include='object').columns"
   ]
  },
  {
   "cell_type": "code",
   "execution_count": 754,
   "metadata": {},
   "outputs": [
    {
     "data": {
      "image/png": "[encoded data removed]",
      "text/plain": [
       "<Figure size 1800x1200 with 4 Axes>"
      ]
     },
     "metadata": {},
     "output_type": "display_data"
    }
   ],
   "source": [
    "fig, axes = plt.subplots(2, 2, figsize=(18, 12)) \n",
    "for i, j in zip(categorical_features, axes.flatten()):\n",
    "    ax = sns.countplot(data=df, y= i, ax= j, order=df[i].value_counts().index)\n",
    "    ax.set_title(f'{i}',size = 12) \n",
    "plt.tight_layout()\n",
    "\n",
    "plt.show()"
   ]
  },
  {
   "cell_type": "markdown",
   "metadata": {},
   "source": [
    "**Interpretasi:**\n",
    "\n",
    "- Fitur kategorikal terdiri dari agency, agency type, distribution channel dan product name\n",
    "- Grafik agency tertinggi adalah EPX  \n",
    "- Grafik agency terendah adalah ADM\n",
    "- Grafik agency type tertinggi adalah Travel Agency\n",
    "- Grafik agency type terendah adalah Airlines\n",
    "- Grafik distribution name tertinggi adalah Online\n",
    "- Grafik distribution name terendah adalah Offline\n",
    "- Grafik product name tertinggi adalah Cancellation Plan\n",
    "- Grafik product name terendah adalah Travel Cruise Protect Family"
   ]
  },
  {
   "cell_type": "markdown",
   "metadata": {},
   "source": [
    "### **3.3 Data Correlation**"
   ]
  },
  {
   "cell_type": "code",
   "execution_count": 755,
   "metadata": {},
   "outputs": [
    {
     "data": {
      "text/html": [
       "<div>\n",
       "<style scoped>\n",
       "    .dataframe tbody tr th:only-of-type {\n",
       "        vertical-align: middle;\n",
       "    }\n",
       "\n",
       "    .dataframe tbody tr th {\n",
       "        vertical-align: top;\n",
       "    }\n",
       "\n",
       "    .dataframe thead th {\n",
       "        text-align: right;\n",
       "    }\n",
       "</style>\n",
       "<table border=\"1\" class=\"dataframe\">\n",
       "  <thead>\n",
       "    <tr style=\"text-align: right;\">\n",
       "      <th></th>\n",
       "      <th>Duration</th>\n",
       "      <th>Net Sales</th>\n",
       "      <th>Commision (in value)</th>\n",
       "      <th>Age</th>\n",
       "    </tr>\n",
       "  </thead>\n",
       "  <tbody>\n",
       "    <tr>\n",
       "      <th>Duration</th>\n",
       "      <td>1.000000</td>\n",
       "      <td>0.279311</td>\n",
       "      <td>0.122437</td>\n",
       "      <td>-0.014345</td>\n",
       "    </tr>\n",
       "    <tr>\n",
       "      <th>Net Sales</th>\n",
       "      <td>0.279311</td>\n",
       "      <td>1.000000</td>\n",
       "      <td>0.298201</td>\n",
       "      <td>0.024171</td>\n",
       "    </tr>\n",
       "    <tr>\n",
       "      <th>Commision (in value)</th>\n",
       "      <td>0.122437</td>\n",
       "      <td>0.298201</td>\n",
       "      <td>1.000000</td>\n",
       "      <td>0.145591</td>\n",
       "    </tr>\n",
       "    <tr>\n",
       "      <th>Age</th>\n",
       "      <td>-0.014345</td>\n",
       "      <td>0.024171</td>\n",
       "      <td>0.145591</td>\n",
       "      <td>1.000000</td>\n",
       "    </tr>\n",
       "  </tbody>\n",
       "</table>\n",
       "</div>"
      ],
      "text/plain": [
       "                      Duration  Net Sales  Commision (in value)       Age\n",
       "Duration              1.000000   0.279311              0.122437 -0.014345\n",
       "Net Sales             0.279311   1.000000              0.298201  0.024171\n",
       "Commision (in value)  0.122437   0.298201              1.000000  0.145591\n",
       "Age                  -0.014345   0.024171              0.145591  1.000000"
      ]
     },
     "execution_count": 755,
     "metadata": {},
     "output_type": "execute_result"
    }
   ],
   "source": [
    "corr = df[['Duration', 'Net Sales', 'Commision (in value)', 'Age']]\n",
    "\n",
    "df_corr = corr.corr(method='spearman')\n",
    "df_corr"
   ]
  },
  {
   "cell_type": "code",
   "execution_count": 756,
   "metadata": {},
   "outputs": [
    {
     "data": {
      "text/plain": [
       "array([[ 1.        ,  0.27931144,  0.12243667, -0.01434461],\n",
       "       [ 0.        ,  1.        ,  0.29820052,  0.02417145],\n",
       "       [ 0.        ,  0.        ,  1.        ,  0.14559134],\n",
       "       [ 0.        ,  0.        ,  0.        ,  1.        ]])"
      ]
     },
     "execution_count": 756,
     "metadata": {},
     "output_type": "execute_result"
    }
   ],
   "source": [
    "matrix = np.triu(df_corr)\n",
    "matrix"
   ]
  },
  {
   "cell_type": "code",
   "execution_count": 757,
   "metadata": {},
   "outputs": [
    {
     "data": {
      "image/png": "[encoded data removed]",
      "text/plain": [
       "<Figure size 2000x1500 with 2 Axes>"
      ]
     },
     "metadata": {},
     "output_type": "display_data"
    }
   ],
   "source": [
    "plt.figure(figsize=(20,15))\n",
    "sns.heatmap(data=df_corr, annot=True, cmap='coolwarm', center=0, mask=matrix, fmt='.2f')\n",
    "plt.title(\"Correlation Heatmap\")\n",
    "plt.show()"
   ]
  },
  {
   "cell_type": "markdown",
   "metadata": {},
   "source": [
    "**Interpretasi:**\n",
    "\n",
    "- Korelasi nilai lemah sebesar 0.30 dari hubungan Commision (in Value) dan net sales, nilai commision (in value) naik maka nilai net sales cukup naik\n",
    "- Korelasi nilai lemah sebesar 0.28 dari hubungan Duration dan net sales, nilai Duration naik maka nilai net sales cukup naik\n",
    "- Korelasi nilai lemah sebesar 0.15 dari hubungan Commision (in Value) dan age, nilai Commision (in value) naik maka nilai age cenderung naik \n",
    "- Korelasi nilai lemah sebesar 0.12 dari hubungan Commision (in Value) dan duration, nilai Commision (in value) naik maka nilai duration cenderung naik\n",
    "- Korelasi nilai lemah sebesar 0.02 dari hubungan Age dan Net sales, nilai age naik maka nilai net sales sedikit cenderung naik\n",
    "- Korelasi nilai lemah sebesar -0.01 dari hubungan Age dan Duration, nilai Age naik maka nilai Duration cukup turun"
   ]
  },
  {
   "cell_type": "markdown",
   "metadata": {},
   "source": [
    "### **3.4 Plot of numerical features vs target**"
   ]
  },
  {
   "cell_type": "code",
   "execution_count": 758,
   "metadata": {},
   "outputs": [
    {
     "data": {
      "image/png": "[encoded data removed]",
      "text/plain": [
       "<Figure size 1500x2000 with 4 Axes>"
      ]
     },
     "metadata": {},
     "output_type": "display_data"
    }
   ],
   "source": [
    "plt.figure(figsize=(15, 20))\n",
    "plotnumber = 1\n",
    "\n",
    "for feature in numerical_features:\n",
    "    ax = plt.subplot(4, 3, plotnumber)\n",
    "    sns.barplot(x = 'Claim', y = feature, data = df, estimator=np.median, ci=0)\n",
    "    plt.ylabel('Claim')\n",
    "    plt.title(f'Relationship between \\nClaim and {feature}', fontsize=16)\n",
    "    plotnumber += 1\n",
    "    plt.tight_layout();"
   ]
  },
  {
   "cell_type": "markdown",
   "metadata": {},
   "source": [
    "**Interpretasi:**\n",
    "\n",
    "- Grafik hubungan claim antara duration, net sales, dan commision (in value) nilai tengah tertinggi adalah klaim yes \n",
    "- Grafik hubungan claim dan duration, net sales, dan commision (in value) nilai tengah terendah adalah klaim no \n",
    "- Grafik hubungan claim dan age nilai tengah sama tinggi antara klaim yes dan no "
   ]
  },
  {
   "cell_type": "markdown",
   "metadata": {},
   "source": [
    "### **3.5 Plot of categorical features vs target**"
   ]
  },
  {
   "cell_type": "code",
   "execution_count": 759,
   "metadata": {},
   "outputs": [
    {
     "data": {
      "image/png": "[encoded data removed]",
      "text/plain": [
       "<Figure size 2500x1500 with 6 Axes>"
      ]
     },
     "metadata": {},
     "output_type": "display_data"
    }
   ],
   "source": [
    "plt.figure(figsize=(25, 15))\n",
    "plotnumber = 1\n",
    "\n",
    "for feature in categorical_features:\n",
    "    ax = plt.subplot(3, 3, plotnumber)\n",
    "    sns.countplot(x = feature, data = df, hue='Claim')\n",
    "    plt.xlabel('Claim')\n",
    "    plt.title(f'Number of Claim by {feature}', fontsize=16)\n",
    "    plotnumber += 1\n",
    "    plt.tight_layout();"
   ]
  },
  {
   "cell_type": "markdown",
   "metadata": {},
   "source": [
    "**Interpretasi:**\n",
    "\n",
    "- Grafik hubungan claim antara fitur kategorikal nilai median tertinggi adalah No\n",
    "- Grafik hubungan claim antara fitur kategorikal nilai median terendah adalah Yes"
   ]
  },
  {
   "cell_type": "markdown",
   "metadata": {},
   "source": [
    "## **4. Data Preprocessing**"
   ]
  },
  {
   "cell_type": "markdown",
   "metadata": {},
   "source": [
    "___________"
   ]
  },
  {
   "cell_type": "markdown",
   "metadata": {},
   "source": [
    "Data Preprocessing terdiri dari mengubah data kolom claim, menghapus Baris Gender & Duration, Menghapus Duplikat, Handling Outlier, dan Encoding"
   ]
  },
  {
   "cell_type": "markdown",
   "metadata": {},
   "source": [
    "### **4.1 Mengubah Data Kolom Claim**"
   ]
  },
  {
   "cell_type": "code",
   "execution_count": 760,
   "metadata": {},
   "outputs": [
    {
     "data": {
      "text/html": [
       "<div>\n",
       "<style scoped>\n",
       "    .dataframe tbody tr th:only-of-type {\n",
       "        vertical-align: middle;\n",
       "    }\n",
       "\n",
       "    .dataframe tbody tr th {\n",
       "        vertical-align: top;\n",
       "    }\n",
       "\n",
       "    .dataframe thead th {\n",
       "        text-align: right;\n",
       "    }\n",
       "</style>\n",
       "<table border=\"1\" class=\"dataframe\">\n",
       "  <thead>\n",
       "    <tr style=\"text-align: right;\">\n",
       "      <th></th>\n",
       "      <th>Agency</th>\n",
       "      <th>Agency Type</th>\n",
       "      <th>Distribution Channel</th>\n",
       "      <th>Product Name</th>\n",
       "      <th>Gender</th>\n",
       "      <th>Duration</th>\n",
       "      <th>Destination</th>\n",
       "      <th>Net Sales</th>\n",
       "      <th>Commision (in value)</th>\n",
       "      <th>Age</th>\n",
       "      <th>Claim</th>\n",
       "    </tr>\n",
       "  </thead>\n",
       "  <tbody>\n",
       "    <tr>\n",
       "      <th>0</th>\n",
       "      <td>C2B</td>\n",
       "      <td>Airlines</td>\n",
       "      <td>Online</td>\n",
       "      <td>Annual Silver Plan</td>\n",
       "      <td>F</td>\n",
       "      <td>365</td>\n",
       "      <td>SINGAPORE</td>\n",
       "      <td>216.0</td>\n",
       "      <td>54.0</td>\n",
       "      <td>57</td>\n",
       "      <td>No</td>\n",
       "    </tr>\n",
       "    <tr>\n",
       "      <th>1</th>\n",
       "      <td>EPX</td>\n",
       "      <td>Travel Agency</td>\n",
       "      <td>Online</td>\n",
       "      <td>Cancellation Plan</td>\n",
       "      <td>NaN</td>\n",
       "      <td>4</td>\n",
       "      <td>MALAYSIA</td>\n",
       "      <td>10.0</td>\n",
       "      <td>0.0</td>\n",
       "      <td>33</td>\n",
       "      <td>No</td>\n",
       "    </tr>\n",
       "    <tr>\n",
       "      <th>2</th>\n",
       "      <td>JZI</td>\n",
       "      <td>Airlines</td>\n",
       "      <td>Online</td>\n",
       "      <td>Basic Plan</td>\n",
       "      <td>M</td>\n",
       "      <td>19</td>\n",
       "      <td>INDIA</td>\n",
       "      <td>22.0</td>\n",
       "      <td>7.7</td>\n",
       "      <td>26</td>\n",
       "      <td>No</td>\n",
       "    </tr>\n",
       "    <tr>\n",
       "      <th>3</th>\n",
       "      <td>EPX</td>\n",
       "      <td>Travel Agency</td>\n",
       "      <td>Online</td>\n",
       "      <td>2 way Comprehensive Plan</td>\n",
       "      <td>NaN</td>\n",
       "      <td>20</td>\n",
       "      <td>UNITED STATES</td>\n",
       "      <td>112.0</td>\n",
       "      <td>0.0</td>\n",
       "      <td>59</td>\n",
       "      <td>No</td>\n",
       "    </tr>\n",
       "    <tr>\n",
       "      <th>4</th>\n",
       "      <td>C2B</td>\n",
       "      <td>Airlines</td>\n",
       "      <td>Online</td>\n",
       "      <td>Bronze Plan</td>\n",
       "      <td>M</td>\n",
       "      <td>8</td>\n",
       "      <td>SINGAPORE</td>\n",
       "      <td>16.0</td>\n",
       "      <td>4.0</td>\n",
       "      <td>28</td>\n",
       "      <td>No</td>\n",
       "    </tr>\n",
       "  </tbody>\n",
       "</table>\n",
       "</div>"
      ],
      "text/plain": [
       "  Agency    Agency Type Distribution Channel              Product Name Gender  \\\n",
       "0    C2B       Airlines               Online        Annual Silver Plan      F   \n",
       "1    EPX  Travel Agency               Online         Cancellation Plan    NaN   \n",
       "2    JZI       Airlines               Online                Basic Plan      M   \n",
       "3    EPX  Travel Agency               Online  2 way Comprehensive Plan    NaN   \n",
       "4    C2B       Airlines               Online               Bronze Plan      M   \n",
       "\n",
       "   Duration    Destination  Net Sales  Commision (in value)  Age Claim  \n",
       "0       365      SINGAPORE      216.0                  54.0   57    No  \n",
       "1         4       MALAYSIA       10.0                   0.0   33    No  \n",
       "2        19          INDIA       22.0                   7.7   26    No  \n",
       "3        20  UNITED STATES      112.0                   0.0   59    No  \n",
       "4         8      SINGAPORE       16.0                   4.0   28    No  "
      ]
     },
     "execution_count": 760,
     "metadata": {},
     "output_type": "execute_result"
    }
   ],
   "source": [
    "df.head()"
   ]
  },
  {
   "cell_type": "code",
   "execution_count": 761,
   "metadata": {},
   "outputs": [
    {
     "data": {
      "text/html": [
       "<div>\n",
       "<style scoped>\n",
       "    .dataframe tbody tr th:only-of-type {\n",
       "        vertical-align: middle;\n",
       "    }\n",
       "\n",
       "    .dataframe tbody tr th {\n",
       "        vertical-align: top;\n",
       "    }\n",
       "\n",
       "    .dataframe thead th {\n",
       "        text-align: right;\n",
       "    }\n",
       "</style>\n",
       "<table border=\"1\" class=\"dataframe\">\n",
       "  <thead>\n",
       "    <tr style=\"text-align: right;\">\n",
       "      <th></th>\n",
       "      <th>Agency</th>\n",
       "      <th>Agency Type</th>\n",
       "      <th>Distribution Channel</th>\n",
       "      <th>Product Name</th>\n",
       "      <th>Gender</th>\n",
       "      <th>Duration</th>\n",
       "      <th>Destination</th>\n",
       "      <th>Net Sales</th>\n",
       "      <th>Commision (in value)</th>\n",
       "      <th>Age</th>\n",
       "      <th>Claim</th>\n",
       "    </tr>\n",
       "  </thead>\n",
       "  <tbody>\n",
       "    <tr>\n",
       "      <th>0</th>\n",
       "      <td>C2B</td>\n",
       "      <td>Airlines</td>\n",
       "      <td>Online</td>\n",
       "      <td>Annual Silver Plan</td>\n",
       "      <td>F</td>\n",
       "      <td>365</td>\n",
       "      <td>SINGAPORE</td>\n",
       "      <td>216.0</td>\n",
       "      <td>54.0</td>\n",
       "      <td>57</td>\n",
       "      <td>0</td>\n",
       "    </tr>\n",
       "    <tr>\n",
       "      <th>1</th>\n",
       "      <td>EPX</td>\n",
       "      <td>Travel Agency</td>\n",
       "      <td>Online</td>\n",
       "      <td>Cancellation Plan</td>\n",
       "      <td>NaN</td>\n",
       "      <td>4</td>\n",
       "      <td>MALAYSIA</td>\n",
       "      <td>10.0</td>\n",
       "      <td>0.0</td>\n",
       "      <td>33</td>\n",
       "      <td>0</td>\n",
       "    </tr>\n",
       "    <tr>\n",
       "      <th>2</th>\n",
       "      <td>JZI</td>\n",
       "      <td>Airlines</td>\n",
       "      <td>Online</td>\n",
       "      <td>Basic Plan</td>\n",
       "      <td>M</td>\n",
       "      <td>19</td>\n",
       "      <td>INDIA</td>\n",
       "      <td>22.0</td>\n",
       "      <td>7.7</td>\n",
       "      <td>26</td>\n",
       "      <td>0</td>\n",
       "    </tr>\n",
       "    <tr>\n",
       "      <th>3</th>\n",
       "      <td>EPX</td>\n",
       "      <td>Travel Agency</td>\n",
       "      <td>Online</td>\n",
       "      <td>2 way Comprehensive Plan</td>\n",
       "      <td>NaN</td>\n",
       "      <td>20</td>\n",
       "      <td>UNITED STATES</td>\n",
       "      <td>112.0</td>\n",
       "      <td>0.0</td>\n",
       "      <td>59</td>\n",
       "      <td>0</td>\n",
       "    </tr>\n",
       "    <tr>\n",
       "      <th>4</th>\n",
       "      <td>C2B</td>\n",
       "      <td>Airlines</td>\n",
       "      <td>Online</td>\n",
       "      <td>Bronze Plan</td>\n",
       "      <td>M</td>\n",
       "      <td>8</td>\n",
       "      <td>SINGAPORE</td>\n",
       "      <td>16.0</td>\n",
       "      <td>4.0</td>\n",
       "      <td>28</td>\n",
       "      <td>0</td>\n",
       "    </tr>\n",
       "  </tbody>\n",
       "</table>\n",
       "</div>"
      ],
      "text/plain": [
       "  Agency    Agency Type Distribution Channel              Product Name Gender  \\\n",
       "0    C2B       Airlines               Online        Annual Silver Plan      F   \n",
       "1    EPX  Travel Agency               Online         Cancellation Plan    NaN   \n",
       "2    JZI       Airlines               Online                Basic Plan      M   \n",
       "3    EPX  Travel Agency               Online  2 way Comprehensive Plan    NaN   \n",
       "4    C2B       Airlines               Online               Bronze Plan      M   \n",
       "\n",
       "   Duration    Destination  Net Sales  Commision (in value)  Age  Claim  \n",
       "0       365      SINGAPORE      216.0                  54.0   57      0  \n",
       "1         4       MALAYSIA       10.0                   0.0   33      0  \n",
       "2        19          INDIA       22.0                   7.7   26      0  \n",
       "3        20  UNITED STATES      112.0                   0.0   59      0  \n",
       "4         8      SINGAPORE       16.0                   4.0   28      0  "
      ]
     },
     "execution_count": 761,
     "metadata": {},
     "output_type": "execute_result"
    }
   ],
   "source": [
    "df['Claim'] = np.where(df['Claim']=='Yes', 1, 0)\n",
    "df.head()"
   ]
  },
  {
   "cell_type": "markdown",
   "metadata": {},
   "source": [
    "**Interpretasi:**\n",
    "\n",
    "- Target modelling yaitu claim diubah awal tipe data string menjadi string angka 0 dan 1 dapat mempermudah saat modelling"
   ]
  },
  {
   "cell_type": "markdown",
   "metadata": {},
   "source": [
    "### **4.2 Menghapus Missing Value Gender,  menghapus kolom Age & Duration dan menghapus nilai 0 kolom net sales & Commision (in value)**"
   ]
  },
  {
   "cell_type": "code",
   "execution_count": 762,
   "metadata": {},
   "outputs": [
    {
     "data": {
      "text/plain": [
       "Agency                      0\n",
       "Agency Type                 0\n",
       "Distribution Channel        0\n",
       "Product Name                0\n",
       "Gender                  31647\n",
       "Duration                    0\n",
       "Destination                 0\n",
       "Net Sales                   0\n",
       "Commision (in value)        0\n",
       "Age                         0\n",
       "Claim                       0\n",
       "dtype: int64"
      ]
     },
     "execution_count": 762,
     "metadata": {},
     "output_type": "execute_result"
    }
   ],
   "source": [
    "df.isna().sum()"
   ]
  },
  {
   "cell_type": "code",
   "execution_count": 763,
   "metadata": {},
   "outputs": [
    {
     "data": {
      "text/html": [
       "<div>\n",
       "<style scoped>\n",
       "    .dataframe tbody tr th:only-of-type {\n",
       "        vertical-align: middle;\n",
       "    }\n",
       "\n",
       "    .dataframe tbody tr th {\n",
       "        vertical-align: top;\n",
       "    }\n",
       "\n",
       "    .dataframe thead th {\n",
       "        text-align: right;\n",
       "    }\n",
       "</style>\n",
       "<table border=\"1\" class=\"dataframe\">\n",
       "  <thead>\n",
       "    <tr style=\"text-align: right;\">\n",
       "      <th></th>\n",
       "      <th>Agency</th>\n",
       "      <th>Agency Type</th>\n",
       "      <th>Distribution Channel</th>\n",
       "      <th>Product Name</th>\n",
       "      <th>Gender</th>\n",
       "      <th>Duration</th>\n",
       "      <th>Destination</th>\n",
       "      <th>Net Sales</th>\n",
       "      <th>Commision (in value)</th>\n",
       "      <th>Age</th>\n",
       "      <th>Claim</th>\n",
       "    </tr>\n",
       "  </thead>\n",
       "  <tbody>\n",
       "    <tr>\n",
       "      <th>0</th>\n",
       "      <td>C2B</td>\n",
       "      <td>Airlines</td>\n",
       "      <td>Online</td>\n",
       "      <td>Annual Silver Plan</td>\n",
       "      <td>F</td>\n",
       "      <td>365</td>\n",
       "      <td>SINGAPORE</td>\n",
       "      <td>216.0</td>\n",
       "      <td>54.0</td>\n",
       "      <td>57</td>\n",
       "      <td>0</td>\n",
       "    </tr>\n",
       "    <tr>\n",
       "      <th>1</th>\n",
       "      <td>EPX</td>\n",
       "      <td>Travel Agency</td>\n",
       "      <td>Online</td>\n",
       "      <td>Cancellation Plan</td>\n",
       "      <td>NaN</td>\n",
       "      <td>4</td>\n",
       "      <td>MALAYSIA</td>\n",
       "      <td>10.0</td>\n",
       "      <td>0.0</td>\n",
       "      <td>33</td>\n",
       "      <td>0</td>\n",
       "    </tr>\n",
       "    <tr>\n",
       "      <th>2</th>\n",
       "      <td>JZI</td>\n",
       "      <td>Airlines</td>\n",
       "      <td>Online</td>\n",
       "      <td>Basic Plan</td>\n",
       "      <td>M</td>\n",
       "      <td>19</td>\n",
       "      <td>INDIA</td>\n",
       "      <td>22.0</td>\n",
       "      <td>7.7</td>\n",
       "      <td>26</td>\n",
       "      <td>0</td>\n",
       "    </tr>\n",
       "    <tr>\n",
       "      <th>3</th>\n",
       "      <td>EPX</td>\n",
       "      <td>Travel Agency</td>\n",
       "      <td>Online</td>\n",
       "      <td>2 way Comprehensive Plan</td>\n",
       "      <td>NaN</td>\n",
       "      <td>20</td>\n",
       "      <td>UNITED STATES</td>\n",
       "      <td>112.0</td>\n",
       "      <td>0.0</td>\n",
       "      <td>59</td>\n",
       "      <td>0</td>\n",
       "    </tr>\n",
       "    <tr>\n",
       "      <th>4</th>\n",
       "      <td>C2B</td>\n",
       "      <td>Airlines</td>\n",
       "      <td>Online</td>\n",
       "      <td>Bronze Plan</td>\n",
       "      <td>M</td>\n",
       "      <td>8</td>\n",
       "      <td>SINGAPORE</td>\n",
       "      <td>16.0</td>\n",
       "      <td>4.0</td>\n",
       "      <td>28</td>\n",
       "      <td>0</td>\n",
       "    </tr>\n",
       "  </tbody>\n",
       "</table>\n",
       "</div>"
      ],
      "text/plain": [
       "  Agency    Agency Type Distribution Channel              Product Name Gender  \\\n",
       "0    C2B       Airlines               Online        Annual Silver Plan      F   \n",
       "1    EPX  Travel Agency               Online         Cancellation Plan    NaN   \n",
       "2    JZI       Airlines               Online                Basic Plan      M   \n",
       "3    EPX  Travel Agency               Online  2 way Comprehensive Plan    NaN   \n",
       "4    C2B       Airlines               Online               Bronze Plan      M   \n",
       "\n",
       "   Duration    Destination  Net Sales  Commision (in value)  Age  Claim  \n",
       "0       365      SINGAPORE      216.0                  54.0   57      0  \n",
       "1         4       MALAYSIA       10.0                   0.0   33      0  \n",
       "2        19          INDIA       22.0                   7.7   26      0  \n",
       "3        20  UNITED STATES      112.0                   0.0   59      0  \n",
       "4         8      SINGAPORE       16.0                   4.0   28      0  "
      ]
     },
     "execution_count": 763,
     "metadata": {},
     "output_type": "execute_result"
    }
   ],
   "source": [
    "df.head()"
   ]
  },
  {
   "cell_type": "code",
   "execution_count": 764,
   "metadata": {},
   "outputs": [
    {
     "data": {
      "text/plain": [
       "Gender\n",
       "M    6504\n",
       "F    6177\n",
       "Name: count, dtype: int64"
      ]
     },
     "metadata": {},
     "output_type": "display_data"
    },
    {
     "data": {
      "text/plain": [
       "Duration\n",
       "6       1515\n",
       "5       1463\n",
       "7       1386\n",
       "8       1369\n",
       "4       1325\n",
       "        ... \n",
       "4580       1\n",
       "423        1\n",
       "440        1\n",
       "450        1\n",
       "407        1\n",
       "Name: count, Length: 437, dtype: int64"
      ]
     },
     "metadata": {},
     "output_type": "display_data"
    }
   ],
   "source": [
    "# nilai target pada dataset awal\n",
    "display(df['Gender'].value_counts(), df['Duration'].value_counts())"
   ]
  },
  {
   "cell_type": "code",
   "execution_count": 765,
   "metadata": {},
   "outputs": [
    {
     "data": {
      "text/plain": [
       "Net Sales\n",
       "20.00    4215\n",
       "10.00    3315\n",
       "22.00    1655\n",
       "0.00     1291\n",
       "18.00    1145\n",
       "         ... \n",
       "2.72        1\n",
       "57.24       1\n",
       "7.55        1\n",
       "2.55        1\n",
       "49.39       1\n",
       "Name: count, Length: 1006, dtype: int64"
      ]
     },
     "execution_count": 765,
     "metadata": {},
     "output_type": "execute_result"
    }
   ],
   "source": [
    "df['Net Sales'].value_counts()"
   ]
  },
  {
   "cell_type": "code",
   "execution_count": 766,
   "metadata": {},
   "outputs": [
    {
     "data": {
      "text/plain": [
       "Commision (in value)\n",
       "0.00     24725\n",
       "7.70      1169\n",
       "17.82     1096\n",
       "23.76      895\n",
       "6.30       800\n",
       "         ...  \n",
       "38.25        1\n",
       "6.67         1\n",
       "6.39         1\n",
       "1.71         1\n",
       "32.18        1\n",
       "Name: count, Length: 915, dtype: int64"
      ]
     },
     "execution_count": 766,
     "metadata": {},
     "output_type": "execute_result"
    }
   ],
   "source": [
    "df['Commision (in value)'].value_counts()"
   ]
  },
  {
   "cell_type": "code",
   "execution_count": 767,
   "metadata": {},
   "outputs": [
    {
     "data": {
      "text/plain": [
       "Duration\n",
       "6       1515\n",
       "5       1463\n",
       "7       1386\n",
       "8       1369\n",
       "4       1325\n",
       "        ... \n",
       "4580       1\n",
       "423        1\n",
       "440        1\n",
       "450        1\n",
       "407        1\n",
       "Name: count, Length: 437, dtype: int64"
      ]
     },
     "execution_count": 767,
     "metadata": {},
     "output_type": "execute_result"
    }
   ],
   "source": [
    "df['Duration'].value_counts()"
   ]
  },
  {
   "cell_type": "code",
   "execution_count": 768,
   "metadata": {},
   "outputs": [
    {
     "data": {
      "text/html": [
       "<div>\n",
       "<style scoped>\n",
       "    .dataframe tbody tr th:only-of-type {\n",
       "        vertical-align: middle;\n",
       "    }\n",
       "\n",
       "    .dataframe tbody tr th {\n",
       "        vertical-align: top;\n",
       "    }\n",
       "\n",
       "    .dataframe thead th {\n",
       "        text-align: right;\n",
       "    }\n",
       "</style>\n",
       "<table border=\"1\" class=\"dataframe\">\n",
       "  <thead>\n",
       "    <tr style=\"text-align: right;\">\n",
       "      <th></th>\n",
       "      <th>Agency</th>\n",
       "      <th>Agency Type</th>\n",
       "      <th>Distribution Channel</th>\n",
       "      <th>Product Name</th>\n",
       "      <th>Destination</th>\n",
       "      <th>Net Sales</th>\n",
       "      <th>Commision (in value)</th>\n",
       "      <th>Claim</th>\n",
       "    </tr>\n",
       "  </thead>\n",
       "  <tbody>\n",
       "    <tr>\n",
       "      <th>0</th>\n",
       "      <td>C2B</td>\n",
       "      <td>Airlines</td>\n",
       "      <td>Online</td>\n",
       "      <td>Annual Silver Plan</td>\n",
       "      <td>SINGAPORE</td>\n",
       "      <td>216.0</td>\n",
       "      <td>54.0</td>\n",
       "      <td>0</td>\n",
       "    </tr>\n",
       "    <tr>\n",
       "      <th>2</th>\n",
       "      <td>JZI</td>\n",
       "      <td>Airlines</td>\n",
       "      <td>Online</td>\n",
       "      <td>Basic Plan</td>\n",
       "      <td>INDIA</td>\n",
       "      <td>22.0</td>\n",
       "      <td>7.7</td>\n",
       "      <td>0</td>\n",
       "    </tr>\n",
       "    <tr>\n",
       "      <th>4</th>\n",
       "      <td>C2B</td>\n",
       "      <td>Airlines</td>\n",
       "      <td>Online</td>\n",
       "      <td>Bronze Plan</td>\n",
       "      <td>SINGAPORE</td>\n",
       "      <td>16.0</td>\n",
       "      <td>4.0</td>\n",
       "      <td>0</td>\n",
       "    </tr>\n",
       "    <tr>\n",
       "      <th>8</th>\n",
       "      <td>JZI</td>\n",
       "      <td>Airlines</td>\n",
       "      <td>Online</td>\n",
       "      <td>Basic Plan</td>\n",
       "      <td>THAILAND</td>\n",
       "      <td>22.0</td>\n",
       "      <td>7.7</td>\n",
       "      <td>0</td>\n",
       "    </tr>\n",
       "    <tr>\n",
       "      <th>11</th>\n",
       "      <td>C2B</td>\n",
       "      <td>Airlines</td>\n",
       "      <td>Online</td>\n",
       "      <td>Annual Silver Plan</td>\n",
       "      <td>SINGAPORE</td>\n",
       "      <td>216.0</td>\n",
       "      <td>54.0</td>\n",
       "      <td>0</td>\n",
       "    </tr>\n",
       "  </tbody>\n",
       "</table>\n",
       "</div>"
      ],
      "text/plain": [
       "   Agency Agency Type Distribution Channel        Product Name Destination  \\\n",
       "0     C2B    Airlines               Online  Annual Silver Plan   SINGAPORE   \n",
       "2     JZI    Airlines               Online          Basic Plan       INDIA   \n",
       "4     C2B    Airlines               Online         Bronze Plan   SINGAPORE   \n",
       "8     JZI    Airlines               Online          Basic Plan    THAILAND   \n",
       "11    C2B    Airlines               Online  Annual Silver Plan   SINGAPORE   \n",
       "\n",
       "    Net Sales  Commision (in value)  Claim  \n",
       "0       216.0                  54.0      0  \n",
       "2        22.0                   7.7      0  \n",
       "4        16.0                   4.0      0  \n",
       "8        22.0                   7.7      0  \n",
       "11      216.0                  54.0      0  "
      ]
     },
     "execution_count": 768,
     "metadata": {},
     "output_type": "execute_result"
    }
   ],
   "source": [
    "df = df.drop(columns=['Gender','Duration','Age'])\n",
    "df = df.drop(df[df['Commision (in value)']==0].index)\n",
    "df = df.drop(df[df['Net Sales']==0].index)\n",
    "df.head()"
   ]
  },
  {
   "cell_type": "code",
   "execution_count": 769,
   "metadata": {},
   "outputs": [
    {
     "data": {
      "text/plain": [
       "(18676, 8)"
      ]
     },
     "execution_count": 769,
     "metadata": {},
     "output_type": "execute_result"
    }
   ],
   "source": [
    "df.shape"
   ]
  },
  {
   "cell_type": "markdown",
   "metadata": {},
   "source": [
    "**Interpretasi**\n",
    "\n",
    "- Menghapus kolom 'gender' karena data kosong lebih dari 70% saya hilangkan, membuat model hasil data tidak stabil\n",
    "- Menghapus kolom 'duration' dihilangkan, membuat model hasil data tidak stabil\n",
    "- Menghapus Nilai 0 kolom net sales & commision (in value), saya berasumsi kemungkinan nilai tidak 0 & membuat model hasil data tidak stabil"
   ]
  },
  {
   "cell_type": "markdown",
   "metadata": {},
   "source": [
    "### **4.3 Menghapus Duplikat**"
   ]
  },
  {
   "cell_type": "code",
   "execution_count": 770,
   "metadata": {},
   "outputs": [
    {
     "data": {
      "text/plain": [
       "16204"
      ]
     },
     "execution_count": 770,
     "metadata": {},
     "output_type": "execute_result"
    }
   ],
   "source": [
    "df.duplicated().sum()"
   ]
  },
  {
   "cell_type": "code",
   "execution_count": 771,
   "metadata": {},
   "outputs": [],
   "source": [
    "df = df.drop_duplicates()"
   ]
  },
  {
   "cell_type": "code",
   "execution_count": 772,
   "metadata": {},
   "outputs": [
    {
     "data": {
      "text/plain": [
       "0"
      ]
     },
     "execution_count": 772,
     "metadata": {},
     "output_type": "execute_result"
    }
   ],
   "source": [
    "df.duplicated().sum()"
   ]
  },
  {
   "cell_type": "code",
   "execution_count": 773,
   "metadata": {},
   "outputs": [
    {
     "data": {
      "text/html": [
       "<div>\n",
       "<style scoped>\n",
       "    .dataframe tbody tr th:only-of-type {\n",
       "        vertical-align: middle;\n",
       "    }\n",
       "\n",
       "    .dataframe tbody tr th {\n",
       "        vertical-align: top;\n",
       "    }\n",
       "\n",
       "    .dataframe thead th {\n",
       "        text-align: right;\n",
       "    }\n",
       "</style>\n",
       "<table border=\"1\" class=\"dataframe\">\n",
       "  <thead>\n",
       "    <tr style=\"text-align: right;\">\n",
       "      <th></th>\n",
       "      <th>Agency</th>\n",
       "      <th>Agency Type</th>\n",
       "      <th>Distribution Channel</th>\n",
       "      <th>Product Name</th>\n",
       "      <th>Destination</th>\n",
       "      <th>Net Sales</th>\n",
       "      <th>Commision (in value)</th>\n",
       "      <th>Claim</th>\n",
       "    </tr>\n",
       "  </thead>\n",
       "  <tbody>\n",
       "    <tr>\n",
       "      <th>0</th>\n",
       "      <td>C2B</td>\n",
       "      <td>Airlines</td>\n",
       "      <td>Online</td>\n",
       "      <td>Annual Silver Plan</td>\n",
       "      <td>SINGAPORE</td>\n",
       "      <td>216.00</td>\n",
       "      <td>54.00</td>\n",
       "      <td>0</td>\n",
       "    </tr>\n",
       "    <tr>\n",
       "      <th>1</th>\n",
       "      <td>JZI</td>\n",
       "      <td>Airlines</td>\n",
       "      <td>Online</td>\n",
       "      <td>Basic Plan</td>\n",
       "      <td>INDIA</td>\n",
       "      <td>22.00</td>\n",
       "      <td>7.70</td>\n",
       "      <td>0</td>\n",
       "    </tr>\n",
       "    <tr>\n",
       "      <th>2</th>\n",
       "      <td>C2B</td>\n",
       "      <td>Airlines</td>\n",
       "      <td>Online</td>\n",
       "      <td>Bronze Plan</td>\n",
       "      <td>SINGAPORE</td>\n",
       "      <td>16.00</td>\n",
       "      <td>4.00</td>\n",
       "      <td>0</td>\n",
       "    </tr>\n",
       "    <tr>\n",
       "      <th>3</th>\n",
       "      <td>JZI</td>\n",
       "      <td>Airlines</td>\n",
       "      <td>Online</td>\n",
       "      <td>Basic Plan</td>\n",
       "      <td>THAILAND</td>\n",
       "      <td>22.00</td>\n",
       "      <td>7.70</td>\n",
       "      <td>0</td>\n",
       "    </tr>\n",
       "    <tr>\n",
       "      <th>4</th>\n",
       "      <td>JZI</td>\n",
       "      <td>Airlines</td>\n",
       "      <td>Online</td>\n",
       "      <td>Basic Plan</td>\n",
       "      <td>KOREA, REPUBLIC OF</td>\n",
       "      <td>26.00</td>\n",
       "      <td>9.10</td>\n",
       "      <td>0</td>\n",
       "    </tr>\n",
       "    <tr>\n",
       "      <th>...</th>\n",
       "      <td>...</td>\n",
       "      <td>...</td>\n",
       "      <td>...</td>\n",
       "      <td>...</td>\n",
       "      <td>...</td>\n",
       "      <td>...</td>\n",
       "      <td>...</td>\n",
       "      <td>...</td>\n",
       "    </tr>\n",
       "    <tr>\n",
       "      <th>2467</th>\n",
       "      <td>ADM</td>\n",
       "      <td>Travel Agency</td>\n",
       "      <td>Online</td>\n",
       "      <td>Premier Plan</td>\n",
       "      <td>FRANCE</td>\n",
       "      <td>130.00</td>\n",
       "      <td>49.40</td>\n",
       "      <td>0</td>\n",
       "    </tr>\n",
       "    <tr>\n",
       "      <th>2468</th>\n",
       "      <td>SSI</td>\n",
       "      <td>Airlines</td>\n",
       "      <td>Online</td>\n",
       "      <td>Ticket Protector</td>\n",
       "      <td>SINGAPORE</td>\n",
       "      <td>4.38</td>\n",
       "      <td>1.23</td>\n",
       "      <td>0</td>\n",
       "    </tr>\n",
       "    <tr>\n",
       "      <th>2469</th>\n",
       "      <td>SSI</td>\n",
       "      <td>Airlines</td>\n",
       "      <td>Online</td>\n",
       "      <td>Ticket Protector</td>\n",
       "      <td>SINGAPORE</td>\n",
       "      <td>16.54</td>\n",
       "      <td>4.64</td>\n",
       "      <td>0</td>\n",
       "    </tr>\n",
       "    <tr>\n",
       "      <th>2470</th>\n",
       "      <td>ART</td>\n",
       "      <td>Airlines</td>\n",
       "      <td>Online</td>\n",
       "      <td>24 Protect</td>\n",
       "      <td>THAILAND</td>\n",
       "      <td>49.39</td>\n",
       "      <td>17.29</td>\n",
       "      <td>0</td>\n",
       "    </tr>\n",
       "    <tr>\n",
       "      <th>2471</th>\n",
       "      <td>LWC</td>\n",
       "      <td>Travel Agency</td>\n",
       "      <td>Online</td>\n",
       "      <td>Single Trip Travel Protect Silver</td>\n",
       "      <td>CHINA</td>\n",
       "      <td>49.50</td>\n",
       "      <td>32.18</td>\n",
       "      <td>0</td>\n",
       "    </tr>\n",
       "  </tbody>\n",
       "</table>\n",
       "<p>2472 rows × 8 columns</p>\n",
       "</div>"
      ],
      "text/plain": [
       "     Agency    Agency Type Distribution Channel  \\\n",
       "0       C2B       Airlines               Online   \n",
       "1       JZI       Airlines               Online   \n",
       "2       C2B       Airlines               Online   \n",
       "3       JZI       Airlines               Online   \n",
       "4       JZI       Airlines               Online   \n",
       "...     ...            ...                  ...   \n",
       "2467    ADM  Travel Agency               Online   \n",
       "2468    SSI       Airlines               Online   \n",
       "2469    SSI       Airlines               Online   \n",
       "2470    ART       Airlines               Online   \n",
       "2471    LWC  Travel Agency               Online   \n",
       "\n",
       "                           Product Name         Destination  Net Sales  \\\n",
       "0                    Annual Silver Plan           SINGAPORE     216.00   \n",
       "1                            Basic Plan               INDIA      22.00   \n",
       "2                           Bronze Plan           SINGAPORE      16.00   \n",
       "3                            Basic Plan            THAILAND      22.00   \n",
       "4                            Basic Plan  KOREA, REPUBLIC OF      26.00   \n",
       "...                                 ...                 ...        ...   \n",
       "2467                       Premier Plan              FRANCE     130.00   \n",
       "2468                   Ticket Protector           SINGAPORE       4.38   \n",
       "2469                   Ticket Protector           SINGAPORE      16.54   \n",
       "2470                         24 Protect            THAILAND      49.39   \n",
       "2471  Single Trip Travel Protect Silver               CHINA      49.50   \n",
       "\n",
       "      Commision (in value)  Claim  \n",
       "0                    54.00      0  \n",
       "1                     7.70      0  \n",
       "2                     4.00      0  \n",
       "3                     7.70      0  \n",
       "4                     9.10      0  \n",
       "...                    ...    ...  \n",
       "2467                 49.40      0  \n",
       "2468                  1.23      0  \n",
       "2469                  4.64      0  \n",
       "2470                 17.29      0  \n",
       "2471                 32.18      0  \n",
       "\n",
       "[2472 rows x 8 columns]"
      ]
     },
     "execution_count": 773,
     "metadata": {},
     "output_type": "execute_result"
    }
   ],
   "source": [
    "df = df.reset_index(drop=True)\n",
    "df"
   ]
  },
  {
   "cell_type": "code",
   "execution_count": 774,
   "metadata": {},
   "outputs": [
    {
     "data": {
      "text/plain": [
       "(2472, 8)"
      ]
     },
     "execution_count": 774,
     "metadata": {},
     "output_type": "execute_result"
    }
   ],
   "source": [
    "df.shape"
   ]
  },
  {
   "cell_type": "markdown",
   "metadata": {},
   "source": [
    "**Interpretasi:**\n",
    "\n",
    "- Data duplikat 16204 dihilangkan karena saat modelling hasil kurang maksimal\n",
    "- Data sudah tidak ada duplikat"
   ]
  },
  {
   "cell_type": "markdown",
   "metadata": {},
   "source": [
    "### **4.4 Handling Outlier**"
   ]
  },
  {
   "cell_type": "code",
   "execution_count": 775,
   "metadata": {},
   "outputs": [],
   "source": [
    "numerical_features = df.drop(columns=['Claim']).describe().columns"
   ]
  },
  {
   "cell_type": "code",
   "execution_count": 776,
   "metadata": {},
   "outputs": [
    {
     "data": {
      "text/html": [
       "<div>\n",
       "<style scoped>\n",
       "    .dataframe tbody tr th:only-of-type {\n",
       "        vertical-align: middle;\n",
       "    }\n",
       "\n",
       "    .dataframe tbody tr th {\n",
       "        vertical-align: top;\n",
       "    }\n",
       "\n",
       "    .dataframe thead th {\n",
       "        text-align: right;\n",
       "    }\n",
       "</style>\n",
       "<table border=\"1\" class=\"dataframe\">\n",
       "  <thead>\n",
       "    <tr style=\"text-align: right;\">\n",
       "      <th></th>\n",
       "      <th>Kolom</th>\n",
       "      <th>Lower</th>\n",
       "      <th>Upper</th>\n",
       "      <th># Lower</th>\n",
       "      <th># Inside</th>\n",
       "      <th># Upper</th>\n",
       "      <th>% Outlier</th>\n",
       "    </tr>\n",
       "  </thead>\n",
       "  <tbody>\n",
       "    <tr>\n",
       "      <th>0</th>\n",
       "      <td>Net Sales</td>\n",
       "      <td>-84.150</td>\n",
       "      <td>193.050</td>\n",
       "      <td>60</td>\n",
       "      <td>2228</td>\n",
       "      <td>184</td>\n",
       "      <td>9.87</td>\n",
       "    </tr>\n",
       "    <tr>\n",
       "      <th>1</th>\n",
       "      <td>Commision (in value)</td>\n",
       "      <td>-38.445</td>\n",
       "      <td>89.595</td>\n",
       "      <td>0</td>\n",
       "      <td>2330</td>\n",
       "      <td>142</td>\n",
       "      <td>5.74</td>\n",
       "    </tr>\n",
       "  </tbody>\n",
       "</table>\n",
       "</div>"
      ],
      "text/plain": [
       "                  Kolom   Lower    Upper  # Lower  # Inside  # Upper  \\\n",
       "0             Net Sales -84.150  193.050       60      2228      184   \n",
       "1  Commision (in value) -38.445   89.595        0      2330      142   \n",
       "\n",
       "   % Outlier  \n",
       "0       9.87  \n",
       "1       5.74  "
      ]
     },
     "execution_count": 776,
     "metadata": {},
     "output_type": "execute_result"
    }
   ],
   "source": [
    "# mencari nilai lower dan upper fence pada masing-masing kolom numerikal\n",
    "\n",
    "list_lower = []\n",
    "list_upper = []\n",
    "number_lower = []\n",
    "number_inside = []\n",
    "number_upper = []\n",
    "percentage_outlier = []\n",
    "\n",
    "for feature in numerical_features: \n",
    "    IQR = df[feature].quantile(0.75) - df[feature].quantile(0.25)\n",
    "    lower_fence = df[feature].quantile(0.25) - 1.5*IQR\n",
    "    upper_fence = df[feature].quantile(0.75) + 1.5*IQR\n",
    "    list_lower.append(lower_fence)\n",
    "    list_upper.append(upper_fence)\n",
    "    number_lower.append(len(df[df[feature]<lower_fence]))\n",
    "    number_inside.append(len(df[(df[feature]>=lower_fence) & (df[feature]<=upper_fence)]))\n",
    "    number_upper.append(len(df[df[feature]>upper_fence]))\n",
    "    percentage_outlier.append(round((len(df[df[feature]<lower_fence]) + len(df[df[feature]>upper_fence])) / len(df)  *100, 2))\n",
    "\n",
    "outliers = pd.DataFrame({\n",
    "    'Kolom' : numerical_features,\n",
    "    'Lower' : list_lower,\n",
    "    'Upper' : list_upper,\n",
    "    '# Lower' : number_lower,\n",
    "    '# Inside' : number_inside,\n",
    "    '# Upper' : number_upper,\n",
    "    '% Outlier' : percentage_outlier\n",
    "})\n",
    "\n",
    "outliers"
   ]
  },
  {
   "cell_type": "code",
   "execution_count": 777,
   "metadata": {},
   "outputs": [
    {
     "data": {
      "text/plain": [
       "Claim\n",
       "0    90.331715\n",
       "1     9.668285\n",
       "Name: count, dtype: float64"
      ]
     },
     "execution_count": 777,
     "metadata": {},
     "output_type": "execute_result"
    }
   ],
   "source": [
    "# proporsi target pada dataset awal\n",
    "df['Claim'].value_counts()/len(df) * 100"
   ]
  },
  {
   "cell_type": "code",
   "execution_count": 778,
   "metadata": {},
   "outputs": [
    {
     "data": {
      "text/plain": [
       "Claim\n",
       "0    90.091211\n",
       "1     9.908789\n",
       "Name: count, dtype: float64"
      ]
     },
     "execution_count": 778,
     "metadata": {},
     "output_type": "execute_result"
    }
   ],
   "source": [
    "# proporsi target untuk data outlier pada kolom SPEEDING_VIOLATIONS\n",
    "df[df['Net Sales']> -84]['Claim'].value_counts()/len(df[df['Net Sales']> -84]) * 100"
   ]
  },
  {
   "cell_type": "code",
   "execution_count": 779,
   "metadata": {},
   "outputs": [
    {
     "data": {
      "text/plain": [
       "Claim\n",
       "0    90.331715\n",
       "1     9.668285\n",
       "Name: count, dtype: float64"
      ]
     },
     "execution_count": 779,
     "metadata": {},
     "output_type": "execute_result"
    }
   ],
   "source": [
    "# proporsi target untuk data outlier pada kolom SPEEDING_VIOLATIONS\n",
    "df[df['Commision (in value)']> -38]['Claim'].value_counts()/len(df[df['Commision (in value)']> -38]) * 100"
   ]
  },
  {
   "cell_type": "markdown",
   "metadata": {},
   "source": [
    "**Interpretasi:**\n",
    "\n",
    "- Nilai Outlier pada Net Sales, Commision (in value) dan claim sama, saya memustukan untuk tidak menghilangkan Outlier"
   ]
  },
  {
   "cell_type": "markdown",
   "metadata": {},
   "source": [
    "### **4.5 Encoding**"
   ]
  },
  {
   "cell_type": "code",
   "execution_count": 780,
   "metadata": {},
   "outputs": [],
   "source": [
    "# menyatukan beberapa tahap preprocessing atau fungsi lainnya\n",
    "from sklearn.compose import ColumnTransformer\n",
    "from imblearn.pipeline import Pipeline\n",
    "\n",
    "# encoder dan scaler\n",
    "from sklearn.preprocessing import OneHotEncoder\n",
    "from category_encoders import BinaryEncoder, OrdinalEncoder\n",
    "from sklearn.preprocessing import RobustScaler, MinMaxScaler, StandardScaler"
   ]
  },
  {
   "cell_type": "code",
   "execution_count": 781,
   "metadata": {},
   "outputs": [],
   "source": [
    "categorical_features = df.drop(columns='Claim').describe(include='object').columns"
   ]
  },
  {
   "cell_type": "code",
   "execution_count": 782,
   "metadata": {},
   "outputs": [
    {
     "data": {
      "text/html": [
       "<div>\n",
       "<style scoped>\n",
       "    .dataframe tbody tr th:only-of-type {\n",
       "        vertical-align: middle;\n",
       "    }\n",
       "\n",
       "    .dataframe tbody tr th {\n",
       "        vertical-align: top;\n",
       "    }\n",
       "\n",
       "    .dataframe thead th {\n",
       "        text-align: right;\n",
       "    }\n",
       "</style>\n",
       "<table border=\"1\" class=\"dataframe\">\n",
       "  <thead>\n",
       "    <tr style=\"text-align: right;\">\n",
       "      <th></th>\n",
       "      <th>Column Name</th>\n",
       "      <th>Number of Unique</th>\n",
       "      <th>Unique Values</th>\n",
       "    </tr>\n",
       "  </thead>\n",
       "  <tbody>\n",
       "    <tr>\n",
       "      <th>0</th>\n",
       "      <td>Agency</td>\n",
       "      <td>14</td>\n",
       "      <td>[ADM, ART, C2B, CBH, CCR, CSR, CWT, JWT, JZI, KML, LWC, RAB, SSI, TST]</td>\n",
       "    </tr>\n",
       "    <tr>\n",
       "      <th>1</th>\n",
       "      <td>Agency Type</td>\n",
       "      <td>2</td>\n",
       "      <td>[Airlines, Travel Agency]</td>\n",
       "    </tr>\n",
       "    <tr>\n",
       "      <th>2</th>\n",
       "      <td>Distribution Channel</td>\n",
       "      <td>2</td>\n",
       "      <td>[Offline, Online]</td>\n",
       "    </tr>\n",
       "    <tr>\n",
       "      <th>3</th>\n",
       "      <td>Product Name</td>\n",
       "      <td>19</td>\n",
       "      <td>[24 Protect, Annual Gold Plan, Annual Silver Plan, Annual Travel Protect Gold, Annual Travel Protect Platinum, Annual Travel Protect Silver, Basic Plan, Bronze Plan, Comprehensive Plan, Gold Plan, Premier Plan, Rental Vehicle Excess Insurance, Silver Plan, Single Trip Travel Protect Gold, Single Trip Travel Protect Platinum, Single Trip Travel Protect Silver, Ticket Protector, Travel Cruise Protect, Value Plan]</td>\n",
       "    </tr>\n",
       "    <tr>\n",
       "      <th>4</th>\n",
       "      <td>Destination</td>\n",
       "      <td>92</td>\n",
       "      <td>[ARGENTINA, AUSTRALIA, AUSTRIA, BAHRAIN, BANGLADESH, BELARUS, BELGIUM, BHUTAN, BRAZIL, BRUNEI DARUSSALAM, BULGARIA, CAMBODIA, CANADA, CHINA, COLOMBIA, CROATIA, CYPRUS, CZECH REPUBLIC, DENMARK, EGYPT, ESTONIA, ETHIOPIA, FAROE ISLANDS, FINLAND, FRANCE, GERMANY, GREECE, GUAM, GUINEA, HONG KONG, HUNGARY, ICELAND, INDIA, INDONESIA, IRAN, ISLAMIC REPUBLIC OF, IRELAND, ISRAEL, ITALY, JAPAN, JORDAN, KENYA, KOREA, DEMOCRATIC PEOPLE'S REPUBLIC OF, KOREA, REPUBLIC OF, LAO PEOPLE'S DEMOCRATIC REPUBLIC, LEBANON, LITHUANIA, LUXEMBOURG, MACAO, MALAYSIA, MALI, MALTA, MAURITIUS, MEXICO, MONGOLIA, MOROCCO, MYANMAR, NAMIBIA, NEPAL, NETHERLANDS, NEW ZEALAND, NORWAY, OMAN, PAKISTAN, PAPUA NEW GUINEA, PERU, PHILIPPINES, POLAND, PORTUGAL, QATAR, REPUBLIC OF MONTENEGRO, REUNION, ROMANIA, RUSSIAN FEDERATION, SAUDI ARABIA, SINGAPORE, SLOVENIA, SOUTH AFRICA, SPAIN, SRI LANKA, SWEDEN, SWITZERLAND, TAIWAN, PROVINCE OF CHINA, THAILAND, TRINIDAD AND TOBAGO, TUNISIA, TURKEY, TURKMENISTAN, UNITED ARAB EMIRATES, UNITED KINGDOM, UNITED STATES, VANUATU, VIET NAM]</td>\n",
       "    </tr>\n",
       "  </tbody>\n",
       "</table>\n",
       "</div>"
      ],
      "text/plain": [
       "            Column Name  Number of Unique  \\\n",
       "0                Agency                14   \n",
       "1           Agency Type                 2   \n",
       "2  Distribution Channel                 2   \n",
       "3          Product Name                19   \n",
       "4           Destination                92   \n",
       "\n",
       "                                                                                                                                                                                                                                                                                                                                                                                                                                                                                                                                                                                                                                                                                                                                                                                                                                                                                                                                                                                                                                                                         Unique Values  \n",
       "0                                                                                                                                                                                                                                                                                                                                                                                                                                                                                                                                                                                                                                                                                                                                                                                                                                                                                                                                                                                                               [ADM, ART, C2B, CBH, CCR, CSR, CWT, JWT, JZI, KML, LWC, RAB, SSI, TST]  \n",
       "1                                                                                                                                                                                                                                                                                                                                                                                                                                                                                                                                                                                                                                                                                                                                                                                                                                                                                                                                                                                                                                                            [Airlines, Travel Agency]  \n",
       "2                                                                                                                                                                                                                                                                                                                                                                                                                                                                                                                                                                                                                                                                                                                                                                                                                                                                                                                                                                                                                                                                    [Offline, Online]  \n",
       "3                                                                                                                                                                                                                                                                                                                                                                                                                                                                                                                                                                                                                                                       [24 Protect, Annual Gold Plan, Annual Silver Plan, Annual Travel Protect Gold, Annual Travel Protect Platinum, Annual Travel Protect Silver, Basic Plan, Bronze Plan, Comprehensive Plan, Gold Plan, Premier Plan, Rental Vehicle Excess Insurance, Silver Plan, Single Trip Travel Protect Gold, Single Trip Travel Protect Platinum, Single Trip Travel Protect Silver, Ticket Protector, Travel Cruise Protect, Value Plan]  \n",
       "4  [ARGENTINA, AUSTRALIA, AUSTRIA, BAHRAIN, BANGLADESH, BELARUS, BELGIUM, BHUTAN, BRAZIL, BRUNEI DARUSSALAM, BULGARIA, CAMBODIA, CANADA, CHINA, COLOMBIA, CROATIA, CYPRUS, CZECH REPUBLIC, DENMARK, EGYPT, ESTONIA, ETHIOPIA, FAROE ISLANDS, FINLAND, FRANCE, GERMANY, GREECE, GUAM, GUINEA, HONG KONG, HUNGARY, ICELAND, INDIA, INDONESIA, IRAN, ISLAMIC REPUBLIC OF, IRELAND, ISRAEL, ITALY, JAPAN, JORDAN, KENYA, KOREA, DEMOCRATIC PEOPLE'S REPUBLIC OF, KOREA, REPUBLIC OF, LAO PEOPLE'S DEMOCRATIC REPUBLIC, LEBANON, LITHUANIA, LUXEMBOURG, MACAO, MALAYSIA, MALI, MALTA, MAURITIUS, MEXICO, MONGOLIA, MOROCCO, MYANMAR, NAMIBIA, NEPAL, NETHERLANDS, NEW ZEALAND, NORWAY, OMAN, PAKISTAN, PAPUA NEW GUINEA, PERU, PHILIPPINES, POLAND, PORTUGAL, QATAR, REPUBLIC OF MONTENEGRO, REUNION, ROMANIA, RUSSIAN FEDERATION, SAUDI ARABIA, SINGAPORE, SLOVENIA, SOUTH AFRICA, SPAIN, SRI LANKA, SWEDEN, SWITZERLAND, TAIWAN, PROVINCE OF CHINA, THAILAND, TRINIDAD AND TOBAGO, TUNISIA, TURKEY, TURKMENISTAN, UNITED ARAB EMIRATES, UNITED KINGDOM, UNITED STATES, VANUATU, VIET NAM]  "
      ]
     },
     "execution_count": 782,
     "metadata": {},
     "output_type": "execute_result"
    }
   ],
   "source": [
    "# menampilkan jumlah unik dan unique values untuk setiap kolom\n",
    "pd.set_option('display.max_colwidth', None)\n",
    "# data unik di tiap kolom\n",
    "listItem = []\n",
    "for col in categorical_features :\n",
    "    listItem.append( [col, df[col].nunique(), df.sort_values(col)[col].unique()])\n",
    "\n",
    "tabel1Desc = pd.DataFrame(columns=['Column Name', 'Number of Unique', 'Unique Values'],\n",
    "                     data=listItem)\n",
    "tabel1Desc"
   ]
  },
  {
   "cell_type": "code",
   "execution_count": 783,
   "metadata": {},
   "outputs": [],
   "source": [
    "#Transformer\n",
    "\n",
    "transformer = ColumnTransformer([\n",
    "    ('onehot', OneHotEncoder(), ['Agency Type', 'Distribution Channel']),\n",
    "    ('binhot', BinaryEncoder(), ['Agency', 'Product Name', 'Destination'])\n",
    "], remainder='passthrough')\n"
   ]
  },
  {
   "cell_type": "markdown",
   "metadata": {},
   "source": [
    "**Interpretasi:**\n",
    "- Agency Type dan Distribution Channel saya masukkan kategori Onehot Encoder, karena kategori jumlah hanya 2 unique Data\n",
    "- Agency, Product Name dan Destination saya masukkan kategori binary Encoder, karena kategori banyak lebih dari jumlah 7 unique Data"
   ]
  },
  {
   "cell_type": "markdown",
   "metadata": {},
   "source": [
    "### **4.6 Scaling**"
   ]
  },
  {
   "cell_type": "code",
   "execution_count": 784,
   "metadata": {},
   "outputs": [],
   "source": [
    "numerical_features = df.describe().drop(columns='Claim')"
   ]
  },
  {
   "cell_type": "code",
   "execution_count": 785,
   "metadata": {},
   "outputs": [
    {
     "data": {
      "image/png": "[encoded data removed]",
      "text/plain": [
       "<Figure size 750x500 with 2 Axes>"
      ]
     },
     "metadata": {},
     "output_type": "display_data"
    },
    {
     "data": {
      "image/png": "[encoded data removed]",
      "text/plain": [
       "<Figure size 750x500 with 2 Axes>"
      ]
     },
     "metadata": {},
     "output_type": "display_data"
    }
   ],
   "source": [
    "for kolom in numerical_features:\n",
    "\n",
    "    fig, (ax1, ax2) = plt.subplots(2, sharex = True, figsize = (7.5,5), \n",
    "                                    gridspec_kw={\"height_ratios\": (.15, .85),\n",
    "                                                \"hspace\": 0.05})\n",
    "\n",
    "    stat, pvalue = normaltest(df[kolom].dropna())\n",
    "\n",
    "    if pvalue > 0.05 :\n",
    "        distribusi = f'pvalue = {pvalue:.5f}, data terdistribusi normal'\n",
    "    else :\n",
    "        distribusi = f'pvalue = {pvalue:.5f}, data TIDAK terdistribusi normal'\n",
    "\n",
    "    ax1.set_title(f\"Distribution of {kolom}\\n{distribusi}\", color = \"black\")\n",
    "    sns.boxplot(x = df[kolom], ax = ax1)\n",
    "    ax1.set(xlabel = \"\")\n",
    "\n",
    "    sns.histplot(data = df[kolom], ax = ax2, stat = \"probability\", kde=True, bins=50)\n",
    "\n",
    "    plt.show()"
   ]
  },
  {
   "cell_type": "code",
   "execution_count": 786,
   "metadata": {},
   "outputs": [],
   "source": [
    "# scaling sebelum tuning dan Hyperparameter Tuning scaling\n",
    "robust = RobustScaler()"
   ]
  },
  {
   "cell_type": "markdown",
   "metadata": {},
   "source": [
    "**Interpretasi:**\n",
    "\n",
    "- Dataset ini distribusi tidak normal, maka scaling gunakan robust scaler untuk modelling sebelum tuning dan sesudah tuning"
   ]
  },
  {
   "cell_type": "markdown",
   "metadata": {},
   "source": [
    "### **4.7 Imbalance Data**"
   ]
  },
  {
   "cell_type": "code",
   "execution_count": 787,
   "metadata": {},
   "outputs": [],
   "source": [
    "# resampler\n",
    "from imblearn.over_sampling import RandomOverSampler, SMOTE\n",
    "from imblearn.under_sampling import RandomUnderSampler, NearMiss"
   ]
  },
  {
   "cell_type": "code",
   "execution_count": 788,
   "metadata": {},
   "outputs": [
    {
     "data": {
      "text/plain": [
       "Claim\n",
       "0    90.331715\n",
       "1     9.668285\n",
       "Name: count, dtype: float64"
      ]
     },
     "execution_count": 788,
     "metadata": {},
     "output_type": "execute_result"
    }
   ],
   "source": [
    "# proporsi target pada dataset awal\n",
    "df['Claim'].value_counts()/len(df) * 100"
   ]
  },
  {
   "cell_type": "code",
   "execution_count": 789,
   "metadata": {},
   "outputs": [],
   "source": [
    "#Resampler \n",
    "\n",
    "smote = SMOTE(random_state=0)\n",
    "rus = RandomUnderSampler(random_state=0)\n",
    "ros = RandomOverSampler(random_state=0)\n",
    "near = NearMiss(n_neighbors= 5)"
   ]
  },
  {
   "cell_type": "markdown",
   "metadata": {},
   "source": [
    "**Interpretasi:**\n",
    "\n",
    "- Dataset ini data tidak balance saya menggunakan resample melakukan modelling"
   ]
  },
  {
   "cell_type": "markdown",
   "metadata": {},
   "source": [
    "## **5. Data Splitting**"
   ]
  },
  {
   "cell_type": "markdown",
   "metadata": {},
   "source": [
    "___"
   ]
  },
  {
   "cell_type": "code",
   "execution_count": 790,
   "metadata": {},
   "outputs": [],
   "source": [
    "# train test split\n",
    "from sklearn.model_selection import train_test_split"
   ]
  },
  {
   "cell_type": "markdown",
   "metadata": {},
   "source": [
    "### **5.1 Define Features (X) and Target (y)**"
   ]
  },
  {
   "cell_type": "code",
   "execution_count": 791,
   "metadata": {},
   "outputs": [],
   "source": [
    "# Features\n",
    "X = df.drop(columns='Claim')\n",
    "\n",
    "# target\n",
    "y = df['Claim']"
   ]
  },
  {
   "cell_type": "code",
   "execution_count": 792,
   "metadata": {},
   "outputs": [
    {
     "data": {
      "text/plain": [
       "Index(['Agency', 'Agency Type', 'Distribution Channel', 'Product Name',\n",
       "       'Destination', 'Net Sales', 'Commision (in value)'],\n",
       "      dtype='object')"
      ]
     },
     "execution_count": 792,
     "metadata": {},
     "output_type": "execute_result"
    }
   ],
   "source": [
    "X.columns"
   ]
  },
  {
   "cell_type": "markdown",
   "metadata": {},
   "source": [
    "**Interpretasi:**\n",
    "\n",
    "- Untuk feature saya menamai X terdiri dari agency, agency type, distribution channel, product name, destination, net sales, commision (in value), dan age\n",
    "- Untuk target saya menamai y adalah claim"
   ]
  },
  {
   "cell_type": "markdown",
   "metadata": {},
   "source": [
    "### **5.2 Splitting Data**"
   ]
  },
  {
   "cell_type": "code",
   "execution_count": 793,
   "metadata": {},
   "outputs": [],
   "source": [
    "X_train, X_test, y_train, y_test = train_test_split(\n",
    "    X, \n",
    "    y,\n",
    "    test_size=0.2,\n",
    "    random_state=0,\n",
    "    stratify=y\n",
    ")"
   ]
  },
  {
   "cell_type": "markdown",
   "metadata": {},
   "source": [
    "**Interpretasi:**\n",
    "\n",
    "- test size 0.2 yaitu mengtest data 20 persen dan mengtrain data 80 persen\n",
    "- random state 0 yaitu hasil output tidak random data \n",
    "- Stratify y yaitu data dalam bentuk dan klasifikasi maka perlu dilakukan stratify"
   ]
  },
  {
   "cell_type": "markdown",
   "metadata": {},
   "source": [
    "## **6. Modelling & Evaluation**"
   ]
  },
  {
   "cell_type": "markdown",
   "metadata": {},
   "source": [
    "____"
   ]
  },
  {
   "cell_type": "markdown",
   "metadata": {},
   "source": [
    "### **6.1 Modelling tanpa Tuning**"
   ]
  },
  {
   "cell_type": "code",
   "execution_count": 794,
   "metadata": {},
   "outputs": [],
   "source": [
    "# algoritma ML\n",
    "from sklearn.linear_model import LogisticRegression\n",
    "from sklearn.neighbors import KNeighborsClassifier\n",
    "from sklearn.tree import DecisionTreeClassifier, plot_tree\n",
    "from sklearn.ensemble import VotingClassifier, StackingClassifier, RandomForestClassifier, AdaBoostClassifier, GradientBoostingClassifier\n",
    "from xgboost.sklearn import XGBClassifier\n",
    "\n",
    "\n",
    "# cross validation untuk menentukan algoritma terbaik\n",
    "from sklearn.model_selection import cross_val_score, StratifiedKFold\n",
    "from sklearn.metrics import fbeta_score, make_scorer\n",
    "from sklearn.metrics import recall_score"
   ]
  },
  {
   "cell_type": "code",
   "execution_count": 795,
   "metadata": {},
   "outputs": [],
   "source": [
    "\n",
    "# Model Tree, Logistic Regression, KNN\n",
    "tree = DecisionTreeClassifier(random_state=0)\n",
    "logreg = LogisticRegression(random_state=0)\n",
    "knn = KNeighborsClassifier(n_neighbors=10)\n",
    "\n",
    "# RandomForest\n",
    "rf = RandomForestClassifier(random_state=0)\n",
    "\n",
    "# Adaboost\n",
    "adaboost = AdaBoostClassifier(random_state=0)\n",
    "\n",
    "# Gradientboost\n",
    "gradboost = GradientBoostingClassifier(random_state=0)\n",
    "\n",
    "# ExtremeGradientBoost\n",
    "xgboost = XGBClassifier(random_state=0, verbosity=0)\n",
    "\n"
   ]
  },
  {
   "cell_type": "markdown",
   "metadata": {},
   "source": [
    "**Interpretasi**\n",
    "\n",
    "- Saya menentukan 7 modeling sebelum dituning untuk dataset ini terdiri dari decision tree, logistic regression, knn, random forest, adaboost, gradient boost dan xgboost\n",
    "- saya mencoba modelling terbaik untuk dataset ini "
   ]
  },
  {
   "cell_type": "markdown",
   "metadata": {},
   "source": [
    "#### **6.1.1 Recall X_train**"
   ]
  },
  {
   "cell_type": "markdown",
   "metadata": {},
   "source": [
    "##### **6.1.1.1 Random Over Sampling (ROS)**"
   ]
  },
  {
   "cell_type": "code",
   "execution_count": 796,
   "metadata": {},
   "outputs": [],
   "source": [
    "models = [knn, logreg, tree, rf, adaboost, gradboost, xgboost]\n",
    "resampler = [ros, rus, smote, near]\n",
    "\n",
    "\n",
    "list_mean = []\n",
    "list_std = []\n",
    "list_score = []\n",
    "\n",
    "for algoritma in models:\n",
    "\n",
    "    pipe_model=Pipeline([\n",
    "        ('preprocess', transformer),\n",
    "        ('scaler', robust),\n",
    "        ('resampler', ros),\n",
    "        ('model', algoritma)\n",
    "    ])\n",
    "\n",
    "    skfold = StratifiedKFold(n_splits=5)\n",
    "\n",
    "    model_cv = cross_val_score(\n",
    "        estimator=pipe_model,\n",
    "        X=X_train,\n",
    "        y=y_train,\n",
    "        cv=skfold,\n",
    "        scoring= 'recall'\n",
    "        \n",
    "    )\n",
    "\n",
    "    list_mean.append(model_cv.mean())\n",
    "    list_std.append(model_cv.std())\n",
    "    list_score.append(model_cv.round(3))"
   ]
  },
  {
   "cell_type": "code",
   "execution_count": 797,
   "metadata": {},
   "outputs": [
    {
     "data": {
      "text/html": [
       "<div>\n",
       "<style scoped>\n",
       "    .dataframe tbody tr th:only-of-type {\n",
       "        vertical-align: middle;\n",
       "    }\n",
       "\n",
       "    .dataframe tbody tr th {\n",
       "        vertical-align: top;\n",
       "    }\n",
       "\n",
       "    .dataframe thead th {\n",
       "        text-align: right;\n",
       "    }\n",
       "</style>\n",
       "<table border=\"1\" class=\"dataframe\">\n",
       "  <thead>\n",
       "    <tr style=\"text-align: right;\">\n",
       "      <th></th>\n",
       "      <th>model</th>\n",
       "      <th>mean recall</th>\n",
       "      <th>std recall</th>\n",
       "      <th>score</th>\n",
       "    </tr>\n",
       "  </thead>\n",
       "  <tbody>\n",
       "    <tr>\n",
       "      <th>1</th>\n",
       "      <td>logreg</td>\n",
       "      <td>0.712146</td>\n",
       "      <td>0.054519</td>\n",
       "      <td>[0.658, 0.692, 0.789, 0.658, 0.763]</td>\n",
       "    </tr>\n",
       "    <tr>\n",
       "      <th>4</th>\n",
       "      <td>adaboost</td>\n",
       "      <td>0.654656</td>\n",
       "      <td>0.032303</td>\n",
       "      <td>[0.658, 0.615, 0.632, 0.658, 0.711]</td>\n",
       "    </tr>\n",
       "    <tr>\n",
       "      <th>0</th>\n",
       "      <td>knn</td>\n",
       "      <td>0.643995</td>\n",
       "      <td>0.063394</td>\n",
       "      <td>[0.684, 0.641, 0.658, 0.526, 0.711]</td>\n",
       "    </tr>\n",
       "    <tr>\n",
       "      <th>5</th>\n",
       "      <td>gradboost</td>\n",
       "      <td>0.549933</td>\n",
       "      <td>0.069859</td>\n",
       "      <td>[0.553, 0.513, 0.579, 0.447, 0.658]</td>\n",
       "    </tr>\n",
       "    <tr>\n",
       "      <th>6</th>\n",
       "      <td>xgboost</td>\n",
       "      <td>0.177868</td>\n",
       "      <td>0.029636</td>\n",
       "      <td>[0.132, 0.205, 0.158, 0.211, 0.184]</td>\n",
       "    </tr>\n",
       "    <tr>\n",
       "      <th>2</th>\n",
       "      <td>tree</td>\n",
       "      <td>0.094197</td>\n",
       "      <td>0.012490</td>\n",
       "      <td>[0.105, 0.103, 0.105, 0.079, 0.079]</td>\n",
       "    </tr>\n",
       "    <tr>\n",
       "      <th>3</th>\n",
       "      <td>random forest</td>\n",
       "      <td>0.078408</td>\n",
       "      <td>0.022951</td>\n",
       "      <td>[0.079, 0.103, 0.105, 0.053, 0.053]</td>\n",
       "    </tr>\n",
       "  </tbody>\n",
       "</table>\n",
       "</div>"
      ],
      "text/plain": [
       "           model  mean recall  std recall                                score\n",
       "1         logreg     0.712146    0.054519  [0.658, 0.692, 0.789, 0.658, 0.763]\n",
       "4       adaboost     0.654656    0.032303  [0.658, 0.615, 0.632, 0.658, 0.711]\n",
       "0            knn     0.643995    0.063394  [0.684, 0.641, 0.658, 0.526, 0.711]\n",
       "5      gradboost     0.549933    0.069859  [0.553, 0.513, 0.579, 0.447, 0.658]\n",
       "6        xgboost     0.177868    0.029636  [0.132, 0.205, 0.158, 0.211, 0.184]\n",
       "2           tree     0.094197    0.012490  [0.105, 0.103, 0.105, 0.079, 0.079]\n",
       "3  random forest     0.078408    0.022951  [0.079, 0.103, 0.105, 0.053, 0.053]"
      ]
     },
     "execution_count": 797,
     "metadata": {},
     "output_type": "execute_result"
    }
   ],
   "source": [
    "pd.DataFrame({\n",
    "    'model' : ['knn', 'logreg', 'tree', 'random forest', 'adaboost', 'gradboost', 'xgboost'],\n",
    "    'mean recall' : list_mean,\n",
    "    'std recall' : list_std,\n",
    "    'score' : list_score\n",
    "}).sort_values('mean recall', ascending=False)"
   ]
  },
  {
   "cell_type": "markdown",
   "metadata": {},
   "source": [
    "##### **6.1.1.2 Random Under Sampling (RUS)**"
   ]
  },
  {
   "cell_type": "code",
   "execution_count": 798,
   "metadata": {},
   "outputs": [],
   "source": [
    "models = [knn, logreg, tree, rf, adaboost, gradboost, xgboost]\n",
    "resampler = [ros, rus, smote]\n",
    "\n",
    "\n",
    "list_mean = []\n",
    "list_std = []\n",
    "list_score = []\n",
    "\n",
    "for algoritma in models:\n",
    "\n",
    "    pipe_model=Pipeline([\n",
    "        ('preprocess', transformer),\n",
    "        ('scaler', robust),\n",
    "        ('resampler', rus),\n",
    "        ('model', algoritma)\n",
    "    ])\n",
    "\n",
    "    skfold = StratifiedKFold(n_splits=5)\n",
    "\n",
    "    model_cv = cross_val_score(\n",
    "        estimator=pipe_model,\n",
    "        X=X_train,\n",
    "        y=y_train,\n",
    "        cv=skfold,\n",
    "        scoring= 'recall'\n",
    "    )\n",
    "\n",
    "    list_mean.append(model_cv.mean())\n",
    "    list_std.append(model_cv.std())\n",
    "    list_score.append(model_cv.round(3))"
   ]
  },
  {
   "cell_type": "code",
   "execution_count": 799,
   "metadata": {},
   "outputs": [
    {
     "data": {
      "text/html": [
       "<div>\n",
       "<style scoped>\n",
       "    .dataframe tbody tr th:only-of-type {\n",
       "        vertical-align: middle;\n",
       "    }\n",
       "\n",
       "    .dataframe tbody tr th {\n",
       "        vertical-align: top;\n",
       "    }\n",
       "\n",
       "    .dataframe thead th {\n",
       "        text-align: right;\n",
       "    }\n",
       "</style>\n",
       "<table border=\"1\" class=\"dataframe\">\n",
       "  <thead>\n",
       "    <tr style=\"text-align: right;\">\n",
       "      <th></th>\n",
       "      <th>model</th>\n",
       "      <th>mean recall</th>\n",
       "      <th>std recall</th>\n",
       "      <th>score</th>\n",
       "    </tr>\n",
       "  </thead>\n",
       "  <tbody>\n",
       "    <tr>\n",
       "      <th>4</th>\n",
       "      <td>adaboost</td>\n",
       "      <td>0.675574</td>\n",
       "      <td>0.041030</td>\n",
       "      <td>[0.632, 0.641, 0.658, 0.737, 0.711]</td>\n",
       "    </tr>\n",
       "    <tr>\n",
       "      <th>1</th>\n",
       "      <td>logreg</td>\n",
       "      <td>0.659919</td>\n",
       "      <td>0.034472</td>\n",
       "      <td>[0.658, 0.615, 0.711, 0.632, 0.684]</td>\n",
       "    </tr>\n",
       "    <tr>\n",
       "      <th>5</th>\n",
       "      <td>gradboost</td>\n",
       "      <td>0.648718</td>\n",
       "      <td>0.056436</td>\n",
       "      <td>[0.605, 0.744, 0.579, 0.658, 0.658]</td>\n",
       "    </tr>\n",
       "    <tr>\n",
       "      <th>0</th>\n",
       "      <td>knn</td>\n",
       "      <td>0.633468</td>\n",
       "      <td>0.064571</td>\n",
       "      <td>[0.526, 0.641, 0.684, 0.605, 0.711]</td>\n",
       "    </tr>\n",
       "    <tr>\n",
       "      <th>6</th>\n",
       "      <td>xgboost</td>\n",
       "      <td>0.596491</td>\n",
       "      <td>0.038835</td>\n",
       "      <td>[0.605, 0.667, 0.553, 0.579, 0.579]</td>\n",
       "    </tr>\n",
       "    <tr>\n",
       "      <th>3</th>\n",
       "      <td>random forest</td>\n",
       "      <td>0.539541</td>\n",
       "      <td>0.075310</td>\n",
       "      <td>[0.474, 0.487, 0.632, 0.474, 0.632]</td>\n",
       "    </tr>\n",
       "    <tr>\n",
       "      <th>2</th>\n",
       "      <td>tree</td>\n",
       "      <td>0.491768</td>\n",
       "      <td>0.043152</td>\n",
       "      <td>[0.447, 0.564, 0.5, 0.447, 0.5]</td>\n",
       "    </tr>\n",
       "  </tbody>\n",
       "</table>\n",
       "</div>"
      ],
      "text/plain": [
       "           model  mean recall  std recall                                score\n",
       "4       adaboost     0.675574    0.041030  [0.632, 0.641, 0.658, 0.737, 0.711]\n",
       "1         logreg     0.659919    0.034472  [0.658, 0.615, 0.711, 0.632, 0.684]\n",
       "5      gradboost     0.648718    0.056436  [0.605, 0.744, 0.579, 0.658, 0.658]\n",
       "0            knn     0.633468    0.064571  [0.526, 0.641, 0.684, 0.605, 0.711]\n",
       "6        xgboost     0.596491    0.038835  [0.605, 0.667, 0.553, 0.579, 0.579]\n",
       "3  random forest     0.539541    0.075310  [0.474, 0.487, 0.632, 0.474, 0.632]\n",
       "2           tree     0.491768    0.043152      [0.447, 0.564, 0.5, 0.447, 0.5]"
      ]
     },
     "execution_count": 799,
     "metadata": {},
     "output_type": "execute_result"
    }
   ],
   "source": [
    "pd.DataFrame({\n",
    "    'model' : ['knn', 'logreg', 'tree', 'random forest', 'adaboost', 'gradboost', 'xgboost'],\n",
    "    'mean recall' : list_mean,\n",
    "    'std recall' : list_std,\n",
    "    'score' : list_score\n",
    "}).sort_values('mean recall', ascending=False)"
   ]
  },
  {
   "cell_type": "markdown",
   "metadata": {},
   "source": [
    "##### **6.1.1.3 Smote**"
   ]
  },
  {
   "cell_type": "code",
   "execution_count": 800,
   "metadata": {},
   "outputs": [],
   "source": [
    "models = [knn, logreg, tree, rf, adaboost, gradboost, xgboost]\n",
    "resampler = [ros, rus, smote]\n",
    "\n",
    "\n",
    "list_mean = []\n",
    "list_std = []\n",
    "list_score = []\n",
    "\n",
    "for algoritma in models:\n",
    "\n",
    "    pipe_model=Pipeline([\n",
    "        ('preprocess', transformer),\n",
    "        ('scaler', robust),\n",
    "        ('resampler', smote),\n",
    "        ('model', algoritma)\n",
    "    ])\n",
    "\n",
    "    skfold = StratifiedKFold(n_splits=5)\n",
    "\n",
    "    model_cv = cross_val_score(\n",
    "        estimator=pipe_model,\n",
    "        X=X_train,\n",
    "        y=y_train,\n",
    "        cv=skfold,\n",
    "        scoring= 'recall'\n",
    "    )\n",
    "\n",
    "    list_mean.append(model_cv.mean())\n",
    "    list_std.append(model_cv.std())\n",
    "    list_score.append(model_cv.round(3))"
   ]
  },
  {
   "cell_type": "code",
   "execution_count": 801,
   "metadata": {},
   "outputs": [
    {
     "data": {
      "text/html": [
       "<div>\n",
       "<style scoped>\n",
       "    .dataframe tbody tr th:only-of-type {\n",
       "        vertical-align: middle;\n",
       "    }\n",
       "\n",
       "    .dataframe tbody tr th {\n",
       "        vertical-align: top;\n",
       "    }\n",
       "\n",
       "    .dataframe thead th {\n",
       "        text-align: right;\n",
       "    }\n",
       "</style>\n",
       "<table border=\"1\" class=\"dataframe\">\n",
       "  <thead>\n",
       "    <tr style=\"text-align: right;\">\n",
       "      <th></th>\n",
       "      <th>model</th>\n",
       "      <th>mean recall</th>\n",
       "      <th>std recall</th>\n",
       "      <th>score</th>\n",
       "    </tr>\n",
       "  </thead>\n",
       "  <tbody>\n",
       "    <tr>\n",
       "      <th>1</th>\n",
       "      <td>logreg</td>\n",
       "      <td>0.696896</td>\n",
       "      <td>0.072284</td>\n",
       "      <td>[0.658, 0.59, 0.763, 0.684, 0.789]</td>\n",
       "    </tr>\n",
       "    <tr>\n",
       "      <th>0</th>\n",
       "      <td>knn</td>\n",
       "      <td>0.602159</td>\n",
       "      <td>0.100054</td>\n",
       "      <td>[0.605, 0.59, 0.605, 0.447, 0.763]</td>\n",
       "    </tr>\n",
       "    <tr>\n",
       "      <th>4</th>\n",
       "      <td>adaboost</td>\n",
       "      <td>0.576518</td>\n",
       "      <td>0.072416</td>\n",
       "      <td>[0.553, 0.462, 0.605, 0.579, 0.684]</td>\n",
       "    </tr>\n",
       "    <tr>\n",
       "      <th>5</th>\n",
       "      <td>gradboost</td>\n",
       "      <td>0.560729</td>\n",
       "      <td>0.067102</td>\n",
       "      <td>[0.526, 0.462, 0.553, 0.605, 0.658]</td>\n",
       "    </tr>\n",
       "    <tr>\n",
       "      <th>6</th>\n",
       "      <td>xgboost</td>\n",
       "      <td>0.345749</td>\n",
       "      <td>0.057190</td>\n",
       "      <td>[0.447, 0.308, 0.316, 0.289, 0.368]</td>\n",
       "    </tr>\n",
       "    <tr>\n",
       "      <th>3</th>\n",
       "      <td>random forest</td>\n",
       "      <td>0.198785</td>\n",
       "      <td>0.025231</td>\n",
       "      <td>[0.211, 0.231, 0.158, 0.211, 0.184]</td>\n",
       "    </tr>\n",
       "    <tr>\n",
       "      <th>2</th>\n",
       "      <td>tree</td>\n",
       "      <td>0.172874</td>\n",
       "      <td>0.021712</td>\n",
       "      <td>[0.211, 0.154, 0.158, 0.158, 0.184]</td>\n",
       "    </tr>\n",
       "  </tbody>\n",
       "</table>\n",
       "</div>"
      ],
      "text/plain": [
       "           model  mean recall  std recall                                score\n",
       "1         logreg     0.696896    0.072284   [0.658, 0.59, 0.763, 0.684, 0.789]\n",
       "0            knn     0.602159    0.100054   [0.605, 0.59, 0.605, 0.447, 0.763]\n",
       "4       adaboost     0.576518    0.072416  [0.553, 0.462, 0.605, 0.579, 0.684]\n",
       "5      gradboost     0.560729    0.067102  [0.526, 0.462, 0.553, 0.605, 0.658]\n",
       "6        xgboost     0.345749    0.057190  [0.447, 0.308, 0.316, 0.289, 0.368]\n",
       "3  random forest     0.198785    0.025231  [0.211, 0.231, 0.158, 0.211, 0.184]\n",
       "2           tree     0.172874    0.021712  [0.211, 0.154, 0.158, 0.158, 0.184]"
      ]
     },
     "execution_count": 801,
     "metadata": {},
     "output_type": "execute_result"
    }
   ],
   "source": [
    "pd.DataFrame({\n",
    "    'model' : ['knn', 'logreg', 'tree', 'random forest', 'adaboost', 'gradboost', 'xgboost'],\n",
    "    'mean recall' : list_mean,\n",
    "    'std recall' : list_std,\n",
    "    'score' : list_score\n",
    "}).sort_values('mean recall', ascending=False)"
   ]
  },
  {
   "cell_type": "markdown",
   "metadata": {},
   "source": [
    "##### **6.1.1.4 Near Miss**"
   ]
  },
  {
   "cell_type": "code",
   "execution_count": 802,
   "metadata": {},
   "outputs": [],
   "source": [
    "models = [knn, logreg, tree, rf, adaboost, gradboost, xgboost]\n",
    "resampler = [ros, rus, smote, near]\n",
    "\n",
    "\n",
    "list_mean = []\n",
    "list_std = []\n",
    "list_score = []\n",
    "\n",
    "for algoritma in models:\n",
    "\n",
    "    pipe_model=Pipeline([\n",
    "        ('preprocess', transformer),\n",
    "        ('scaler', robust),\n",
    "        ('resampler', near),\n",
    "        ('model', algoritma)\n",
    "    ])\n",
    "\n",
    "    skfold = StratifiedKFold(n_splits=5)\n",
    "\n",
    "    model_cv = cross_val_score(\n",
    "        estimator=pipe_model,\n",
    "        X=X_train,\n",
    "        y=y_train,\n",
    "        cv=skfold,\n",
    "        scoring= 'recall'\n",
    "    )\n",
    "\n",
    "    list_mean.append(model_cv.mean())\n",
    "    list_std.append(model_cv.std())\n",
    "    list_score.append(model_cv.round(3))"
   ]
  },
  {
   "cell_type": "code",
   "execution_count": 803,
   "metadata": {},
   "outputs": [
    {
     "data": {
      "text/html": [
       "<div>\n",
       "<style scoped>\n",
       "    .dataframe tbody tr th:only-of-type {\n",
       "        vertical-align: middle;\n",
       "    }\n",
       "\n",
       "    .dataframe tbody tr th {\n",
       "        vertical-align: top;\n",
       "    }\n",
       "\n",
       "    .dataframe thead th {\n",
       "        text-align: right;\n",
       "    }\n",
       "</style>\n",
       "<table border=\"1\" class=\"dataframe\">\n",
       "  <thead>\n",
       "    <tr style=\"text-align: right;\">\n",
       "      <th></th>\n",
       "      <th>model</th>\n",
       "      <th>mean recall</th>\n",
       "      <th>std recall</th>\n",
       "      <th>score</th>\n",
       "    </tr>\n",
       "  </thead>\n",
       "  <tbody>\n",
       "    <tr>\n",
       "      <th>3</th>\n",
       "      <td>random forest</td>\n",
       "      <td>0.670040</td>\n",
       "      <td>0.074101</td>\n",
       "      <td>[0.789, 0.692, 0.579, 0.684, 0.605]</td>\n",
       "    </tr>\n",
       "    <tr>\n",
       "      <th>2</th>\n",
       "      <td>tree</td>\n",
       "      <td>0.664777</td>\n",
       "      <td>0.080998</td>\n",
       "      <td>[0.789, 0.692, 0.553, 0.684, 0.605]</td>\n",
       "    </tr>\n",
       "    <tr>\n",
       "      <th>5</th>\n",
       "      <td>gradboost</td>\n",
       "      <td>0.659649</td>\n",
       "      <td>0.079897</td>\n",
       "      <td>[0.789, 0.667, 0.553, 0.684, 0.605]</td>\n",
       "    </tr>\n",
       "    <tr>\n",
       "      <th>6</th>\n",
       "      <td>xgboost</td>\n",
       "      <td>0.659514</td>\n",
       "      <td>0.058479</td>\n",
       "      <td>[0.737, 0.692, 0.579, 0.684, 0.605]</td>\n",
       "    </tr>\n",
       "    <tr>\n",
       "      <th>4</th>\n",
       "      <td>adaboost</td>\n",
       "      <td>0.638596</td>\n",
       "      <td>0.065971</td>\n",
       "      <td>[0.737, 0.667, 0.553, 0.658, 0.579]</td>\n",
       "    </tr>\n",
       "    <tr>\n",
       "      <th>1</th>\n",
       "      <td>logreg</td>\n",
       "      <td>0.607422</td>\n",
       "      <td>0.077454</td>\n",
       "      <td>[0.737, 0.59, 0.5, 0.632, 0.579]</td>\n",
       "    </tr>\n",
       "    <tr>\n",
       "      <th>0</th>\n",
       "      <td>knn</td>\n",
       "      <td>0.560594</td>\n",
       "      <td>0.092464</td>\n",
       "      <td>[0.711, 0.487, 0.447, 0.605, 0.553]</td>\n",
       "    </tr>\n",
       "  </tbody>\n",
       "</table>\n",
       "</div>"
      ],
      "text/plain": [
       "           model  mean recall  std recall                                score\n",
       "3  random forest     0.670040    0.074101  [0.789, 0.692, 0.579, 0.684, 0.605]\n",
       "2           tree     0.664777    0.080998  [0.789, 0.692, 0.553, 0.684, 0.605]\n",
       "5      gradboost     0.659649    0.079897  [0.789, 0.667, 0.553, 0.684, 0.605]\n",
       "6        xgboost     0.659514    0.058479  [0.737, 0.692, 0.579, 0.684, 0.605]\n",
       "4       adaboost     0.638596    0.065971  [0.737, 0.667, 0.553, 0.658, 0.579]\n",
       "1         logreg     0.607422    0.077454     [0.737, 0.59, 0.5, 0.632, 0.579]\n",
       "0            knn     0.560594    0.092464  [0.711, 0.487, 0.447, 0.605, 0.553]"
      ]
     },
     "execution_count": 803,
     "metadata": {},
     "output_type": "execute_result"
    }
   ],
   "source": [
    "pd.DataFrame({\n",
    "    'model' : ['knn', 'logreg', 'tree', 'random forest', 'adaboost', 'gradboost', 'xgboost'],\n",
    "    'mean recall' : list_mean,\n",
    "    'std recall' : list_std,\n",
    "    'score' : list_score\n",
    "}).sort_values('mean recall', ascending=False)"
   ]
  },
  {
   "cell_type": "markdown",
   "metadata": {},
   "source": [
    "**Interpretasi**\n",
    "\n",
    "ROS:\n",
    "\n",
    "- Model tertinggi berdasarkan rata-rata yaitu logistic regression sebesar 0.712\n",
    "- Model terendah berdasarkan rata-rata yaitu decision tree sebesar 0.078\n",
    "- Model nilai standar deviasi stabil yaitu decision tree sebesar 0.0124\n",
    "- Model nilai standar deviasi tidak stabil yaitu gradien boost sebesar 0.0698\n",
    "\n",
    "RUS:\n",
    "\n",
    "- Model tertinggi berdasarkan rata-rata yaitu ada boost sebesar 0.675\n",
    "- Model terendah berdasarkan rata-rata yaitu decision tree sebesar 0.491\n",
    "- Model nilai standar deviasi stabil yaitu logistic regression sebesar 0.034\n",
    "- Model nilai standar deviasi tidak stabil yaitu random forest sebesar 0.075\n",
    "\n",
    "Smote:\n",
    "\n",
    "- Model tertinggi berdasarkan rata-rata yaitu logistic regression sebesar 0.696\n",
    "- Model terendah berdasarkan rata-rata yaitu decision tree sebesar 0.172\n",
    "- Model nilai standar deviasi stabil yaitu decision tree sebesar 0.0217\n",
    "- Model nilai standar deviasi tidak stabil yaitu knn sebesar 0.10005\n",
    "\n",
    "Near Miss:\n",
    "\n",
    "- Model tertinggi berdasarkan rata-rata yaitu random forest sebesar 0.67\n",
    "- Model terendah berdasarkan rata-rata yaitu knn sebesar 0.56\n",
    "- Model nilai standar deviasi stabil yaitu xgboost sebesar 0.058\n",
    "- Model nilai standar deviasi tidak stabil yaitu decision tree sebesar 0.080\n",
    "\n",
    "\n",
    "Kesimpulan Model:\n",
    "- Berdasarkan kesimpulan dari sampler yang digunakan random over sampling yang digunakan, nilai modelling data tertinggi sebesar 0.712 & modellling yang kepilih Logistic Regression untuk nilai recall score"
   ]
  },
  {
   "cell_type": "markdown",
   "metadata": {},
   "source": [
    "#### **6.1.2 Predict Benchmark Model to Test Set**"
   ]
  },
  {
   "cell_type": "code",
   "execution_count": 804,
   "metadata": {},
   "outputs": [],
   "source": [
    "list_recall_score = []\n",
    "\n",
    "# Mencari model terbaik berdasarkan f1 score terbesar dan std terkecil\n",
    "for algoritma in models :\n",
    "\n",
    "    pipe_model=Pipeline([\n",
    "        ('preprocess', transformer),\n",
    "        ('scaler', robust),\n",
    "        ('resampler', ros),\n",
    "        ('model', algoritma)\n",
    "    ])\n",
    "\n",
    "    # fitting\n",
    "    pipe_model.fit(X_train, y_train)\n",
    "\n",
    "    # predict\n",
    "    y_pred = pipe_model.predict(X_test)\n",
    "\n",
    "    # evaluate (recall)\n",
    "    score = recall_score(y_test, y_pred)\n",
    "    list_recall_score.append(score)"
   ]
  },
  {
   "cell_type": "code",
   "execution_count": 805,
   "metadata": {},
   "outputs": [
    {
     "data": {
      "text/html": [
       "<div>\n",
       "<style scoped>\n",
       "    .dataframe tbody tr th:only-of-type {\n",
       "        vertical-align: middle;\n",
       "    }\n",
       "\n",
       "    .dataframe tbody tr th {\n",
       "        vertical-align: top;\n",
       "    }\n",
       "\n",
       "    .dataframe thead th {\n",
       "        text-align: right;\n",
       "    }\n",
       "</style>\n",
       "<table border=\"1\" class=\"dataframe\">\n",
       "  <thead>\n",
       "    <tr style=\"text-align: right;\">\n",
       "      <th></th>\n",
       "      <th>model</th>\n",
       "      <th>recall_score (test_set)</th>\n",
       "    </tr>\n",
       "  </thead>\n",
       "  <tbody>\n",
       "    <tr>\n",
       "      <th>1</th>\n",
       "      <td>logreg</td>\n",
       "      <td>0.791667</td>\n",
       "    </tr>\n",
       "    <tr>\n",
       "      <th>4</th>\n",
       "      <td>adaboost</td>\n",
       "      <td>0.708333</td>\n",
       "    </tr>\n",
       "    <tr>\n",
       "      <th>0</th>\n",
       "      <td>knn</td>\n",
       "      <td>0.645833</td>\n",
       "    </tr>\n",
       "    <tr>\n",
       "      <th>5</th>\n",
       "      <td>gradboost</td>\n",
       "      <td>0.625000</td>\n",
       "    </tr>\n",
       "    <tr>\n",
       "      <th>6</th>\n",
       "      <td>xgboost</td>\n",
       "      <td>0.250000</td>\n",
       "    </tr>\n",
       "    <tr>\n",
       "      <th>2</th>\n",
       "      <td>tree</td>\n",
       "      <td>0.041667</td>\n",
       "    </tr>\n",
       "    <tr>\n",
       "      <th>3</th>\n",
       "      <td>random forest</td>\n",
       "      <td>0.041667</td>\n",
       "    </tr>\n",
       "  </tbody>\n",
       "</table>\n",
       "</div>"
      ],
      "text/plain": [
       "           model  recall_score (test_set)\n",
       "1         logreg                 0.791667\n",
       "4       adaboost                 0.708333\n",
       "0            knn                 0.645833\n",
       "5      gradboost                 0.625000\n",
       "6        xgboost                 0.250000\n",
       "2           tree                 0.041667\n",
       "3  random forest                 0.041667"
      ]
     },
     "execution_count": 805,
     "metadata": {},
     "output_type": "execute_result"
    }
   ],
   "source": [
    "# Perbandingan performa antar model\n",
    "pd.DataFrame({\n",
    "    'model':['knn', 'logreg', 'tree', 'random forest', 'adaboost', 'gradboost', 'xgboost'],\n",
    "    'recall_score (test_set)': list_recall_score\n",
    "}).sort_values('recall_score (test_set)', ascending=False)"
   ]
  },
  {
   "cell_type": "markdown",
   "metadata": {},
   "source": [
    "**Interpretasi**\n",
    "\n",
    "- Model Test set tertinggi sebesar 0.791 pada model logistic regression\n",
    "- Model Test set terendah sebesar 0.041 pada model random forest"
   ]
  },
  {
   "cell_type": "markdown",
   "metadata": {},
   "source": [
    "### **6.2 Hyperparameter Tuning**"
   ]
  },
  {
   "cell_type": "code",
   "execution_count": 806,
   "metadata": {},
   "outputs": [],
   "source": [
    "# hyperparameter tuning\n",
    "from sklearn.model_selection import GridSearchCV, RandomizedSearchCV\n",
    "# metrics untuk klasifikasi\n",
    "from sklearn.metrics import recall_score, classification_report, confusion_matrix"
   ]
  },
  {
   "cell_type": "markdown",
   "metadata": {},
   "source": [
    "#### **6.2.1 Logistic Regression**"
   ]
  },
  {
   "cell_type": "markdown",
   "metadata": {},
   "source": [
    "**Tuning 1**"
   ]
  },
  {
   "cell_type": "code",
   "execution_count": 807,
   "metadata": {},
   "outputs": [],
   "source": [
    "# Hyperparameter space Logistic Regression\n",
    "hyperparam_space_logreg = {\n",
    "    'resampler':[smote, rus, ros, None],\n",
    "    'model__C': [1000 , 100, 10, 1, 0.1, 0.01, 0.001], \n",
    "    'model__solver':['liblinear','newton-cg', 'sag']\n",
    "}"
   ]
  },
  {
   "cell_type": "code",
   "execution_count": 808,
   "metadata": {},
   "outputs": [],
   "source": [
    "# Benchmark model 1\n",
    "logreg = LogisticRegression(random_state=0)\n",
    "\n",
    "# Stratified cross validation\n",
    "skf = StratifiedKFold(n_splits = 5)\n",
    "\n",
    "# Create the algorithm chains\n",
    "estimator_logreg = Pipeline([\n",
    "    ('preprocess', transformer),\n",
    "    ('scaler', robust),\n",
    "    ('resampler', smote), \n",
    "    ('model', logreg)\n",
    "    ])\n",
    "\n",
    "# Hyperparameter tuning\n",
    "random_logreg = RandomizedSearchCV(\n",
    "    estimator=estimator_logreg, \n",
    "    param_distributions = hyperparam_space_logreg, \n",
    "    cv = skf, \n",
    "    scoring = 'recall', \n",
    "    n_jobs = -1, \n",
    "    random_state=0,\n",
    "    n_iter=500\n",
    ")"
   ]
  },
  {
   "cell_type": "code",
   "execution_count": 809,
   "metadata": {},
   "outputs": [
    {
     "data": {
      "text/html": [
       "<style>#sk-container-id-26 {color: black;}#sk-container-id-26 pre{padding: 0;}#sk-container-id-26 div.sk-toggleable {background-color: white;}#sk-container-id-26 label.sk-toggleable__label {cursor: pointer;display: block;width: 100%;margin-bottom: 0;padding: 0.3em;box-sizing: border-box;text-align: center;}#sk-container-id-26 label.sk-toggleable__label-arrow:before {content: \"▸\";float: left;margin-right: 0.25em;color: #696969;}#sk-container-id-26 label.sk-toggleable__label-arrow:hover:before {color: black;}#sk-container-id-26 div.sk-estimator:hover label.sk-toggleable__label-arrow:before {color: black;}#sk-container-id-26 div.sk-toggleable__content {max-height: 0;max-width: 0;overflow: hidden;text-align: left;background-color: #f0f8ff;}#sk-container-id-26 div.sk-toggleable__content pre {margin: 0.2em;color: black;border-radius: 0.25em;background-color: #f0f8ff;}#sk-container-id-26 input.sk-toggleable__control:checked~div.sk-toggleable__content {max-height: 200px;max-width: 100%;overflow: auto;}#sk-container-id-26 input.sk-toggleable__control:checked~label.sk-toggleable__label-arrow:before {content: \"▾\";}#sk-container-id-26 div.sk-estimator input.sk-toggleable__control:checked~label.sk-toggleable__label {background-color: #d4ebff;}#sk-container-id-26 div.sk-label input.sk-toggleable__control:checked~label.sk-toggleable__label {background-color: #d4ebff;}#sk-container-id-26 input.sk-hidden--visually {border: 0;clip: rect(1px 1px 1px 1px);clip: rect(1px, 1px, 1px, 1px);height: 1px;margin: -1px;overflow: hidden;padding: 0;position: absolute;width: 1px;}#sk-container-id-26 div.sk-estimator {font-family: monospace;background-color: #f0f8ff;border: 1px dotted black;border-radius: 0.25em;box-sizing: border-box;margin-bottom: 0.5em;}#sk-container-id-26 div.sk-estimator:hover {background-color: #d4ebff;}#sk-container-id-26 div.sk-parallel-item::after {content: \"\";width: 100%;border-bottom: 1px solid gray;flex-grow: 1;}#sk-container-id-26 div.sk-label:hover label.sk-toggleable__label {background-color: #d4ebff;}#sk-container-id-26 div.sk-serial::before {content: \"\";position: absolute;border-left: 1px solid gray;box-sizing: border-box;top: 0;bottom: 0;left: 50%;z-index: 0;}#sk-container-id-26 div.sk-serial {display: flex;flex-direction: column;align-items: center;background-color: white;padding-right: 0.2em;padding-left: 0.2em;position: relative;}#sk-container-id-26 div.sk-item {position: relative;z-index: 1;}#sk-container-id-26 div.sk-parallel {display: flex;align-items: stretch;justify-content: center;background-color: white;position: relative;}#sk-container-id-26 div.sk-item::before, #sk-container-id-26 div.sk-parallel-item::before {content: \"\";position: absolute;border-left: 1px solid gray;box-sizing: border-box;top: 0;bottom: 0;left: 50%;z-index: -1;}#sk-container-id-26 div.sk-parallel-item {display: flex;flex-direction: column;z-index: 1;position: relative;background-color: white;}#sk-container-id-26 div.sk-parallel-item:first-child::after {align-self: flex-end;width: 50%;}#sk-container-id-26 div.sk-parallel-item:last-child::after {align-self: flex-start;width: 50%;}#sk-container-id-26 div.sk-parallel-item:only-child::after {width: 0;}#sk-container-id-26 div.sk-dashed-wrapped {border: 1px dashed gray;margin: 0 0.4em 0.5em 0.4em;box-sizing: border-box;padding-bottom: 0.4em;background-color: white;}#sk-container-id-26 div.sk-label label {font-family: monospace;font-weight: bold;display: inline-block;line-height: 1.2em;}#sk-container-id-26 div.sk-label-container {text-align: center;}#sk-container-id-26 div.sk-container {/* jupyter's `normalize.less` sets `[hidden] { display: none; }` but bootstrap.min.css set `[hidden] { display: none !important; }` so we also need the `!important` here to be able to override the default hidden behavior on the sphinx rendered scikit-learn.org. See: https://github.com/scikit-learn/scikit-learn/issues/21755 */display: inline-block !important;position: relative;}#sk-container-id-26 div.sk-text-repr-fallback {display: none;}</style><div id=\"sk-container-id-26\" class=\"sk-top-container\"><div class=\"sk-text-repr-fallback\"><pre>RandomizedSearchCV(cv=StratifiedKFold(n_splits=5, random_state=None, shuffle=False),\n",
       "                   estimator=Pipeline(steps=[(&#x27;preprocess&#x27;,\n",
       "                                              ColumnTransformer(remainder=&#x27;passthrough&#x27;,\n",
       "                                                                transformers=[(&#x27;onehot&#x27;,\n",
       "                                                                               OneHotEncoder(),\n",
       "                                                                               [&#x27;Agency &#x27;\n",
       "                                                                                &#x27;Type&#x27;,\n",
       "                                                                                &#x27;Distribution &#x27;\n",
       "                                                                                &#x27;Channel&#x27;]),\n",
       "                                                                              (&#x27;binhot&#x27;,\n",
       "                                                                               BinaryEncoder(),\n",
       "                                                                               [&#x27;Agency&#x27;,\n",
       "                                                                                &#x27;Product &#x27;\n",
       "                                                                                &#x27;Name&#x27;,\n",
       "                                                                                &#x27;Destination&#x27;])])),\n",
       "                                             (&#x27;scaler&#x27;, RobustScaler()),\n",
       "                                             (&#x27;resampler&#x27;,\n",
       "                                              SMOTE(random_state=0)),\n",
       "                                             (&#x27;model&#x27;,\n",
       "                                              LogisticRegression(random_state=0))]),\n",
       "                   n_iter=500, n_jobs=-1,\n",
       "                   param_distributions={&#x27;model__C&#x27;: [1000, 100, 10, 1, 0.1,\n",
       "                                                     0.01, 0.001],\n",
       "                                        &#x27;model__solver&#x27;: [&#x27;liblinear&#x27;,\n",
       "                                                          &#x27;newton-cg&#x27;, &#x27;sag&#x27;],\n",
       "                                        &#x27;resampler&#x27;: [SMOTE(random_state=0),\n",
       "                                                      RandomUnderSampler(random_state=0),\n",
       "                                                      RandomOverSampler(random_state=0),\n",
       "                                                      None]},\n",
       "                   random_state=0, scoring=&#x27;recall&#x27;)</pre><b>In a Jupyter environment, please rerun this cell to show the HTML representation or trust the notebook. <br />On GitHub, the HTML representation is unable to render, please try loading this page with nbviewer.org.</b></div><div class=\"sk-container\" hidden><div class=\"sk-item sk-dashed-wrapped\"><div class=\"sk-label-container\"><div class=\"sk-label sk-toggleable\"><input class=\"sk-toggleable__control sk-hidden--visually\" id=\"sk-estimator-id-288\" type=\"checkbox\" ><label for=\"sk-estimator-id-288\" class=\"sk-toggleable__label sk-toggleable__label-arrow\">RandomizedSearchCV</label><div class=\"sk-toggleable__content\"><pre>RandomizedSearchCV(cv=StratifiedKFold(n_splits=5, random_state=None, shuffle=False),\n",
       "                   estimator=Pipeline(steps=[(&#x27;preprocess&#x27;,\n",
       "                                              ColumnTransformer(remainder=&#x27;passthrough&#x27;,\n",
       "                                                                transformers=[(&#x27;onehot&#x27;,\n",
       "                                                                               OneHotEncoder(),\n",
       "                                                                               [&#x27;Agency &#x27;\n",
       "                                                                                &#x27;Type&#x27;,\n",
       "                                                                                &#x27;Distribution &#x27;\n",
       "                                                                                &#x27;Channel&#x27;]),\n",
       "                                                                              (&#x27;binhot&#x27;,\n",
       "                                                                               BinaryEncoder(),\n",
       "                                                                               [&#x27;Agency&#x27;,\n",
       "                                                                                &#x27;Product &#x27;\n",
       "                                                                                &#x27;Name&#x27;,\n",
       "                                                                                &#x27;Destination&#x27;])])),\n",
       "                                             (&#x27;scaler&#x27;, RobustScaler()),\n",
       "                                             (&#x27;resampler&#x27;,\n",
       "                                              SMOTE(random_state=0)),\n",
       "                                             (&#x27;model&#x27;,\n",
       "                                              LogisticRegression(random_state=0))]),\n",
       "                   n_iter=500, n_jobs=-1,\n",
       "                   param_distributions={&#x27;model__C&#x27;: [1000, 100, 10, 1, 0.1,\n",
       "                                                     0.01, 0.001],\n",
       "                                        &#x27;model__solver&#x27;: [&#x27;liblinear&#x27;,\n",
       "                                                          &#x27;newton-cg&#x27;, &#x27;sag&#x27;],\n",
       "                                        &#x27;resampler&#x27;: [SMOTE(random_state=0),\n",
       "                                                      RandomUnderSampler(random_state=0),\n",
       "                                                      RandomOverSampler(random_state=0),\n",
       "                                                      None]},\n",
       "                   random_state=0, scoring=&#x27;recall&#x27;)</pre></div></div></div><div class=\"sk-parallel\"><div class=\"sk-parallel-item\"><div class=\"sk-item\"><div class=\"sk-label-container\"><div class=\"sk-label sk-toggleable\"><input class=\"sk-toggleable__control sk-hidden--visually\" id=\"sk-estimator-id-289\" type=\"checkbox\" ><label for=\"sk-estimator-id-289\" class=\"sk-toggleable__label sk-toggleable__label-arrow\">estimator: Pipeline</label><div class=\"sk-toggleable__content\"><pre>Pipeline(steps=[(&#x27;preprocess&#x27;,\n",
       "                 ColumnTransformer(remainder=&#x27;passthrough&#x27;,\n",
       "                                   transformers=[(&#x27;onehot&#x27;, OneHotEncoder(),\n",
       "                                                  [&#x27;Agency Type&#x27;,\n",
       "                                                   &#x27;Distribution Channel&#x27;]),\n",
       "                                                 (&#x27;binhot&#x27;, BinaryEncoder(),\n",
       "                                                  [&#x27;Agency&#x27;, &#x27;Product Name&#x27;,\n",
       "                                                   &#x27;Destination&#x27;])])),\n",
       "                (&#x27;scaler&#x27;, RobustScaler()),\n",
       "                (&#x27;resampler&#x27;, SMOTE(random_state=0)),\n",
       "                (&#x27;model&#x27;, LogisticRegression(random_state=0))])</pre></div></div></div><div class=\"sk-serial\"><div class=\"sk-item\"><div class=\"sk-serial\"><div class=\"sk-item sk-dashed-wrapped\"><div class=\"sk-label-container\"><div class=\"sk-label sk-toggleable\"><input class=\"sk-toggleable__control sk-hidden--visually\" id=\"sk-estimator-id-290\" type=\"checkbox\" ><label for=\"sk-estimator-id-290\" class=\"sk-toggleable__label sk-toggleable__label-arrow\">preprocess: ColumnTransformer</label><div class=\"sk-toggleable__content\"><pre>ColumnTransformer(remainder=&#x27;passthrough&#x27;,\n",
       "                  transformers=[(&#x27;onehot&#x27;, OneHotEncoder(),\n",
       "                                 [&#x27;Agency Type&#x27;, &#x27;Distribution Channel&#x27;]),\n",
       "                                (&#x27;binhot&#x27;, BinaryEncoder(),\n",
       "                                 [&#x27;Agency&#x27;, &#x27;Product Name&#x27;, &#x27;Destination&#x27;])])</pre></div></div></div><div class=\"sk-parallel\"><div class=\"sk-parallel-item\"><div class=\"sk-item\"><div class=\"sk-label-container\"><div class=\"sk-label sk-toggleable\"><input class=\"sk-toggleable__control sk-hidden--visually\" id=\"sk-estimator-id-291\" type=\"checkbox\" ><label for=\"sk-estimator-id-291\" class=\"sk-toggleable__label sk-toggleable__label-arrow\">onehot</label><div class=\"sk-toggleable__content\"><pre>[&#x27;Agency Type&#x27;, &#x27;Distribution Channel&#x27;]</pre></div></div></div><div class=\"sk-serial\"><div class=\"sk-item\"><div class=\"sk-estimator sk-toggleable\"><input class=\"sk-toggleable__control sk-hidden--visually\" id=\"sk-estimator-id-292\" type=\"checkbox\" ><label for=\"sk-estimator-id-292\" class=\"sk-toggleable__label sk-toggleable__label-arrow\">OneHotEncoder</label><div class=\"sk-toggleable__content\"><pre>OneHotEncoder()</pre></div></div></div></div></div></div><div class=\"sk-parallel-item\"><div class=\"sk-item\"><div class=\"sk-label-container\"><div class=\"sk-label sk-toggleable\"><input class=\"sk-toggleable__control sk-hidden--visually\" id=\"sk-estimator-id-293\" type=\"checkbox\" ><label for=\"sk-estimator-id-293\" class=\"sk-toggleable__label sk-toggleable__label-arrow\">binhot</label><div class=\"sk-toggleable__content\"><pre>[&#x27;Agency&#x27;, &#x27;Product Name&#x27;, &#x27;Destination&#x27;]</pre></div></div></div><div class=\"sk-serial\"><div class=\"sk-item\"><div class=\"sk-estimator sk-toggleable\"><input class=\"sk-toggleable__control sk-hidden--visually\" id=\"sk-estimator-id-294\" type=\"checkbox\" ><label for=\"sk-estimator-id-294\" class=\"sk-toggleable__label sk-toggleable__label-arrow\">BinaryEncoder</label><div class=\"sk-toggleable__content\"><pre>BinaryEncoder()</pre></div></div></div></div></div></div><div class=\"sk-parallel-item\"><div class=\"sk-item\"><div class=\"sk-label-container\"><div class=\"sk-label sk-toggleable\"><input class=\"sk-toggleable__control sk-hidden--visually\" id=\"sk-estimator-id-295\" type=\"checkbox\" ><label for=\"sk-estimator-id-295\" class=\"sk-toggleable__label sk-toggleable__label-arrow\">remainder</label><div class=\"sk-toggleable__content\"><pre>[&#x27;Net Sales&#x27;, &#x27;Commision (in value)&#x27;]</pre></div></div></div><div class=\"sk-serial\"><div class=\"sk-item\"><div class=\"sk-estimator sk-toggleable\"><input class=\"sk-toggleable__control sk-hidden--visually\" id=\"sk-estimator-id-296\" type=\"checkbox\" ><label for=\"sk-estimator-id-296\" class=\"sk-toggleable__label sk-toggleable__label-arrow\">passthrough</label><div class=\"sk-toggleable__content\"><pre>passthrough</pre></div></div></div></div></div></div></div></div><div class=\"sk-item\"><div class=\"sk-estimator sk-toggleable\"><input class=\"sk-toggleable__control sk-hidden--visually\" id=\"sk-estimator-id-297\" type=\"checkbox\" ><label for=\"sk-estimator-id-297\" class=\"sk-toggleable__label sk-toggleable__label-arrow\">RobustScaler</label><div class=\"sk-toggleable__content\"><pre>RobustScaler()</pre></div></div></div><div class=\"sk-item\"><div class=\"sk-estimator sk-toggleable\"><input class=\"sk-toggleable__control sk-hidden--visually\" id=\"sk-estimator-id-298\" type=\"checkbox\" ><label for=\"sk-estimator-id-298\" class=\"sk-toggleable__label sk-toggleable__label-arrow\">SMOTE</label><div class=\"sk-toggleable__content\"><pre>SMOTE(random_state=0)</pre></div></div></div><div class=\"sk-item\"><div class=\"sk-estimator sk-toggleable\"><input class=\"sk-toggleable__control sk-hidden--visually\" id=\"sk-estimator-id-299\" type=\"checkbox\" ><label for=\"sk-estimator-id-299\" class=\"sk-toggleable__label sk-toggleable__label-arrow\">LogisticRegression</label><div class=\"sk-toggleable__content\"><pre>LogisticRegression(random_state=0)</pre></div></div></div></div></div></div></div></div></div></div></div></div>"
      ],
      "text/plain": [
       "RandomizedSearchCV(cv=StratifiedKFold(n_splits=5, random_state=None, shuffle=False),\n",
       "                   estimator=Pipeline(steps=[('preprocess',\n",
       "                                              ColumnTransformer(remainder='passthrough',\n",
       "                                                                transformers=[('onehot',\n",
       "                                                                               OneHotEncoder(),\n",
       "                                                                               ['Agency '\n",
       "                                                                                'Type',\n",
       "                                                                                'Distribution '\n",
       "                                                                                'Channel']),\n",
       "                                                                              ('binhot',\n",
       "                                                                               BinaryEncoder(),\n",
       "                                                                               ['Agency',\n",
       "                                                                                'Product '\n",
       "                                                                                'Name',\n",
       "                                                                                'Destination'])])),\n",
       "                                             ('scaler', RobustScaler()),\n",
       "                                             ('resampler',\n",
       "                                              SMOTE(random_state=0)),\n",
       "                                             ('model',\n",
       "                                              LogisticRegression(random_state=0))]),\n",
       "                   n_iter=500, n_jobs=-1,\n",
       "                   param_distributions={'model__C': [1000, 100, 10, 1, 0.1,\n",
       "                                                     0.01, 0.001],\n",
       "                                        'model__solver': ['liblinear',\n",
       "                                                          'newton-cg', 'sag'],\n",
       "                                        'resampler': [SMOTE(random_state=0),\n",
       "                                                      RandomUnderSampler(random_state=0),\n",
       "                                                      RandomOverSampler(random_state=0),\n",
       "                                                      None]},\n",
       "                   random_state=0, scoring='recall')"
      ]
     },
     "execution_count": 809,
     "metadata": {},
     "output_type": "execute_result"
    }
   ],
   "source": [
    "# fitting \n",
    "random_logreg.fit(X_train, y_train)"
   ]
  },
  {
   "cell_type": "code",
   "execution_count": 810,
   "metadata": {},
   "outputs": [
    {
     "data": {
      "text/plain": [
       "0.7330634278002699"
      ]
     },
     "execution_count": 810,
     "metadata": {},
     "output_type": "execute_result"
    }
   ],
   "source": [
    "# score recall\n",
    "random_logreg.best_score_"
   ]
  },
  {
   "cell_type": "code",
   "execution_count": 811,
   "metadata": {},
   "outputs": [
    {
     "data": {
      "text/plain": [
       "{'resampler': RandomUnderSampler(random_state=0),\n",
       " 'model__solver': 'liblinear',\n",
       " 'model__C': 1000}"
      ]
     },
     "execution_count": 811,
     "metadata": {},
     "output_type": "execute_result"
    }
   ],
   "source": [
    "random_logreg.best_params_"
   ]
  },
  {
   "cell_type": "code",
   "execution_count": 812,
   "metadata": {},
   "outputs": [
    {
     "data": {
      "text/html": [
       "<div>\n",
       "<style scoped>\n",
       "    .dataframe tbody tr th:only-of-type {\n",
       "        vertical-align: middle;\n",
       "    }\n",
       "\n",
       "    .dataframe tbody tr th {\n",
       "        vertical-align: top;\n",
       "    }\n",
       "\n",
       "    .dataframe thead th {\n",
       "        text-align: right;\n",
       "    }\n",
       "</style>\n",
       "<table border=\"1\" class=\"dataframe\">\n",
       "  <thead>\n",
       "    <tr style=\"text-align: right;\">\n",
       "      <th></th>\n",
       "      <th>mean_fit_time</th>\n",
       "      <th>std_fit_time</th>\n",
       "      <th>mean_score_time</th>\n",
       "      <th>std_score_time</th>\n",
       "      <th>param_resampler</th>\n",
       "      <th>param_model__solver</th>\n",
       "      <th>param_model__C</th>\n",
       "      <th>params</th>\n",
       "      <th>split0_test_score</th>\n",
       "      <th>split1_test_score</th>\n",
       "      <th>split2_test_score</th>\n",
       "      <th>split3_test_score</th>\n",
       "      <th>split4_test_score</th>\n",
       "      <th>mean_test_score</th>\n",
       "      <th>std_test_score</th>\n",
       "      <th>rank_test_score</th>\n",
       "    </tr>\n",
       "  </thead>\n",
       "  <tbody>\n",
       "    <tr>\n",
       "      <th>1</th>\n",
       "      <td>0.040948</td>\n",
       "      <td>0.006100</td>\n",
       "      <td>0.011873</td>\n",
       "      <td>0.002760</td>\n",
       "      <td>RandomUnderSampler(random_state=0)</td>\n",
       "      <td>liblinear</td>\n",
       "      <td>1000</td>\n",
       "      <td>{'resampler': RandomUnderSampler(random_state=0), 'model__solver': 'liblinear', 'model__C': 1000}</td>\n",
       "      <td>0.710526</td>\n",
       "      <td>0.717949</td>\n",
       "      <td>0.736842</td>\n",
       "      <td>0.736842</td>\n",
       "      <td>0.763158</td>\n",
       "      <td>0.733063</td>\n",
       "      <td>0.018279</td>\n",
       "      <td>1</td>\n",
       "    </tr>\n",
       "    <tr>\n",
       "      <th>17</th>\n",
       "      <td>0.051251</td>\n",
       "      <td>0.007240</td>\n",
       "      <td>0.011086</td>\n",
       "      <td>0.001594</td>\n",
       "      <td>RandomUnderSampler(random_state=0)</td>\n",
       "      <td>newton-cg</td>\n",
       "      <td>100</td>\n",
       "      <td>{'resampler': RandomUnderSampler(random_state=0), 'model__solver': 'newton-cg', 'model__C': 100}</td>\n",
       "      <td>0.710526</td>\n",
       "      <td>0.717949</td>\n",
       "      <td>0.736842</td>\n",
       "      <td>0.736842</td>\n",
       "      <td>0.763158</td>\n",
       "      <td>0.733063</td>\n",
       "      <td>0.018279</td>\n",
       "      <td>1</td>\n",
       "    </tr>\n",
       "    <tr>\n",
       "      <th>13</th>\n",
       "      <td>0.035442</td>\n",
       "      <td>0.001486</td>\n",
       "      <td>0.011714</td>\n",
       "      <td>0.002463</td>\n",
       "      <td>RandomUnderSampler(random_state=0)</td>\n",
       "      <td>liblinear</td>\n",
       "      <td>100</td>\n",
       "      <td>{'resampler': RandomUnderSampler(random_state=0), 'model__solver': 'liblinear', 'model__C': 100}</td>\n",
       "      <td>0.710526</td>\n",
       "      <td>0.717949</td>\n",
       "      <td>0.736842</td>\n",
       "      <td>0.736842</td>\n",
       "      <td>0.763158</td>\n",
       "      <td>0.733063</td>\n",
       "      <td>0.018279</td>\n",
       "      <td>1</td>\n",
       "    </tr>\n",
       "    <tr>\n",
       "      <th>5</th>\n",
       "      <td>0.053299</td>\n",
       "      <td>0.006571</td>\n",
       "      <td>0.013217</td>\n",
       "      <td>0.000873</td>\n",
       "      <td>RandomUnderSampler(random_state=0)</td>\n",
       "      <td>newton-cg</td>\n",
       "      <td>1000</td>\n",
       "      <td>{'resampler': RandomUnderSampler(random_state=0), 'model__solver': 'newton-cg', 'model__C': 1000}</td>\n",
       "      <td>0.710526</td>\n",
       "      <td>0.717949</td>\n",
       "      <td>0.736842</td>\n",
       "      <td>0.736842</td>\n",
       "      <td>0.763158</td>\n",
       "      <td>0.733063</td>\n",
       "      <td>0.018279</td>\n",
       "      <td>1</td>\n",
       "    </tr>\n",
       "    <tr>\n",
       "      <th>25</th>\n",
       "      <td>0.035536</td>\n",
       "      <td>0.002952</td>\n",
       "      <td>0.011010</td>\n",
       "      <td>0.001485</td>\n",
       "      <td>RandomUnderSampler(random_state=0)</td>\n",
       "      <td>liblinear</td>\n",
       "      <td>10</td>\n",
       "      <td>{'resampler': RandomUnderSampler(random_state=0), 'model__solver': 'liblinear', 'model__C': 10}</td>\n",
       "      <td>0.710526</td>\n",
       "      <td>0.692308</td>\n",
       "      <td>0.763158</td>\n",
       "      <td>0.710526</td>\n",
       "      <td>0.763158</td>\n",
       "      <td>0.727935</td>\n",
       "      <td>0.029519</td>\n",
       "      <td>5</td>\n",
       "    </tr>\n",
       "    <tr>\n",
       "      <th>29</th>\n",
       "      <td>0.045393</td>\n",
       "      <td>0.006429</td>\n",
       "      <td>0.010908</td>\n",
       "      <td>0.000734</td>\n",
       "      <td>RandomUnderSampler(random_state=0)</td>\n",
       "      <td>newton-cg</td>\n",
       "      <td>10</td>\n",
       "      <td>{'resampler': RandomUnderSampler(random_state=0), 'model__solver': 'newton-cg', 'model__C': 10}</td>\n",
       "      <td>0.710526</td>\n",
       "      <td>0.692308</td>\n",
       "      <td>0.763158</td>\n",
       "      <td>0.710526</td>\n",
       "      <td>0.763158</td>\n",
       "      <td>0.727935</td>\n",
       "      <td>0.029519</td>\n",
       "      <td>5</td>\n",
       "    </tr>\n",
       "    <tr>\n",
       "      <th>9</th>\n",
       "      <td>0.046503</td>\n",
       "      <td>0.001560</td>\n",
       "      <td>0.009810</td>\n",
       "      <td>0.000602</td>\n",
       "      <td>RandomUnderSampler(random_state=0)</td>\n",
       "      <td>sag</td>\n",
       "      <td>1000</td>\n",
       "      <td>{'resampler': RandomUnderSampler(random_state=0), 'model__solver': 'sag', 'model__C': 1000}</td>\n",
       "      <td>0.710526</td>\n",
       "      <td>0.692308</td>\n",
       "      <td>0.763158</td>\n",
       "      <td>0.710526</td>\n",
       "      <td>0.763158</td>\n",
       "      <td>0.727935</td>\n",
       "      <td>0.029519</td>\n",
       "      <td>5</td>\n",
       "    </tr>\n",
       "    <tr>\n",
       "      <th>21</th>\n",
       "      <td>0.047413</td>\n",
       "      <td>0.002117</td>\n",
       "      <td>0.010224</td>\n",
       "      <td>0.001164</td>\n",
       "      <td>RandomUnderSampler(random_state=0)</td>\n",
       "      <td>sag</td>\n",
       "      <td>100</td>\n",
       "      <td>{'resampler': RandomUnderSampler(random_state=0), 'model__solver': 'sag', 'model__C': 100}</td>\n",
       "      <td>0.710526</td>\n",
       "      <td>0.692308</td>\n",
       "      <td>0.763158</td>\n",
       "      <td>0.710526</td>\n",
       "      <td>0.763158</td>\n",
       "      <td>0.727935</td>\n",
       "      <td>0.029519</td>\n",
       "      <td>5</td>\n",
       "    </tr>\n",
       "    <tr>\n",
       "      <th>26</th>\n",
       "      <td>0.044148</td>\n",
       "      <td>0.002895</td>\n",
       "      <td>0.010655</td>\n",
       "      <td>0.000744</td>\n",
       "      <td>RandomOverSampler(random_state=0)</td>\n",
       "      <td>liblinear</td>\n",
       "      <td>10</td>\n",
       "      <td>{'resampler': RandomOverSampler(random_state=0), 'model__solver': 'liblinear', 'model__C': 10}</td>\n",
       "      <td>0.657895</td>\n",
       "      <td>0.692308</td>\n",
       "      <td>0.789474</td>\n",
       "      <td>0.710526</td>\n",
       "      <td>0.763158</td>\n",
       "      <td>0.722672</td>\n",
       "      <td>0.047681</td>\n",
       "      <td>9</td>\n",
       "    </tr>\n",
       "    <tr>\n",
       "      <th>30</th>\n",
       "      <td>0.056101</td>\n",
       "      <td>0.002537</td>\n",
       "      <td>0.010109</td>\n",
       "      <td>0.000588</td>\n",
       "      <td>RandomOverSampler(random_state=0)</td>\n",
       "      <td>newton-cg</td>\n",
       "      <td>10</td>\n",
       "      <td>{'resampler': RandomOverSampler(random_state=0), 'model__solver': 'newton-cg', 'model__C': 10}</td>\n",
       "      <td>0.657895</td>\n",
       "      <td>0.692308</td>\n",
       "      <td>0.789474</td>\n",
       "      <td>0.710526</td>\n",
       "      <td>0.763158</td>\n",
       "      <td>0.722672</td>\n",
       "      <td>0.047681</td>\n",
       "      <td>9</td>\n",
       "    </tr>\n",
       "  </tbody>\n",
       "</table>\n",
       "</div>"
      ],
      "text/plain": [
       "    mean_fit_time  std_fit_time  mean_score_time  std_score_time  \\\n",
       "1        0.040948      0.006100         0.011873        0.002760   \n",
       "17       0.051251      0.007240         0.011086        0.001594   \n",
       "13       0.035442      0.001486         0.011714        0.002463   \n",
       "5        0.053299      0.006571         0.013217        0.000873   \n",
       "25       0.035536      0.002952         0.011010        0.001485   \n",
       "29       0.045393      0.006429         0.010908        0.000734   \n",
       "9        0.046503      0.001560         0.009810        0.000602   \n",
       "21       0.047413      0.002117         0.010224        0.001164   \n",
       "26       0.044148      0.002895         0.010655        0.000744   \n",
       "30       0.056101      0.002537         0.010109        0.000588   \n",
       "\n",
       "                       param_resampler param_model__solver param_model__C  \\\n",
       "1   RandomUnderSampler(random_state=0)           liblinear           1000   \n",
       "17  RandomUnderSampler(random_state=0)           newton-cg            100   \n",
       "13  RandomUnderSampler(random_state=0)           liblinear            100   \n",
       "5   RandomUnderSampler(random_state=0)           newton-cg           1000   \n",
       "25  RandomUnderSampler(random_state=0)           liblinear             10   \n",
       "29  RandomUnderSampler(random_state=0)           newton-cg             10   \n",
       "9   RandomUnderSampler(random_state=0)                 sag           1000   \n",
       "21  RandomUnderSampler(random_state=0)                 sag            100   \n",
       "26   RandomOverSampler(random_state=0)           liblinear             10   \n",
       "30   RandomOverSampler(random_state=0)           newton-cg             10   \n",
       "\n",
       "                                                                                               params  \\\n",
       "1   {'resampler': RandomUnderSampler(random_state=0), 'model__solver': 'liblinear', 'model__C': 1000}   \n",
       "17   {'resampler': RandomUnderSampler(random_state=0), 'model__solver': 'newton-cg', 'model__C': 100}   \n",
       "13   {'resampler': RandomUnderSampler(random_state=0), 'model__solver': 'liblinear', 'model__C': 100}   \n",
       "5   {'resampler': RandomUnderSampler(random_state=0), 'model__solver': 'newton-cg', 'model__C': 1000}   \n",
       "25    {'resampler': RandomUnderSampler(random_state=0), 'model__solver': 'liblinear', 'model__C': 10}   \n",
       "29    {'resampler': RandomUnderSampler(random_state=0), 'model__solver': 'newton-cg', 'model__C': 10}   \n",
       "9         {'resampler': RandomUnderSampler(random_state=0), 'model__solver': 'sag', 'model__C': 1000}   \n",
       "21         {'resampler': RandomUnderSampler(random_state=0), 'model__solver': 'sag', 'model__C': 100}   \n",
       "26     {'resampler': RandomOverSampler(random_state=0), 'model__solver': 'liblinear', 'model__C': 10}   \n",
       "30     {'resampler': RandomOverSampler(random_state=0), 'model__solver': 'newton-cg', 'model__C': 10}   \n",
       "\n",
       "    split0_test_score  split1_test_score  split2_test_score  \\\n",
       "1            0.710526           0.717949           0.736842   \n",
       "17           0.710526           0.717949           0.736842   \n",
       "13           0.710526           0.717949           0.736842   \n",
       "5            0.710526           0.717949           0.736842   \n",
       "25           0.710526           0.692308           0.763158   \n",
       "29           0.710526           0.692308           0.763158   \n",
       "9            0.710526           0.692308           0.763158   \n",
       "21           0.710526           0.692308           0.763158   \n",
       "26           0.657895           0.692308           0.789474   \n",
       "30           0.657895           0.692308           0.789474   \n",
       "\n",
       "    split3_test_score  split4_test_score  mean_test_score  std_test_score  \\\n",
       "1            0.736842           0.763158         0.733063        0.018279   \n",
       "17           0.736842           0.763158         0.733063        0.018279   \n",
       "13           0.736842           0.763158         0.733063        0.018279   \n",
       "5            0.736842           0.763158         0.733063        0.018279   \n",
       "25           0.710526           0.763158         0.727935        0.029519   \n",
       "29           0.710526           0.763158         0.727935        0.029519   \n",
       "9            0.710526           0.763158         0.727935        0.029519   \n",
       "21           0.710526           0.763158         0.727935        0.029519   \n",
       "26           0.710526           0.763158         0.722672        0.047681   \n",
       "30           0.710526           0.763158         0.722672        0.047681   \n",
       "\n",
       "    rank_test_score  \n",
       "1                 1  \n",
       "17                1  \n",
       "13                1  \n",
       "5                 1  \n",
       "25                5  \n",
       "29                5  \n",
       "9                 5  \n",
       "21                5  \n",
       "26                9  \n",
       "30                9  "
      ]
     },
     "execution_count": 812,
     "metadata": {},
     "output_type": "execute_result"
    }
   ],
   "source": [
    "pd.DataFrame(random_logreg.cv_results_).sort_values('rank_test_score').head(10)"
   ]
  },
  {
   "cell_type": "markdown",
   "metadata": {},
   "source": [
    "**Interpretasi**\n",
    "\n",
    "- Nilai terbaik setelah tuning pertama yaitu 0.733\n",
    "- Resampler digunakan yaitu random under sampling"
   ]
  },
  {
   "cell_type": "markdown",
   "metadata": {},
   "source": [
    "**Tuning 2**"
   ]
  },
  {
   "cell_type": "code",
   "execution_count": 813,
   "metadata": {},
   "outputs": [],
   "source": [
    "# Hyperparameter space Logistic Regression\n",
    "hyperparam_space_logreg = {\n",
    "    'resampler':[rus, None],\n",
    "    'model__C': [100, 10, 1, 0.1, 0.01], \n",
    "    'model__solver':['liblinear','newton-cg', 'sag']\n",
    "}"
   ]
  },
  {
   "cell_type": "code",
   "execution_count": 814,
   "metadata": {},
   "outputs": [],
   "source": [
    "# Benchmark model 1\n",
    "logreg = LogisticRegression(random_state=0)\n",
    "\n",
    "# Stratified cross validation\n",
    "skf = StratifiedKFold(n_splits = 5)\n",
    "\n",
    "# Create the algorithm chains\n",
    "estimator_logreg = Pipeline([\n",
    "    ('preprocess', transformer),\n",
    "    ('scaler', robust),\n",
    "    ('resampler', smote), \n",
    "    ('model', logreg)\n",
    "    ])\n",
    "\n",
    "# Hyperparameter tuning\n",
    "random_logreg = RandomizedSearchCV(\n",
    "    estimator=estimator_logreg, \n",
    "    param_distributions = hyperparam_space_logreg, \n",
    "    cv = skf, \n",
    "    scoring = 'recall', \n",
    "    n_jobs = -1, \n",
    "    random_state=0,\n",
    "    n_iter=500\n",
    ")"
   ]
  },
  {
   "cell_type": "code",
   "execution_count": 815,
   "metadata": {},
   "outputs": [
    {
     "data": {
      "text/html": [
       "<style>#sk-container-id-27 {color: black;}#sk-container-id-27 pre{padding: 0;}#sk-container-id-27 div.sk-toggleable {background-color: white;}#sk-container-id-27 label.sk-toggleable__label {cursor: pointer;display: block;width: 100%;margin-bottom: 0;padding: 0.3em;box-sizing: border-box;text-align: center;}#sk-container-id-27 label.sk-toggleable__label-arrow:before {content: \"▸\";float: left;margin-right: 0.25em;color: #696969;}#sk-container-id-27 label.sk-toggleable__label-arrow:hover:before {color: black;}#sk-container-id-27 div.sk-estimator:hover label.sk-toggleable__label-arrow:before {color: black;}#sk-container-id-27 div.sk-toggleable__content {max-height: 0;max-width: 0;overflow: hidden;text-align: left;background-color: #f0f8ff;}#sk-container-id-27 div.sk-toggleable__content pre {margin: 0.2em;color: black;border-radius: 0.25em;background-color: #f0f8ff;}#sk-container-id-27 input.sk-toggleable__control:checked~div.sk-toggleable__content {max-height: 200px;max-width: 100%;overflow: auto;}#sk-container-id-27 input.sk-toggleable__control:checked~label.sk-toggleable__label-arrow:before {content: \"▾\";}#sk-container-id-27 div.sk-estimator input.sk-toggleable__control:checked~label.sk-toggleable__label {background-color: #d4ebff;}#sk-container-id-27 div.sk-label input.sk-toggleable__control:checked~label.sk-toggleable__label {background-color: #d4ebff;}#sk-container-id-27 input.sk-hidden--visually {border: 0;clip: rect(1px 1px 1px 1px);clip: rect(1px, 1px, 1px, 1px);height: 1px;margin: -1px;overflow: hidden;padding: 0;position: absolute;width: 1px;}#sk-container-id-27 div.sk-estimator {font-family: monospace;background-color: #f0f8ff;border: 1px dotted black;border-radius: 0.25em;box-sizing: border-box;margin-bottom: 0.5em;}#sk-container-id-27 div.sk-estimator:hover {background-color: #d4ebff;}#sk-container-id-27 div.sk-parallel-item::after {content: \"\";width: 100%;border-bottom: 1px solid gray;flex-grow: 1;}#sk-container-id-27 div.sk-label:hover label.sk-toggleable__label {background-color: #d4ebff;}#sk-container-id-27 div.sk-serial::before {content: \"\";position: absolute;border-left: 1px solid gray;box-sizing: border-box;top: 0;bottom: 0;left: 50%;z-index: 0;}#sk-container-id-27 div.sk-serial {display: flex;flex-direction: column;align-items: center;background-color: white;padding-right: 0.2em;padding-left: 0.2em;position: relative;}#sk-container-id-27 div.sk-item {position: relative;z-index: 1;}#sk-container-id-27 div.sk-parallel {display: flex;align-items: stretch;justify-content: center;background-color: white;position: relative;}#sk-container-id-27 div.sk-item::before, #sk-container-id-27 div.sk-parallel-item::before {content: \"\";position: absolute;border-left: 1px solid gray;box-sizing: border-box;top: 0;bottom: 0;left: 50%;z-index: -1;}#sk-container-id-27 div.sk-parallel-item {display: flex;flex-direction: column;z-index: 1;position: relative;background-color: white;}#sk-container-id-27 div.sk-parallel-item:first-child::after {align-self: flex-end;width: 50%;}#sk-container-id-27 div.sk-parallel-item:last-child::after {align-self: flex-start;width: 50%;}#sk-container-id-27 div.sk-parallel-item:only-child::after {width: 0;}#sk-container-id-27 div.sk-dashed-wrapped {border: 1px dashed gray;margin: 0 0.4em 0.5em 0.4em;box-sizing: border-box;padding-bottom: 0.4em;background-color: white;}#sk-container-id-27 div.sk-label label {font-family: monospace;font-weight: bold;display: inline-block;line-height: 1.2em;}#sk-container-id-27 div.sk-label-container {text-align: center;}#sk-container-id-27 div.sk-container {/* jupyter's `normalize.less` sets `[hidden] { display: none; }` but bootstrap.min.css set `[hidden] { display: none !important; }` so we also need the `!important` here to be able to override the default hidden behavior on the sphinx rendered scikit-learn.org. See: https://github.com/scikit-learn/scikit-learn/issues/21755 */display: inline-block !important;position: relative;}#sk-container-id-27 div.sk-text-repr-fallback {display: none;}</style><div id=\"sk-container-id-27\" class=\"sk-top-container\"><div class=\"sk-text-repr-fallback\"><pre>RandomizedSearchCV(cv=StratifiedKFold(n_splits=5, random_state=None, shuffle=False),\n",
       "                   estimator=Pipeline(steps=[(&#x27;preprocess&#x27;,\n",
       "                                              ColumnTransformer(remainder=&#x27;passthrough&#x27;,\n",
       "                                                                transformers=[(&#x27;onehot&#x27;,\n",
       "                                                                               OneHotEncoder(),\n",
       "                                                                               [&#x27;Agency &#x27;\n",
       "                                                                                &#x27;Type&#x27;,\n",
       "                                                                                &#x27;Distribution &#x27;\n",
       "                                                                                &#x27;Channel&#x27;]),\n",
       "                                                                              (&#x27;binhot&#x27;,\n",
       "                                                                               BinaryEncoder(),\n",
       "                                                                               [&#x27;Agency&#x27;,\n",
       "                                                                                &#x27;Product &#x27;\n",
       "                                                                                &#x27;Name&#x27;,\n",
       "                                                                                &#x27;Destination&#x27;])])),\n",
       "                                             (&#x27;scaler&#x27;, RobustScaler()),\n",
       "                                             (&#x27;resampler&#x27;,\n",
       "                                              SMOTE(random_state=0)),\n",
       "                                             (&#x27;model&#x27;,\n",
       "                                              LogisticRegression(random_state=0))]),\n",
       "                   n_iter=500, n_jobs=-1,\n",
       "                   param_distributions={&#x27;model__C&#x27;: [100, 10, 1, 0.1, 0.01],\n",
       "                                        &#x27;model__solver&#x27;: [&#x27;liblinear&#x27;,\n",
       "                                                          &#x27;newton-cg&#x27;, &#x27;sag&#x27;],\n",
       "                                        &#x27;resampler&#x27;: [RandomUnderSampler(random_state=0),\n",
       "                                                      None]},\n",
       "                   random_state=0, scoring=&#x27;recall&#x27;)</pre><b>In a Jupyter environment, please rerun this cell to show the HTML representation or trust the notebook. <br />On GitHub, the HTML representation is unable to render, please try loading this page with nbviewer.org.</b></div><div class=\"sk-container\" hidden><div class=\"sk-item sk-dashed-wrapped\"><div class=\"sk-label-container\"><div class=\"sk-label sk-toggleable\"><input class=\"sk-toggleable__control sk-hidden--visually\" id=\"sk-estimator-id-300\" type=\"checkbox\" ><label for=\"sk-estimator-id-300\" class=\"sk-toggleable__label sk-toggleable__label-arrow\">RandomizedSearchCV</label><div class=\"sk-toggleable__content\"><pre>RandomizedSearchCV(cv=StratifiedKFold(n_splits=5, random_state=None, shuffle=False),\n",
       "                   estimator=Pipeline(steps=[(&#x27;preprocess&#x27;,\n",
       "                                              ColumnTransformer(remainder=&#x27;passthrough&#x27;,\n",
       "                                                                transformers=[(&#x27;onehot&#x27;,\n",
       "                                                                               OneHotEncoder(),\n",
       "                                                                               [&#x27;Agency &#x27;\n",
       "                                                                                &#x27;Type&#x27;,\n",
       "                                                                                &#x27;Distribution &#x27;\n",
       "                                                                                &#x27;Channel&#x27;]),\n",
       "                                                                              (&#x27;binhot&#x27;,\n",
       "                                                                               BinaryEncoder(),\n",
       "                                                                               [&#x27;Agency&#x27;,\n",
       "                                                                                &#x27;Product &#x27;\n",
       "                                                                                &#x27;Name&#x27;,\n",
       "                                                                                &#x27;Destination&#x27;])])),\n",
       "                                             (&#x27;scaler&#x27;, RobustScaler()),\n",
       "                                             (&#x27;resampler&#x27;,\n",
       "                                              SMOTE(random_state=0)),\n",
       "                                             (&#x27;model&#x27;,\n",
       "                                              LogisticRegression(random_state=0))]),\n",
       "                   n_iter=500, n_jobs=-1,\n",
       "                   param_distributions={&#x27;model__C&#x27;: [100, 10, 1, 0.1, 0.01],\n",
       "                                        &#x27;model__solver&#x27;: [&#x27;liblinear&#x27;,\n",
       "                                                          &#x27;newton-cg&#x27;, &#x27;sag&#x27;],\n",
       "                                        &#x27;resampler&#x27;: [RandomUnderSampler(random_state=0),\n",
       "                                                      None]},\n",
       "                   random_state=0, scoring=&#x27;recall&#x27;)</pre></div></div></div><div class=\"sk-parallel\"><div class=\"sk-parallel-item\"><div class=\"sk-item\"><div class=\"sk-label-container\"><div class=\"sk-label sk-toggleable\"><input class=\"sk-toggleable__control sk-hidden--visually\" id=\"sk-estimator-id-301\" type=\"checkbox\" ><label for=\"sk-estimator-id-301\" class=\"sk-toggleable__label sk-toggleable__label-arrow\">estimator: Pipeline</label><div class=\"sk-toggleable__content\"><pre>Pipeline(steps=[(&#x27;preprocess&#x27;,\n",
       "                 ColumnTransformer(remainder=&#x27;passthrough&#x27;,\n",
       "                                   transformers=[(&#x27;onehot&#x27;, OneHotEncoder(),\n",
       "                                                  [&#x27;Agency Type&#x27;,\n",
       "                                                   &#x27;Distribution Channel&#x27;]),\n",
       "                                                 (&#x27;binhot&#x27;, BinaryEncoder(),\n",
       "                                                  [&#x27;Agency&#x27;, &#x27;Product Name&#x27;,\n",
       "                                                   &#x27;Destination&#x27;])])),\n",
       "                (&#x27;scaler&#x27;, RobustScaler()),\n",
       "                (&#x27;resampler&#x27;, SMOTE(random_state=0)),\n",
       "                (&#x27;model&#x27;, LogisticRegression(random_state=0))])</pre></div></div></div><div class=\"sk-serial\"><div class=\"sk-item\"><div class=\"sk-serial\"><div class=\"sk-item sk-dashed-wrapped\"><div class=\"sk-label-container\"><div class=\"sk-label sk-toggleable\"><input class=\"sk-toggleable__control sk-hidden--visually\" id=\"sk-estimator-id-302\" type=\"checkbox\" ><label for=\"sk-estimator-id-302\" class=\"sk-toggleable__label sk-toggleable__label-arrow\">preprocess: ColumnTransformer</label><div class=\"sk-toggleable__content\"><pre>ColumnTransformer(remainder=&#x27;passthrough&#x27;,\n",
       "                  transformers=[(&#x27;onehot&#x27;, OneHotEncoder(),\n",
       "                                 [&#x27;Agency Type&#x27;, &#x27;Distribution Channel&#x27;]),\n",
       "                                (&#x27;binhot&#x27;, BinaryEncoder(),\n",
       "                                 [&#x27;Agency&#x27;, &#x27;Product Name&#x27;, &#x27;Destination&#x27;])])</pre></div></div></div><div class=\"sk-parallel\"><div class=\"sk-parallel-item\"><div class=\"sk-item\"><div class=\"sk-label-container\"><div class=\"sk-label sk-toggleable\"><input class=\"sk-toggleable__control sk-hidden--visually\" id=\"sk-estimator-id-303\" type=\"checkbox\" ><label for=\"sk-estimator-id-303\" class=\"sk-toggleable__label sk-toggleable__label-arrow\">onehot</label><div class=\"sk-toggleable__content\"><pre>[&#x27;Agency Type&#x27;, &#x27;Distribution Channel&#x27;]</pre></div></div></div><div class=\"sk-serial\"><div class=\"sk-item\"><div class=\"sk-estimator sk-toggleable\"><input class=\"sk-toggleable__control sk-hidden--visually\" id=\"sk-estimator-id-304\" type=\"checkbox\" ><label for=\"sk-estimator-id-304\" class=\"sk-toggleable__label sk-toggleable__label-arrow\">OneHotEncoder</label><div class=\"sk-toggleable__content\"><pre>OneHotEncoder()</pre></div></div></div></div></div></div><div class=\"sk-parallel-item\"><div class=\"sk-item\"><div class=\"sk-label-container\"><div class=\"sk-label sk-toggleable\"><input class=\"sk-toggleable__control sk-hidden--visually\" id=\"sk-estimator-id-305\" type=\"checkbox\" ><label for=\"sk-estimator-id-305\" class=\"sk-toggleable__label sk-toggleable__label-arrow\">binhot</label><div class=\"sk-toggleable__content\"><pre>[&#x27;Agency&#x27;, &#x27;Product Name&#x27;, &#x27;Destination&#x27;]</pre></div></div></div><div class=\"sk-serial\"><div class=\"sk-item\"><div class=\"sk-estimator sk-toggleable\"><input class=\"sk-toggleable__control sk-hidden--visually\" id=\"sk-estimator-id-306\" type=\"checkbox\" ><label for=\"sk-estimator-id-306\" class=\"sk-toggleable__label sk-toggleable__label-arrow\">BinaryEncoder</label><div class=\"sk-toggleable__content\"><pre>BinaryEncoder()</pre></div></div></div></div></div></div><div class=\"sk-parallel-item\"><div class=\"sk-item\"><div class=\"sk-label-container\"><div class=\"sk-label sk-toggleable\"><input class=\"sk-toggleable__control sk-hidden--visually\" id=\"sk-estimator-id-307\" type=\"checkbox\" ><label for=\"sk-estimator-id-307\" class=\"sk-toggleable__label sk-toggleable__label-arrow\">remainder</label><div class=\"sk-toggleable__content\"><pre>[&#x27;Net Sales&#x27;, &#x27;Commision (in value)&#x27;]</pre></div></div></div><div class=\"sk-serial\"><div class=\"sk-item\"><div class=\"sk-estimator sk-toggleable\"><input class=\"sk-toggleable__control sk-hidden--visually\" id=\"sk-estimator-id-308\" type=\"checkbox\" ><label for=\"sk-estimator-id-308\" class=\"sk-toggleable__label sk-toggleable__label-arrow\">passthrough</label><div class=\"sk-toggleable__content\"><pre>passthrough</pre></div></div></div></div></div></div></div></div><div class=\"sk-item\"><div class=\"sk-estimator sk-toggleable\"><input class=\"sk-toggleable__control sk-hidden--visually\" id=\"sk-estimator-id-309\" type=\"checkbox\" ><label for=\"sk-estimator-id-309\" class=\"sk-toggleable__label sk-toggleable__label-arrow\">RobustScaler</label><div class=\"sk-toggleable__content\"><pre>RobustScaler()</pre></div></div></div><div class=\"sk-item\"><div class=\"sk-estimator sk-toggleable\"><input class=\"sk-toggleable__control sk-hidden--visually\" id=\"sk-estimator-id-310\" type=\"checkbox\" ><label for=\"sk-estimator-id-310\" class=\"sk-toggleable__label sk-toggleable__label-arrow\">SMOTE</label><div class=\"sk-toggleable__content\"><pre>SMOTE(random_state=0)</pre></div></div></div><div class=\"sk-item\"><div class=\"sk-estimator sk-toggleable\"><input class=\"sk-toggleable__control sk-hidden--visually\" id=\"sk-estimator-id-311\" type=\"checkbox\" ><label for=\"sk-estimator-id-311\" class=\"sk-toggleable__label sk-toggleable__label-arrow\">LogisticRegression</label><div class=\"sk-toggleable__content\"><pre>LogisticRegression(random_state=0)</pre></div></div></div></div></div></div></div></div></div></div></div></div>"
      ],
      "text/plain": [
       "RandomizedSearchCV(cv=StratifiedKFold(n_splits=5, random_state=None, shuffle=False),\n",
       "                   estimator=Pipeline(steps=[('preprocess',\n",
       "                                              ColumnTransformer(remainder='passthrough',\n",
       "                                                                transformers=[('onehot',\n",
       "                                                                               OneHotEncoder(),\n",
       "                                                                               ['Agency '\n",
       "                                                                                'Type',\n",
       "                                                                                'Distribution '\n",
       "                                                                                'Channel']),\n",
       "                                                                              ('binhot',\n",
       "                                                                               BinaryEncoder(),\n",
       "                                                                               ['Agency',\n",
       "                                                                                'Product '\n",
       "                                                                                'Name',\n",
       "                                                                                'Destination'])])),\n",
       "                                             ('scaler', RobustScaler()),\n",
       "                                             ('resampler',\n",
       "                                              SMOTE(random_state=0)),\n",
       "                                             ('model',\n",
       "                                              LogisticRegression(random_state=0))]),\n",
       "                   n_iter=500, n_jobs=-1,\n",
       "                   param_distributions={'model__C': [100, 10, 1, 0.1, 0.01],\n",
       "                                        'model__solver': ['liblinear',\n",
       "                                                          'newton-cg', 'sag'],\n",
       "                                        'resampler': [RandomUnderSampler(random_state=0),\n",
       "                                                      None]},\n",
       "                   random_state=0, scoring='recall')"
      ]
     },
     "execution_count": 815,
     "metadata": {},
     "output_type": "execute_result"
    }
   ],
   "source": [
    "# fitting \n",
    "random_logreg.fit(X_train, y_train)"
   ]
  },
  {
   "cell_type": "code",
   "execution_count": 816,
   "metadata": {},
   "outputs": [
    {
     "data": {
      "text/plain": [
       "0.7330634278002699"
      ]
     },
     "execution_count": 816,
     "metadata": {},
     "output_type": "execute_result"
    }
   ],
   "source": [
    "# score recall\n",
    "random_logreg.best_score_"
   ]
  },
  {
   "cell_type": "code",
   "execution_count": 817,
   "metadata": {},
   "outputs": [
    {
     "data": {
      "text/plain": [
       "{'resampler': RandomUnderSampler(random_state=0),\n",
       " 'model__solver': 'liblinear',\n",
       " 'model__C': 100}"
      ]
     },
     "execution_count": 817,
     "metadata": {},
     "output_type": "execute_result"
    }
   ],
   "source": [
    "random_logreg.best_params_"
   ]
  },
  {
   "cell_type": "markdown",
   "metadata": {},
   "source": [
    "**Interpretasi**\n",
    "\n",
    "- Nilai terbaik sebelum tuning adalah 0.712\n",
    "- Nilai terbaik setelah tuning adalah 0.733\n",
    "- Mempersempit hasil tuning dari parameter terbaik tuning pertama 1 sebelumnya hasil nilai terbaik sama\n",
    "- Nilai terbaik sebelum dan sesudah tuning mengalami sedikit peningkatan sebesar 0.021"
   ]
  },
  {
   "cell_type": "markdown",
   "metadata": {},
   "source": [
    "#### **6.2.2 Predict to Test Set**"
   ]
  },
  {
   "cell_type": "markdown",
   "metadata": {},
   "source": [
    "**Before Tuning**"
   ]
  },
  {
   "cell_type": "code",
   "execution_count": 818,
   "metadata": {},
   "outputs": [],
   "source": [
    "list_recall_score = []\n",
    "\n",
    "# Mencari model terbaik berdasarkan f1 score terbesar dan std terkecil\n",
    "for algoritma in models :\n",
    "\n",
    "    pipe_model=Pipeline([\n",
    "        ('preprocess', transformer),\n",
    "        ('scaler', robust),\n",
    "        ('resampler', ros),\n",
    "        ('model', algoritma)\n",
    "    ])\n",
    "\n",
    "    # fitting\n",
    "    pipe_model.fit(X_train, y_train)\n",
    "\n",
    "    # predict\n",
    "    y_pred = pipe_model.predict(X_test)\n",
    "\n",
    "    # evaluate (recall)\n",
    "    score = recall_score(y_test, y_pred)\n",
    "    list_recall_score.append(score)"
   ]
  },
  {
   "cell_type": "code",
   "execution_count": 819,
   "metadata": {},
   "outputs": [
    {
     "data": {
      "text/html": [
       "<div>\n",
       "<style scoped>\n",
       "    .dataframe tbody tr th:only-of-type {\n",
       "        vertical-align: middle;\n",
       "    }\n",
       "\n",
       "    .dataframe tbody tr th {\n",
       "        vertical-align: top;\n",
       "    }\n",
       "\n",
       "    .dataframe thead th {\n",
       "        text-align: right;\n",
       "    }\n",
       "</style>\n",
       "<table border=\"1\" class=\"dataframe\">\n",
       "  <thead>\n",
       "    <tr style=\"text-align: right;\">\n",
       "      <th></th>\n",
       "      <th>model</th>\n",
       "      <th>recall_score (test_set)</th>\n",
       "    </tr>\n",
       "  </thead>\n",
       "  <tbody>\n",
       "    <tr>\n",
       "      <th>1</th>\n",
       "      <td>logreg</td>\n",
       "      <td>0.791667</td>\n",
       "    </tr>\n",
       "  </tbody>\n",
       "</table>\n",
       "</div>"
      ],
      "text/plain": [
       "    model  recall_score (test_set)\n",
       "1  logreg                 0.791667"
      ]
     },
     "execution_count": 819,
     "metadata": {},
     "output_type": "execute_result"
    }
   ],
   "source": [
    "# Perbandingan performa antar model\n",
    "pd.DataFrame({\n",
    "    'model':['knn', 'logreg', 'tree', 'random forest', 'adaboost', 'gradboost', 'xgboost'],\n",
    "    'recall_score (test_set)': list_recall_score\n",
    "}).sort_values('recall_score (test_set)', ascending=False).head(1)"
   ]
  },
  {
   "cell_type": "markdown",
   "metadata": {},
   "source": [
    "**After Tuning**"
   ]
  },
  {
   "cell_type": "code",
   "execution_count": 820,
   "metadata": {},
   "outputs": [
    {
     "data": {
      "text/html": [
       "<style>#sk-container-id-28 {color: black;}#sk-container-id-28 pre{padding: 0;}#sk-container-id-28 div.sk-toggleable {background-color: white;}#sk-container-id-28 label.sk-toggleable__label {cursor: pointer;display: block;width: 100%;margin-bottom: 0;padding: 0.3em;box-sizing: border-box;text-align: center;}#sk-container-id-28 label.sk-toggleable__label-arrow:before {content: \"▸\";float: left;margin-right: 0.25em;color: #696969;}#sk-container-id-28 label.sk-toggleable__label-arrow:hover:before {color: black;}#sk-container-id-28 div.sk-estimator:hover label.sk-toggleable__label-arrow:before {color: black;}#sk-container-id-28 div.sk-toggleable__content {max-height: 0;max-width: 0;overflow: hidden;text-align: left;background-color: #f0f8ff;}#sk-container-id-28 div.sk-toggleable__content pre {margin: 0.2em;color: black;border-radius: 0.25em;background-color: #f0f8ff;}#sk-container-id-28 input.sk-toggleable__control:checked~div.sk-toggleable__content {max-height: 200px;max-width: 100%;overflow: auto;}#sk-container-id-28 input.sk-toggleable__control:checked~label.sk-toggleable__label-arrow:before {content: \"▾\";}#sk-container-id-28 div.sk-estimator input.sk-toggleable__control:checked~label.sk-toggleable__label {background-color: #d4ebff;}#sk-container-id-28 div.sk-label input.sk-toggleable__control:checked~label.sk-toggleable__label {background-color: #d4ebff;}#sk-container-id-28 input.sk-hidden--visually {border: 0;clip: rect(1px 1px 1px 1px);clip: rect(1px, 1px, 1px, 1px);height: 1px;margin: -1px;overflow: hidden;padding: 0;position: absolute;width: 1px;}#sk-container-id-28 div.sk-estimator {font-family: monospace;background-color: #f0f8ff;border: 1px dotted black;border-radius: 0.25em;box-sizing: border-box;margin-bottom: 0.5em;}#sk-container-id-28 div.sk-estimator:hover {background-color: #d4ebff;}#sk-container-id-28 div.sk-parallel-item::after {content: \"\";width: 100%;border-bottom: 1px solid gray;flex-grow: 1;}#sk-container-id-28 div.sk-label:hover label.sk-toggleable__label {background-color: #d4ebff;}#sk-container-id-28 div.sk-serial::before {content: \"\";position: absolute;border-left: 1px solid gray;box-sizing: border-box;top: 0;bottom: 0;left: 50%;z-index: 0;}#sk-container-id-28 div.sk-serial {display: flex;flex-direction: column;align-items: center;background-color: white;padding-right: 0.2em;padding-left: 0.2em;position: relative;}#sk-container-id-28 div.sk-item {position: relative;z-index: 1;}#sk-container-id-28 div.sk-parallel {display: flex;align-items: stretch;justify-content: center;background-color: white;position: relative;}#sk-container-id-28 div.sk-item::before, #sk-container-id-28 div.sk-parallel-item::before {content: \"\";position: absolute;border-left: 1px solid gray;box-sizing: border-box;top: 0;bottom: 0;left: 50%;z-index: -1;}#sk-container-id-28 div.sk-parallel-item {display: flex;flex-direction: column;z-index: 1;position: relative;background-color: white;}#sk-container-id-28 div.sk-parallel-item:first-child::after {align-self: flex-end;width: 50%;}#sk-container-id-28 div.sk-parallel-item:last-child::after {align-self: flex-start;width: 50%;}#sk-container-id-28 div.sk-parallel-item:only-child::after {width: 0;}#sk-container-id-28 div.sk-dashed-wrapped {border: 1px dashed gray;margin: 0 0.4em 0.5em 0.4em;box-sizing: border-box;padding-bottom: 0.4em;background-color: white;}#sk-container-id-28 div.sk-label label {font-family: monospace;font-weight: bold;display: inline-block;line-height: 1.2em;}#sk-container-id-28 div.sk-label-container {text-align: center;}#sk-container-id-28 div.sk-container {/* jupyter's `normalize.less` sets `[hidden] { display: none; }` but bootstrap.min.css set `[hidden] { display: none !important; }` so we also need the `!important` here to be able to override the default hidden behavior on the sphinx rendered scikit-learn.org. See: https://github.com/scikit-learn/scikit-learn/issues/21755 */display: inline-block !important;position: relative;}#sk-container-id-28 div.sk-text-repr-fallback {display: none;}</style><div id=\"sk-container-id-28\" class=\"sk-top-container\"><div class=\"sk-text-repr-fallback\"><pre>Pipeline(steps=[(&#x27;preprocess&#x27;,\n",
       "                 ColumnTransformer(remainder=&#x27;passthrough&#x27;,\n",
       "                                   transformers=[(&#x27;onehot&#x27;, OneHotEncoder(),\n",
       "                                                  [&#x27;Agency Type&#x27;,\n",
       "                                                   &#x27;Distribution Channel&#x27;]),\n",
       "                                                 (&#x27;binhot&#x27;, BinaryEncoder(),\n",
       "                                                  [&#x27;Agency&#x27;, &#x27;Product Name&#x27;,\n",
       "                                                   &#x27;Destination&#x27;])])),\n",
       "                (&#x27;scaler&#x27;, RobustScaler()),\n",
       "                (&#x27;resampler&#x27;, RandomUnderSampler(random_state=0)),\n",
       "                (&#x27;model&#x27;,\n",
       "                 LogisticRegression(C=100, random_state=0,\n",
       "                                    solver=&#x27;liblinear&#x27;))])</pre><b>In a Jupyter environment, please rerun this cell to show the HTML representation or trust the notebook. <br />On GitHub, the HTML representation is unable to render, please try loading this page with nbviewer.org.</b></div><div class=\"sk-container\" hidden><div class=\"sk-item sk-dashed-wrapped\"><div class=\"sk-label-container\"><div class=\"sk-label sk-toggleable\"><input class=\"sk-toggleable__control sk-hidden--visually\" id=\"sk-estimator-id-312\" type=\"checkbox\" ><label for=\"sk-estimator-id-312\" class=\"sk-toggleable__label sk-toggleable__label-arrow\">Pipeline</label><div class=\"sk-toggleable__content\"><pre>Pipeline(steps=[(&#x27;preprocess&#x27;,\n",
       "                 ColumnTransformer(remainder=&#x27;passthrough&#x27;,\n",
       "                                   transformers=[(&#x27;onehot&#x27;, OneHotEncoder(),\n",
       "                                                  [&#x27;Agency Type&#x27;,\n",
       "                                                   &#x27;Distribution Channel&#x27;]),\n",
       "                                                 (&#x27;binhot&#x27;, BinaryEncoder(),\n",
       "                                                  [&#x27;Agency&#x27;, &#x27;Product Name&#x27;,\n",
       "                                                   &#x27;Destination&#x27;])])),\n",
       "                (&#x27;scaler&#x27;, RobustScaler()),\n",
       "                (&#x27;resampler&#x27;, RandomUnderSampler(random_state=0)),\n",
       "                (&#x27;model&#x27;,\n",
       "                 LogisticRegression(C=100, random_state=0,\n",
       "                                    solver=&#x27;liblinear&#x27;))])</pre></div></div></div><div class=\"sk-serial\"><div class=\"sk-item sk-dashed-wrapped\"><div class=\"sk-label-container\"><div class=\"sk-label sk-toggleable\"><input class=\"sk-toggleable__control sk-hidden--visually\" id=\"sk-estimator-id-313\" type=\"checkbox\" ><label for=\"sk-estimator-id-313\" class=\"sk-toggleable__label sk-toggleable__label-arrow\">preprocess: ColumnTransformer</label><div class=\"sk-toggleable__content\"><pre>ColumnTransformer(remainder=&#x27;passthrough&#x27;,\n",
       "                  transformers=[(&#x27;onehot&#x27;, OneHotEncoder(),\n",
       "                                 [&#x27;Agency Type&#x27;, &#x27;Distribution Channel&#x27;]),\n",
       "                                (&#x27;binhot&#x27;, BinaryEncoder(),\n",
       "                                 [&#x27;Agency&#x27;, &#x27;Product Name&#x27;, &#x27;Destination&#x27;])])</pre></div></div></div><div class=\"sk-parallel\"><div class=\"sk-parallel-item\"><div class=\"sk-item\"><div class=\"sk-label-container\"><div class=\"sk-label sk-toggleable\"><input class=\"sk-toggleable__control sk-hidden--visually\" id=\"sk-estimator-id-314\" type=\"checkbox\" ><label for=\"sk-estimator-id-314\" class=\"sk-toggleable__label sk-toggleable__label-arrow\">onehot</label><div class=\"sk-toggleable__content\"><pre>[&#x27;Agency Type&#x27;, &#x27;Distribution Channel&#x27;]</pre></div></div></div><div class=\"sk-serial\"><div class=\"sk-item\"><div class=\"sk-estimator sk-toggleable\"><input class=\"sk-toggleable__control sk-hidden--visually\" id=\"sk-estimator-id-315\" type=\"checkbox\" ><label for=\"sk-estimator-id-315\" class=\"sk-toggleable__label sk-toggleable__label-arrow\">OneHotEncoder</label><div class=\"sk-toggleable__content\"><pre>OneHotEncoder()</pre></div></div></div></div></div></div><div class=\"sk-parallel-item\"><div class=\"sk-item\"><div class=\"sk-label-container\"><div class=\"sk-label sk-toggleable\"><input class=\"sk-toggleable__control sk-hidden--visually\" id=\"sk-estimator-id-316\" type=\"checkbox\" ><label for=\"sk-estimator-id-316\" class=\"sk-toggleable__label sk-toggleable__label-arrow\">binhot</label><div class=\"sk-toggleable__content\"><pre>[&#x27;Agency&#x27;, &#x27;Product Name&#x27;, &#x27;Destination&#x27;]</pre></div></div></div><div class=\"sk-serial\"><div class=\"sk-item\"><div class=\"sk-estimator sk-toggleable\"><input class=\"sk-toggleable__control sk-hidden--visually\" id=\"sk-estimator-id-317\" type=\"checkbox\" ><label for=\"sk-estimator-id-317\" class=\"sk-toggleable__label sk-toggleable__label-arrow\">BinaryEncoder</label><div class=\"sk-toggleable__content\"><pre>BinaryEncoder()</pre></div></div></div></div></div></div><div class=\"sk-parallel-item\"><div class=\"sk-item\"><div class=\"sk-label-container\"><div class=\"sk-label sk-toggleable\"><input class=\"sk-toggleable__control sk-hidden--visually\" id=\"sk-estimator-id-318\" type=\"checkbox\" ><label for=\"sk-estimator-id-318\" class=\"sk-toggleable__label sk-toggleable__label-arrow\">remainder</label><div class=\"sk-toggleable__content\"><pre>[&#x27;Net Sales&#x27;, &#x27;Commision (in value)&#x27;]</pre></div></div></div><div class=\"sk-serial\"><div class=\"sk-item\"><div class=\"sk-estimator sk-toggleable\"><input class=\"sk-toggleable__control sk-hidden--visually\" id=\"sk-estimator-id-319\" type=\"checkbox\" ><label for=\"sk-estimator-id-319\" class=\"sk-toggleable__label sk-toggleable__label-arrow\">passthrough</label><div class=\"sk-toggleable__content\"><pre>passthrough</pre></div></div></div></div></div></div></div></div><div class=\"sk-item\"><div class=\"sk-estimator sk-toggleable\"><input class=\"sk-toggleable__control sk-hidden--visually\" id=\"sk-estimator-id-320\" type=\"checkbox\" ><label for=\"sk-estimator-id-320\" class=\"sk-toggleable__label sk-toggleable__label-arrow\">RobustScaler</label><div class=\"sk-toggleable__content\"><pre>RobustScaler()</pre></div></div></div><div class=\"sk-item\"><div class=\"sk-estimator sk-toggleable\"><input class=\"sk-toggleable__control sk-hidden--visually\" id=\"sk-estimator-id-321\" type=\"checkbox\" ><label for=\"sk-estimator-id-321\" class=\"sk-toggleable__label sk-toggleable__label-arrow\">RandomUnderSampler</label><div class=\"sk-toggleable__content\"><pre>RandomUnderSampler(random_state=0)</pre></div></div></div><div class=\"sk-item\"><div class=\"sk-estimator sk-toggleable\"><input class=\"sk-toggleable__control sk-hidden--visually\" id=\"sk-estimator-id-322\" type=\"checkbox\" ><label for=\"sk-estimator-id-322\" class=\"sk-toggleable__label sk-toggleable__label-arrow\">LogisticRegression</label><div class=\"sk-toggleable__content\"><pre>LogisticRegression(C=100, random_state=0, solver=&#x27;liblinear&#x27;)</pre></div></div></div></div></div></div></div>"
      ],
      "text/plain": [
       "Pipeline(steps=[('preprocess',\n",
       "                 ColumnTransformer(remainder='passthrough',\n",
       "                                   transformers=[('onehot', OneHotEncoder(),\n",
       "                                                  ['Agency Type',\n",
       "                                                   'Distribution Channel']),\n",
       "                                                 ('binhot', BinaryEncoder(),\n",
       "                                                  ['Agency', 'Product Name',\n",
       "                                                   'Destination'])])),\n",
       "                ('scaler', RobustScaler()),\n",
       "                ('resampler', RandomUnderSampler(random_state=0)),\n",
       "                ('model',\n",
       "                 LogisticRegression(C=100, random_state=0,\n",
       "                                    solver='liblinear'))])"
      ]
     },
     "execution_count": 820,
     "metadata": {},
     "output_type": "execute_result"
    }
   ],
   "source": [
    "random_logreg.best_estimator_"
   ]
  },
  {
   "cell_type": "code",
   "execution_count": 821,
   "metadata": {},
   "outputs": [
    {
     "data": {
      "text/plain": [
       "0.8125"
      ]
     },
     "execution_count": 821,
     "metadata": {},
     "output_type": "execute_result"
    }
   ],
   "source": [
    "# define model\n",
    "model = random_logreg.best_estimator_\n",
    "\n",
    "# fitting\n",
    "model.fit(X_train, y_train)\n",
    "\n",
    "# predict \n",
    "y_pred_rf_tuning = model.predict(X_test)\n",
    "\n",
    "# evaluate (recall score)\n",
    "recall_score(y_test, y_pred_rf_tuning)"
   ]
  },
  {
   "cell_type": "markdown",
   "metadata": {},
   "source": [
    "**Interpretasi**\n",
    "\n",
    "- Hasil sebelum tuning test set sebesar 0.791\n",
    "- Hasil sesudah tuning test set sebesar 0.812\n",
    "- Hasil sebelum dan sesudah tuning test set mengalami peningkatan sebesar 0.021"
   ]
  },
  {
   "cell_type": "markdown",
   "metadata": {},
   "source": [
    "### **6.3 Final Model dan Model Interpretation**"
   ]
  },
  {
   "cell_type": "markdown",
   "metadata": {},
   "source": [
    "#### **6.3.1 Final Model**"
   ]
  },
  {
   "cell_type": "code",
   "execution_count": 822,
   "metadata": {},
   "outputs": [],
   "source": [
    "# final model\n",
    "final_model = random_logreg.best_estimator_"
   ]
  },
  {
   "cell_type": "markdown",
   "metadata": {},
   "source": [
    "**Interpretasi**\n",
    "\n",
    "logistic regression adalah metode analisis regresi memprediksi nilai dalam bentuk binary dari suatu variabel dependen berdasarkan nilai-nilai variabel independen. cara kerja Logistic regression memberikan hubungan antara dua variable menggunakan persamaan untuk menyusun plot grafik sepanjang sumbu x dan sumbu y dengan menempatkan nilai yang berbeda.\n",
    " [[Sumber](https://rifqimulyawan.com/kamus/logistic-regression/)] \n",
    "\n",
    "Cara Kerja Model 1:\n",
    "\n",
    "\n",
    "![](https://d1.awsstatic.com/sigmoid.bfc853980146c5868a496eafea4fb79907675f44.png)\n",
    "\n",
    "Keterangan:\n",
    "\n",
    "x : variabel independen, variabel prediktor, atau variabel eksplanatori karena memiliki nilai yang diketahui \n",
    " \n",
    "e : Nilai Explanatori. [[Sumber](https://aws.amazon.com/id/what-is/logistic-regression/)]\n",
    "\n",
    "Cara Kerja Model 2:\n",
    "\n",
    "y = β0 + β1x1 + β2x2+… βnxn [[Sumber](https://aws.amazon.com/id/what-is/logistic-regression/)]\n",
    "\n",
    "Keterangan:\n",
    "\n",
    "y : variabel dependen, variabel hasil, atau variabel respons karena nilainya tidak diketahui [[Sumber](https://aws.amazon.com/id/what-is/logistic-regression/)]\n",
    "\n",
    "β0: konstanta (intercept) dari model [[Sumber](https://rifqimulyawan.com/kamus/logistic-regression/)]\n",
    "\n",
    "β1, β2, …, βn: koefisien regresi dari masing-masing variabel [[Sumber](https://rifqimulyawan.com/kamus/logistic-regression/)]\n",
    "\n",
    "X1, X2, …, Xn: variabel independen yang digunakan dalam model [[Sumber](https://rifqimulyawan.com/kamus/logistic-regression/)]"
   ]
  },
  {
   "cell_type": "markdown",
   "metadata": {},
   "source": [
    "#### **6.3.2 Model Interpretation**"
   ]
  },
  {
   "cell_type": "markdown",
   "metadata": {},
   "source": [
    "##### **6.3.2.1 Feature Importance**"
   ]
  },
  {
   "cell_type": "code",
   "execution_count": 823,
   "metadata": {},
   "outputs": [
    {
     "data": {
      "text/plain": [
       "array([-0.71484631,  0.71484631,  0.73771966, -0.73771966, -1.17533768,\n",
       "       -2.70324028, -0.30740345, -0.65905887,  5.12116399,  0.58492679,\n",
       "        0.92925023, -0.57803965,  1.28260732, -4.84966317, -1.10576602,\n",
       "        0.01687352,  0.20095021, -0.07435376,  0.17143662,  0.27900501,\n",
       "        0.44748647, -0.74996983])"
      ]
     },
     "execution_count": 823,
     "metadata": {},
     "output_type": "execute_result"
    }
   ],
   "source": [
    "final_model.named_steps['model'].coef_[0]"
   ]
  },
  {
   "cell_type": "code",
   "execution_count": 824,
   "metadata": {},
   "outputs": [],
   "source": [
    "feature_onehot = list(final_model['preprocess'].transformers_[0][1].get_feature_names_out())\n",
    "feature_binhot = list(final_model['preprocess'].transformers_[1][1].get_feature_names_out())\n",
    "feature_remainder = list(X.columns[final_model['preprocess'].transformers_[2][2]])\n",
    "feature_names = feature_onehot + feature_binhot + feature_remainder"
   ]
  },
  {
   "cell_type": "code",
   "execution_count": 825,
   "metadata": {},
   "outputs": [
    {
     "data": {
      "text/html": [
       "<div>\n",
       "<style scoped>\n",
       "    .dataframe tbody tr th:only-of-type {\n",
       "        vertical-align: middle;\n",
       "    }\n",
       "\n",
       "    .dataframe tbody tr th {\n",
       "        vertical-align: top;\n",
       "    }\n",
       "\n",
       "    .dataframe thead th {\n",
       "        text-align: right;\n",
       "    }\n",
       "</style>\n",
       "<table border=\"1\" class=\"dataframe\">\n",
       "  <thead>\n",
       "    <tr style=\"text-align: right;\">\n",
       "      <th></th>\n",
       "      <th>features</th>\n",
       "      <th>importance</th>\n",
       "    </tr>\n",
       "  </thead>\n",
       "  <tbody>\n",
       "    <tr>\n",
       "      <th>8</th>\n",
       "      <td>Product Name_0</td>\n",
       "      <td>5.121164</td>\n",
       "    </tr>\n",
       "    <tr>\n",
       "      <th>12</th>\n",
       "      <td>Product Name_4</td>\n",
       "      <td>1.282607</td>\n",
       "    </tr>\n",
       "    <tr>\n",
       "      <th>10</th>\n",
       "      <td>Product Name_2</td>\n",
       "      <td>0.929250</td>\n",
       "    </tr>\n",
       "    <tr>\n",
       "      <th>2</th>\n",
       "      <td>Distribution Channel_Offline</td>\n",
       "      <td>0.737720</td>\n",
       "    </tr>\n",
       "    <tr>\n",
       "      <th>1</th>\n",
       "      <td>Agency Type_Travel Agency</td>\n",
       "      <td>0.714846</td>\n",
       "    </tr>\n",
       "    <tr>\n",
       "      <th>9</th>\n",
       "      <td>Product Name_1</td>\n",
       "      <td>0.584927</td>\n",
       "    </tr>\n",
       "    <tr>\n",
       "      <th>20</th>\n",
       "      <td>Net Sales</td>\n",
       "      <td>0.447486</td>\n",
       "    </tr>\n",
       "    <tr>\n",
       "      <th>19</th>\n",
       "      <td>Destination_6</td>\n",
       "      <td>0.279005</td>\n",
       "    </tr>\n",
       "    <tr>\n",
       "      <th>16</th>\n",
       "      <td>Destination_3</td>\n",
       "      <td>0.200950</td>\n",
       "    </tr>\n",
       "    <tr>\n",
       "      <th>18</th>\n",
       "      <td>Destination_5</td>\n",
       "      <td>0.171437</td>\n",
       "    </tr>\n",
       "    <tr>\n",
       "      <th>15</th>\n",
       "      <td>Destination_2</td>\n",
       "      <td>0.016874</td>\n",
       "    </tr>\n",
       "    <tr>\n",
       "      <th>17</th>\n",
       "      <td>Destination_4</td>\n",
       "      <td>-0.074354</td>\n",
       "    </tr>\n",
       "    <tr>\n",
       "      <th>6</th>\n",
       "      <td>Agency_2</td>\n",
       "      <td>-0.307403</td>\n",
       "    </tr>\n",
       "    <tr>\n",
       "      <th>11</th>\n",
       "      <td>Product Name_3</td>\n",
       "      <td>-0.578040</td>\n",
       "    </tr>\n",
       "    <tr>\n",
       "      <th>7</th>\n",
       "      <td>Agency_3</td>\n",
       "      <td>-0.659059</td>\n",
       "    </tr>\n",
       "    <tr>\n",
       "      <th>0</th>\n",
       "      <td>Agency Type_Airlines</td>\n",
       "      <td>-0.714846</td>\n",
       "    </tr>\n",
       "    <tr>\n",
       "      <th>3</th>\n",
       "      <td>Distribution Channel_Online</td>\n",
       "      <td>-0.737720</td>\n",
       "    </tr>\n",
       "    <tr>\n",
       "      <th>21</th>\n",
       "      <td>Commision (in value)</td>\n",
       "      <td>-0.749970</td>\n",
       "    </tr>\n",
       "    <tr>\n",
       "      <th>14</th>\n",
       "      <td>Destination_1</td>\n",
       "      <td>-1.105766</td>\n",
       "    </tr>\n",
       "    <tr>\n",
       "      <th>4</th>\n",
       "      <td>Agency_0</td>\n",
       "      <td>-1.175338</td>\n",
       "    </tr>\n",
       "    <tr>\n",
       "      <th>5</th>\n",
       "      <td>Agency_1</td>\n",
       "      <td>-2.703240</td>\n",
       "    </tr>\n",
       "    <tr>\n",
       "      <th>13</th>\n",
       "      <td>Destination_0</td>\n",
       "      <td>-4.849663</td>\n",
       "    </tr>\n",
       "  </tbody>\n",
       "</table>\n",
       "</div>"
      ],
      "text/plain": [
       "                        features  importance\n",
       "8                 Product Name_0    5.121164\n",
       "12                Product Name_4    1.282607\n",
       "10                Product Name_2    0.929250\n",
       "2   Distribution Channel_Offline    0.737720\n",
       "1      Agency Type_Travel Agency    0.714846\n",
       "9                 Product Name_1    0.584927\n",
       "20                     Net Sales    0.447486\n",
       "19                 Destination_6    0.279005\n",
       "16                 Destination_3    0.200950\n",
       "18                 Destination_5    0.171437\n",
       "15                 Destination_2    0.016874\n",
       "17                 Destination_4   -0.074354\n",
       "6                       Agency_2   -0.307403\n",
       "11                Product Name_3   -0.578040\n",
       "7                       Agency_3   -0.659059\n",
       "0           Agency Type_Airlines   -0.714846\n",
       "3    Distribution Channel_Online   -0.737720\n",
       "21          Commision (in value)   -0.749970\n",
       "14                 Destination_1   -1.105766\n",
       "4                       Agency_0   -1.175338\n",
       "5                       Agency_1   -2.703240\n",
       "13                 Destination_0   -4.849663"
      ]
     },
     "execution_count": 825,
     "metadata": {},
     "output_type": "execute_result"
    }
   ],
   "source": [
    "df_importances = pd.DataFrame({\n",
    "    'features' : feature_names,\n",
    "    'importance' : final_model.named_steps['model'].coef_[0]\n",
    "}).sort_values('importance', ascending=False)\n",
    "df_importances"
   ]
  },
  {
   "cell_type": "code",
   "execution_count": 826,
   "metadata": {},
   "outputs": [
    {
     "data": {
      "image/png": "[encoded data removed]",
      "text/plain": [
       "<Figure size 1700x1000 with 1 Axes>"
      ]
     },
     "metadata": {},
     "output_type": "display_data"
    }
   ],
   "source": [
    "plt.figure(figsize=(17,10))\n",
    "sns.barplot(data=df_importances.sort_values('importance', ascending=False), x='features', y='importance', color='b')\n",
    "plt.xticks(rotation=90)\n",
    "plt.show()"
   ]
  },
  {
   "cell_type": "markdown",
   "metadata": {},
   "source": [
    "**Interpretasi**\n",
    "\n",
    "- Bentuk Grafik diatas berdasarkan Nilai positif dan Nilai Negatif\n",
    "- Feature Importance paling penting adalah Product name_0 dan Destination_0\n",
    "- Feature Importance Tidak penting adalah Destination_2 dan Destination 4\n",
    "- Feature Importance tertinggi product name_0 sebesar 5.12\n",
    "- Feature Importance terendah Destination_2 sebesar 0.016"
   ]
  },
  {
   "cell_type": "markdown",
   "metadata": {},
   "source": [
    "##### **6.3.2.2 Confusion Matrix**"
   ]
  },
  {
   "cell_type": "code",
   "execution_count": 827,
   "metadata": {},
   "outputs": [
    {
     "name": "stdout",
     "output_type": "stream",
     "text": [
      "              precision    recall  f1-score   support\n",
      "\n",
      "           0       0.91      0.79      0.85       447\n",
      "           1       0.12      0.25      0.16        48\n",
      "\n",
      "    accuracy                           0.74       495\n",
      "   macro avg       0.51      0.52      0.50       495\n",
      "weighted avg       0.83      0.74      0.78       495\n",
      "\n"
     ]
    }
   ],
   "source": [
    "# print\n",
    "print(classification_report(y_test, y_pred))"
   ]
  },
  {
   "cell_type": "code",
   "execution_count": 828,
   "metadata": {},
   "outputs": [
    {
     "data": {
      "image/png": "[encoded data removed]",
      "text/plain": [
       "<Figure size 800x500 with 2 Axes>"
      ]
     },
     "metadata": {},
     "output_type": "display_data"
    }
   ],
   "source": [
    "f, ax = plt.subplots(figsize=(8, 5))\n",
    "sns.heatmap(confusion_matrix(y_test, y_pred), annot=True, fmt='.0f', ax=ax)\n",
    "plt.xlabel('Prediksi')\n",
    "plt.ylabel('Aktual');"
   ]
  },
  {
   "cell_type": "markdown",
   "metadata": {},
   "source": [
    "**Interpretasi**\n",
    "\n",
    "Berdasarkan confusion matrix pada test set di atas terlihat bahwa dengan model yang telah kita buat didapati:\n",
    "- Jumlah penumpang yang aktualnya klaim dan diprediksi akan klaim (True Positive) : 12 orang\n",
    "- Jumlah penumpang yang aktualnya klaim tetapi diprediksi tidak akan klaim (False Negative) : 36 orang\n",
    "- Jumlah penumpang yang aktualnya tidak klaim dan diprediksi tidak akan klaim (True Negative) : 355 orang\n",
    "- Jumlah penumpang yang aktualnya tidak klaim tetapi diprediksi akan klaim (False Positive) : 92 orang"
   ]
  },
  {
   "cell_type": "markdown",
   "metadata": {},
   "source": [
    "### **6.4 Cost Evaluation**"
   ]
  },
  {
   "cell_type": "markdown",
   "metadata": {},
   "source": [
    "_____"
   ]
  },
  {
   "cell_type": "markdown",
   "metadata": {},
   "source": [
    "Berdasarkan asumsi yang telah disampaikan pada bagian Business Understanding, kita asumsikan dampak biayanya sebagai berikut :\n",
    "- Biaya Net sales berdasarkan 5 % dari total kesuluruhan harga perjalanan per klaim dari satu calon penumpang\n",
    "- Biaya total kesuluruhan disini harga $ 3000\n",
    "\n",
    "Saat kita tidak menggunakan machine learning, kita tidak dapat memprediksi jumlah penumpang yang tidak klaim. Dampaknya adalah kita cenderung untuk memberi program retensi kepada seluruh pengguna asuransi perjalanan.\n",
    "\n",
    "Cost Estimation sebelum menggunakan machine learning\n",
    "\n",
    "Jumlah calon penumpang untuk dasar perhitungan :\n",
    "- calon penumpang yang diberikan program retensi = 495 orang\n",
    "- calon penumpang yang aktualnya klaim = 48 orang\n",
    "\n",
    "- 495 orang x 300 dollar sekali perjalanan + 48 orang x  300 dollar sekali perjalanan = ($ 148.500 + $ 14.400)sekali perjalanan = $ 162.990 sekali perjalanan\n",
    "\n",
    "Maka kerugiannya sekitar **$ 162.990 per perjalanan** bila kita tidak menggunakan machine learning.\n",
    "\n",
    "---\n",
    "\n",
    "Saat kita menggunakan machine learning, kita hanya menawarkan program retensi ke calon penumpang yang diprediksi tidak klaim.\n",
    "\n",
    "---\n",
    "\n",
    "\n",
    "Cost Estimation sesudah menggunakan machine learning\n",
    "\n",
    "Jumlah calon penumpang untuk dasar perhitungan :\n",
    "- calon penumpang yang kita berikan program retensi = TP + FN = 36 + 12 = 48 orang\n",
    "- calon penumpang yang aktualnya Claim = 48 orang\n",
    "\n",
    "\n",
    "- 48 orang x 300 dollar sekali perjalanan + 48 orang x 300 dollat sekali perjalanan = (14.400 +  14.400) dollar sekali perjalanan = $ 28.800 sekali perjalanan\n",
    "\n",
    "Penurunan mengurangi kerugian = 148.500 dollar -  28.800 dollar = 119.700 dollar sekali perjalanan\n",
    "\n",
    "**% Penurunan** =  119.700 dollar /  148.500 dollar  x 100 = **80.6%**\n",
    "\n",
    "Berdasarkan test set, model kita dapat menurunkan kerugian akibat tidak klaim hingga **80.6%** sekali perjalanan."
   ]
  },
  {
   "cell_type": "markdown",
   "metadata": {},
   "source": [
    "## **7. Limitasi Model**"
   ]
  },
  {
   "cell_type": "markdown",
   "metadata": {},
   "source": [
    "Berdasarkan asumsi yang telah disampaikan pada bagian Business Understanding, kita asumsikan dampak biayanya sebagai berikut :\n",
    "- Biaya Net sales berdasarkan 5 % dari total kesuluruhan harga perjalanan\n",
    "- Biaya total Perjalanan kesulurhan disini harga $ 3000\n",
    "\n",
    "**Interpretasi** \n",
    "\n",
    "limitasi model pada data set ini yaitu berdasarkan net sales, karena harga net sales bergantung pada 5% dari total kesuluruhan biaya perjalanan yang dikeluarkan oleh calon penumpang"
   ]
  },
  {
   "cell_type": "markdown",
   "metadata": {},
   "source": [
    "## **8. Kesimpulan**"
   ]
  },
  {
   "cell_type": "markdown",
   "metadata": {},
   "source": [
    "**Interpretasi Kesimpulan Data Understanding**\n",
    "\n",
    "- Dataset diatas terdiri dari 44328 baris dan 10 kolom\n",
    "- Tipe data terdiri dari objek, interger, dan float\n",
    "- Missing Value pada kolom Gender\n",
    "- Data duplikat sebesar 4667 baris\n",
    "- Statistik numerikal Count sebesar 44328 semua kolom\n",
    "- Statistik numerikal kolom Duration nilai mean dan std range 49 sampai 110\n",
    "- Statistik numerikal kolom Duration nilai min sampai max range -1 sampai dengan 4881.00\n",
    "- Statistik kategorikal kolom Agency nilai unique 16\n",
    "- Statistik kategorikal kolom Agency kata yang sering digunakan EPX\n",
    "- Statistik kategorikal kolom Agency jumlah frekuensi kata yang sering ada sebesar 24656\n",
    "\n",
    "\n",
    "**Interpretasi Kesimpulan EDA**\n",
    "\n",
    "- fitur numerikal terdiri dari age, commision(invalue), net sales dan duration \n",
    "- Berdasarkan grafik diatas data fitur numerikal, distribusi data tidak normal nilai pvalue <0.05 \n",
    "- Grafik diatas menggunakan boxplot dan histogram\n",
    "- Fitur kategorikal terdiri dari agency, agency type, distribution channel dan product name\n",
    "- Grafik agency tertinggi adalah EPX  \n",
    "- Grafik agency terendah adalah ADM\n",
    "- Grafik agency type tertinggi adalah Travel Agency\n",
    "- Grafik agency type terendah adalah Airlines\n",
    "- Grafik distribution name tertinggi adalah Online\n",
    "- Grafik distribution name terendah adalah Offline\n",
    "- Grafik product name tertinggi adalah Cancellation Plan\n",
    "- Grafik product name terendah adalah Travel Cruise Protect Family\n",
    "- Korelasi nilai lemah sebesar 0.30 dari hubungan Commision (in Value) dan net sales, nilai commision (in value) naik maka nilai net sales cukup naik\n",
    "- Korelasi nilai lemah sebesar -0.01 dari hubungan Age dan Duration, nilai Age naik maka nilai Duration cukup turun\n",
    "- Grafik hubungan claim antara duration, net sales, dan commision (in value) nilai tengah tertinggi adalah klaim yes \n",
    "- Grafik hubungan claim dan duration, net sales, dan commision (in value) nilai tengah terendah adalah klaim no \n",
    "- Grafik hubungan claim dan age nilai tengah sama tinggi antara klaim yes dan no \n",
    "- Grafik hubungan claim antara fitur kategorikal nilai median tertinggi adalah No\n",
    "- Grafik hubungan claim antara fitur kategorikal nilai median terendah adalah Yes\n",
    "\n",
    "**Interpretasi Kesimpulan Data Preprocessing**\n",
    "\n",
    "- Target modelling yaitu claim diubah awal tipe data string menjadi string angka 0 dan 1 dapat mempermudah saat modelling\n",
    "- Menghapus kolom 'gender' karena data kosong lebih dari 70% saya hilangkan, membuat model hasil data tidak stabil\n",
    "- Menghapus kolom 'duration' dihilangkan, membuat model hasil data tidak stabil\n",
    "- Menghapus Nilai 0 kolom net sales & commision (in value), saya berasumsi kemungkinan nilai tidak 0 & membuat model hasil data tidak stabil\n",
    "- Data duplikat 16204 dihilangkan karena saat modelling hasil kurang maksimal\n",
    "- Data sudah tidak ada duplikat\n",
    "- Nilai Outlier pada Net Sales, Commision (in value) dan claim sama, saya memustukan untuk tidak menghilangkan Outlier\n",
    "- Agency Type dan Distribution Channel saya masukkan kategori Onehot Encoder, karena kategori jumlah hanya 2 unique Data\n",
    "- Agency, Product Name dan Destination saya masukkan kategori binary Encoder, karena kategori banyak lebih dari jumlah 7 unique Data\n",
    "- Dataset ini distribusi tidak normal, maka scaling gunakan robust scaler untuk modelling sebelum tuning dan sesudah tuning\n",
    "- Dataset ini data tidak balance saya menggunakan resample melakukan modelling\n",
    "\n",
    "**Interpretasi Kesimpulan Data Splitting**\n",
    "\n",
    "- test size 0.2 yaitu mengtest data 20 persen dan mengtrain data 80 persen\n",
    "- random state 0 yaitu hasil output tidak random data \n",
    "- Stratify y yaitu data dalam bentuk dan klasifikasi maka perlu dilakukan stratify\n",
    "- Untuk feature saya menamai X terdiri dari agency, agency type, distribution channel, product name, destination, net sales, commision (in value), dan age\n",
    "- Untuk target saya menamai y adalah claim\n",
    "\n",
    "**Interpretasi Kesimpulan Model**\n",
    "\n",
    "- Model yang terbaik Logistic Regression\n",
    "- Nilai terbaik Train set sebelum tuning adalah 0.712\n",
    "- Nilai terbaik Train set setelah tuning adalah 0.733\n",
    "- Hasil sebelum tuning test set sebesar 0.791\n",
    "- Hasil sesudah tuning test set sebesar 0.812\n",
    "\n",
    "**Interpretasi Kesimpulan Final Model**\n",
    "\n",
    "Cara kerja Logistic regression memberikan hubungan antara dua variable menggunakan persamaan untuk menyusun plot grafik sepanjang sumbu x dan sumbu y dengan menempatkan nilai yang berbeda.\n",
    "\n",
    "**Interpretasi Kesimpulan Feature Importance**\n",
    "\n",
    "- Bentuk Grafik diatas berdasarkan Nilai positif dan Nilai Negatif\n",
    "- Feature Importance paling penting adalah Product name_0 dan Destination_0\n",
    "- Feature Importance Tidak penting adalah Destination_2 dan Destination 4\n",
    "- Feature Importance tertinggi product name_0 sebesar 5.12\n",
    "- Feature Importance terendah Destination_2 sebesar 0.016\n",
    "\n",
    "**Interpretasi Kesimpulan Confusion Matrix**\n",
    "\n",
    "- Jumlah penumpang yang aktualnya klaim dan diprediksi akan klaim (True Positive) : 12 orang\n",
    "- Jumlah penumpang yang aktualnya klaim tetapi diprediksi tidak akan klaim (False Negative) : 36 orang\n",
    "- Jumlah penumpang yang aktualnya tidak klaim dan diprediksi tidak akan klaim (True Negative) : 355 orang\n",
    "- Jumlah penumpang yang aktualnya tidak klaim tetapi diprediksi akan klaim (False Positive) : 92 orang\n",
    "\n",
    "**Interpretasi Kesimpulan Cost Evaluation**\n",
    "\n",
    "- Berdasarkan model yang terbaik kita dapat menghitung kerugian asuransi perjalanan yang prediksinya tidak klaim dapat menurunkan kerugian persentase sebesar **80.6%** sekali perjalanan.\n",
    "\n",
    "**Interpretasi Kesimpulan Limitasi Model** \n",
    "\n",
    "limitasi model pada data set ini yaitu berdasarkan net sales, karena harga net sales bergantung pada 5% dari total kesuluruhan biaya perjalanan yang dikeluarkan oleh calon penumpang\n",
    "\n"
   ]
  },
  {
   "cell_type": "markdown",
   "metadata": {},
   "source": [
    "## **9. Rekomendasi**"
   ]
  },
  {
   "cell_type": "markdown",
   "metadata": {},
   "source": [
    "**Interpretasi Rekomendasi Cost Evaluation dan Data Business Understanding**\n",
    "\n",
    "- Harga total perjalanan sangat berpengaruh untuk mengurangi kerugian dari asuransi, maka perlu menambahkan harga total perjalanan dalam dataset ini"
   ]
  },
  {
   "cell_type": "markdown",
   "metadata": {},
   "source": [
    "## **10. Save Model**\n"
   ]
  },
  {
   "cell_type": "code",
   "execution_count": 829,
   "metadata": {},
   "outputs": [],
   "source": [
    "import pickle"
   ]
  },
  {
   "cell_type": "code",
   "execution_count": 831,
   "metadata": {},
   "outputs": [],
   "source": [
    "# saving model\n",
    "\n",
    "# best model\n",
    "final_model = random_logreg.best_estimator_\n",
    "\n",
    "# fitting to all data\n",
    "final_model.fit(X, y)\n",
    "\n",
    "# save\n",
    "pickle.dump(final_model, open('Capstone_3_Model_Logistic_Regression_Classification.sav', 'wb'))"
   ]
  },
  {
   "cell_type": "markdown",
   "metadata": {},
   "source": [
    "**Interpretasi**\n",
    "\n",
    "- Mensave Model terbaik"
   ]
  }
 ],
 "metadata": {
  "kernelspec": {
   "display_name": "Python 3",
   "language": "python",
   "name": "python3"
  },
  "language_info": {
   "codemirror_mode": {
    "name": "ipython",
    "version": 3
   },
   "file_extension": ".py",
   "mimetype": "text/x-python",
   "name": "python",
   "nbconvert_exporter": "python",
   "pygments_lexer": "ipython3",
   "version": "3.11.4"
  },
  "orig_nbformat": 4
 },
 "nbformat": 4,
 "nbformat_minor": 2
}
